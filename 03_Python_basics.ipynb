{
 "cells": [
  {
   "cell_type": "markdown",
   "id": "894548f4",
   "metadata": {},
   "source": [
    "# Math library"
   ]
  },
  {
   "cell_type": "code",
   "execution_count": 2,
   "id": "dc816d69",
   "metadata": {},
   "outputs": [
    {
     "data": {
      "text/plain": [
       "2.718281828459045"
      ]
     },
     "execution_count": 2,
     "metadata": {},
     "output_type": "execute_result"
    }
   ],
   "source": [
    "import math\n",
    "math.e"
   ]
  },
  {
   "cell_type": "code",
   "execution_count": 4,
   "id": "33450cbb",
   "metadata": {},
   "outputs": [
    {
     "data": {
      "text/plain": [
       "10.0"
      ]
     },
     "execution_count": 4,
     "metadata": {},
     "output_type": "execute_result"
    }
   ],
   "source": [
    "# you may accidently overwrite these math constants so be careful of that.\n",
    "math.sqrt(100)"
   ]
  },
  {
   "cell_type": "markdown",
   "id": "b7ff2d05",
   "metadata": {},
   "source": [
    "# function parameters"
   ]
  },
  {
   "cell_type": "code",
   "execution_count": 6,
   "id": "f3f466b1",
   "metadata": {},
   "outputs": [
    {
     "name": "stdout",
     "output_type": "stream",
     "text": [
      "are of rectangle_area() is 1\n",
      "are of rectangle_area(10, 20) is 200\n"
     ]
    }
   ],
   "source": [
    "# Function with default parameters\n",
    "def rectangle_area(length=1, width=1):\n",
    "    return length * width\n",
    "\n",
    "print(f\"are of rectangle_area() is {rectangle_area()}\") # no args\n",
    "print(f\"are of rectangle_area(10, 20) is {rectangle_area(10, 20)}\")"
   ]
  },
  {
   "cell_type": "code",
   "execution_count": 14,
   "id": "31912bdd",
   "metadata": {},
   "outputs": [
    {
     "name": "stdout",
     "output_type": "stream",
     "text": [
      "50\n",
      "10\n",
      "1\n",
      "10\n",
      "20\n"
     ]
    }
   ],
   "source": [
    "# keyword arguments\n",
    "# do not provide any default value if the parameter is required.\n",
    "# Also required argument should be the first and then default value\n",
    "# parameters.\n",
    "\n",
    "def rectangle_area(length=1, width=1):\n",
    "    return length * width\n",
    "\n",
    "print(rectangle_area(length=10, width=5))\n",
    "print(rectangle_area(width=2, length=5))\n",
    "print(rectangle_area())\n",
    "print(rectangle_area(width=10)) # only passing one value other is default\n",
    "print(rectangle_area(length=20))# only passing one value other is default"
   ]
  },
  {
   "cell_type": "code",
   "execution_count": 15,
   "id": "852c6956",
   "metadata": {},
   "outputs": [
    {
     "data": {
      "text/plain": [
       "17.666666666666668"
      ]
     },
     "execution_count": 15,
     "metadata": {},
     "output_type": "execute_result"
    }
   ],
   "source": [
    "# *args is tuple\n",
    "# *args should be last argument\n",
    "def average(*args):\n",
    "    return sum(args)/len(args)\n",
    "\n",
    "average(10,28,15)"
   ]
  },
  {
   "cell_type": "code",
   "execution_count": 16,
   "id": "f2e41946",
   "metadata": {},
   "outputs": [
    {
     "data": {
      "text/plain": [
       "66.6"
      ]
     },
     "execution_count": 16,
     "metadata": {},
     "output_type": "execute_result"
    }
   ],
   "source": [
    "# in this case * is unpacking tuple and passing it to function.\n",
    "grades = [88, 98, 45, 66, 36]\n",
    "average(*grades)"
   ]
  },
  {
   "cell_type": "code",
   "execution_count": 24,
   "id": "94bd2543",
   "metadata": {},
   "outputs": [
    {
     "name": "stdout",
     "output_type": "stream",
     "text": [
      "6000\n",
      "15\n"
     ]
    }
   ],
   "source": [
    "# *range unpacks the list provided by range function.\n",
    "def calculate_product(*args):\n",
    "    product = 1\n",
    "    for value in args:\n",
    "        product *= value\n",
    "    return product\n",
    "\n",
    "print(calculate_product(10, 20, 30))\n",
    "print(calculate_product(*range(1, 6, 2)))\n"
   ]
  },
  {
   "cell_type": "code",
   "execution_count": null,
   "id": "03157be2",
   "metadata": {},
   "outputs": [],
   "source": []
  }
 ],
 "metadata": {
  "kernelspec": {
   "display_name": "Python 3",
   "language": "python",
   "name": "python3"
  },
  "language_info": {
   "codemirror_mode": {
    "name": "ipython",
    "version": 3
   },
   "file_extension": ".py",
   "mimetype": "text/x-python",
   "name": "python",
   "nbconvert_exporter": "python",
   "pygments_lexer": "ipython3",
   "version": "3.8.10"
  }
 },
 "nbformat": 4,
 "nbformat_minor": 5
}
