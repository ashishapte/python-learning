{
 "cells": [
  {
   "cell_type": "code",
   "execution_count": 1,
   "id": "08f31c3d",
   "metadata": {},
   "outputs": [],
   "source": [
    "# Regular expressions\n",
    "# Repositiories\n",
    "# https://regex101.com\n",
    "# http://www.regexlib.com\n",
    "# https://www.regular-expression.info\n"
   ]
  },
  {
   "cell_type": "code",
   "execution_count": 2,
   "id": "e1b39c18",
   "metadata": {},
   "outputs": [],
   "source": [
    "import re"
   ]
  },
  {
   "cell_type": "code",
   "execution_count": 3,
   "id": "2d24060c",
   "metadata": {},
   "outputs": [],
   "source": [
    "pattern = '02215'"
   ]
  },
  {
   "cell_type": "code",
   "execution_count": 4,
   "id": "e81ae8ae",
   "metadata": {},
   "outputs": [
    {
     "data": {
      "text/plain": [
       "'Match'"
      ]
     },
     "execution_count": 4,
     "metadata": {},
     "output_type": "execute_result"
    }
   ],
   "source": [
    "#fullmatch\n",
    "'Match' if re.fullmatch(pattern, '02215') else 'No Match'"
   ]
  },
  {
   "cell_type": "code",
   "execution_count": 6,
   "id": "2977f74e",
   "metadata": {},
   "outputs": [
    {
     "data": {
      "text/plain": [
       "'No Match'"
      ]
     },
     "execution_count": 6,
     "metadata": {},
     "output_type": "execute_result"
    }
   ],
   "source": [
    "'Match' if re.fullmatch(pattern, '51022') else 'No Match'"
   ]
  },
  {
   "cell_type": "code",
   "execution_count": null,
   "id": "958f1720",
   "metadata": {},
   "outputs": [],
   "source": [
    "# RE meta characters \n",
    "# [] {} () \\ * + ^ $ ? . | \n"
   ]
  },
  {
   "cell_type": "code",
   "execution_count": 10,
   "id": "426ebe28",
   "metadata": {},
   "outputs": [
    {
     "data": {
      "text/plain": [
       "'Valid'"
      ]
     },
     "execution_count": 10,
     "metadata": {},
     "output_type": "execute_result"
    }
   ],
   "source": [
    "# \\d is character class for any one digit. {5} is quantifier - consequtive 5 digits\n",
    "'Valid' if re.fullmatch(r'\\d{5}', '02215') else 'Invalid'"
   ]
  },
  {
   "cell_type": "code",
   "execution_count": 11,
   "id": "a568e04e",
   "metadata": {},
   "outputs": [
    {
     "data": {
      "text/plain": [
       "'Invalid'"
      ]
     },
     "execution_count": 11,
     "metadata": {},
     "output_type": "execute_result"
    }
   ],
   "source": [
    "'Valid' if re.fullmatch(r'\\d{5}', '0221') else 'Invalid'"
   ]
  },
  {
   "cell_type": "code",
   "execution_count": null,
   "id": "588c041f",
   "metadata": {},
   "outputs": [],
   "source": [
    "# \\d = any digit (0-9)\n",
    "# \\D = any character that is not a digit\n",
    "# \\s = Any whilespace char (such as spaces, tabs and newlines)\n",
    "# \\S = Any char that is not a whitespace char\n",
    "# \\w - Any word char (also called as alphanumeric char)\n",
    "# \\W - any character that is not a word character\n",
    "# [A-Z] - Custom char class with all captial letters A to Z\n",
    "# [a-z] - Custom char class with all captial letters a to z\n",
    "# [A-Z]* - '*' is a quantifier applies to immediately left to it\n",
    "# '*' - zero or more of of left side class\n"
   ]
  },
  {
   "cell_type": "code",
   "execution_count": 12,
   "id": "9f2d6cf1",
   "metadata": {},
   "outputs": [
    {
     "data": {
      "text/plain": [
       "'Valid'"
      ]
     },
     "execution_count": 12,
     "metadata": {},
     "output_type": "execute_result"
    }
   ],
   "source": [
    "'Valid' if re.fullmatch('[A-Z][a-z]*', 'Wally') else 'Invalid'"
   ]
  },
  {
   "cell_type": "code",
   "execution_count": 15,
   "id": "ed2325cc",
   "metadata": {},
   "outputs": [
    {
     "data": {
      "text/plain": [
       "'Valid'"
      ]
     },
     "execution_count": 15,
     "metadata": {},
     "output_type": "execute_result"
    }
   ],
   "source": [
    "# ^ does not match specified character class\n",
    "# so in this case not small case\n",
    "'Valid' if re.fullmatch('[^a-z]', 'A') else 'Invalid'"
   ]
  },
  {
   "cell_type": "code",
   "execution_count": 20,
   "id": "e4177316",
   "metadata": {},
   "outputs": [
    {
     "data": {
      "text/plain": [
       "'Valid'"
      ]
     },
     "execution_count": 20,
     "metadata": {},
     "output_type": "execute_result"
    }
   ],
   "source": [
    "# [*+$] is custom char class with each symbol treated as literal char\n",
    "'Valid' if re.fullmatch('[*+$]', '*') else 'Invalid'"
   ]
  },
  {
   "cell_type": "code",
   "execution_count": 21,
   "id": "e22ba819",
   "metadata": {},
   "outputs": [
    {
     "data": {
      "text/plain": [
       "'Invalid'"
      ]
     },
     "execution_count": 21,
     "metadata": {},
     "output_type": "execute_result"
    }
   ],
   "source": [
    "'Valid' if re.fullmatch('[*+$]', '!') else 'Invalid'"
   ]
  },
  {
   "cell_type": "code",
   "execution_count": 22,
   "id": "d0c80593",
   "metadata": {},
   "outputs": [
    {
     "data": {
      "text/plain": [
       "'Valid'"
      ]
     },
     "execution_count": 22,
     "metadata": {},
     "output_type": "execute_result"
    }
   ],
   "source": [
    "# * zero or more\n",
    "# + at least one\n",
    "# * and + are called greedy quantifiers - they try to match as many chars as possible\n",
    "# in this case patter says - starts with capital letter and at least one lower case letter\n",
    "'Valid' if re.fullmatch('[A-Z][a-z]+', 'Wally') else 'Invalid'"
   ]
  },
  {
   "cell_type": "code",
   "execution_count": 23,
   "id": "9788eda9",
   "metadata": {},
   "outputs": [
    {
     "data": {
      "text/plain": [
       "'Invalid'"
      ]
     },
     "execution_count": 23,
     "metadata": {},
     "output_type": "execute_result"
    }
   ],
   "source": [
    "'Valid' if re.fullmatch('[A-Z][a-z]+', 'E') else 'Invalid'"
   ]
  },
  {
   "cell_type": "code",
   "execution_count": 25,
   "id": "dede89ab",
   "metadata": {},
   "outputs": [
    {
     "data": {
      "text/plain": [
       "'Valid'"
      ]
     },
     "execution_count": 25,
     "metadata": {},
     "output_type": "execute_result"
    }
   ],
   "source": [
    "# ? - matches 0 or one\n",
    "# matches either one l or two ls (US and UK english)\n",
    "'Valid' if re.fullmatch('labell?ed', 'labelled') else 'Invalid'"
   ]
  },
  {
   "cell_type": "code",
   "execution_count": 26,
   "id": "7f0c943e",
   "metadata": {},
   "outputs": [
    {
     "data": {
      "text/plain": [
       "'Valid'"
      ]
     },
     "execution_count": 26,
     "metadata": {},
     "output_type": "execute_result"
    }
   ],
   "source": [
    "'Valid' if re.fullmatch('labell?ed', 'labeled') else 'Invalid'"
   ]
  },
  {
   "cell_type": "code",
   "execution_count": 27,
   "id": "a0cfb94a",
   "metadata": {},
   "outputs": [
    {
     "data": {
      "text/plain": [
       "'Invalid'"
      ]
     },
     "execution_count": 27,
     "metadata": {},
     "output_type": "execute_result"
    }
   ],
   "source": [
    "'Valid' if re.fullmatch('labell?ed', 'labellled') else 'Invalid'"
   ]
  },
  {
   "cell_type": "code",
   "execution_count": 29,
   "id": "33903748",
   "metadata": {},
   "outputs": [
    {
     "data": {
      "text/plain": [
       "'Valid'"
      ]
     },
     "execution_count": 29,
     "metadata": {},
     "output_type": "execute_result"
    }
   ],
   "source": [
    "# {3,} - atleast 3 in a row of previous char class\n",
    "'Valid' if re.fullmatch(r'\\d{3,}', '123') else 'Invalid'"
   ]
  },
  {
   "cell_type": "code",
   "execution_count": 30,
   "id": "0a8effc6",
   "metadata": {},
   "outputs": [
    {
     "data": {
      "text/plain": [
       "'Valid'"
      ]
     },
     "execution_count": 30,
     "metadata": {},
     "output_type": "execute_result"
    }
   ],
   "source": [
    "'Valid' if re.fullmatch(r'\\d{3,}', '1235665') else 'Invalid'"
   ]
  },
  {
   "cell_type": "code",
   "execution_count": 32,
   "id": "10d5c9d6",
   "metadata": {},
   "outputs": [
    {
     "data": {
      "text/plain": [
       "'Invalid'"
      ]
     },
     "execution_count": 32,
     "metadata": {},
     "output_type": "execute_result"
    }
   ],
   "source": [
    "'Valid' if re.fullmatch(r'\\d{3,}', '12') else 'Invalid'"
   ]
  },
  {
   "cell_type": "code",
   "execution_count": 34,
   "id": "ee3e1c1a",
   "metadata": {},
   "outputs": [
    {
     "data": {
      "text/plain": [
       "'Valid'"
      ]
     },
     "execution_count": 34,
     "metadata": {},
     "output_type": "execute_result"
    }
   ],
   "source": [
    "# {3,6} - at least 3 up to 6\n",
    "'Valid' if re.fullmatch(r'\\d{3,6}', '1235') else 'Invalid'"
   ]
  },
  {
   "cell_type": "code",
   "execution_count": 35,
   "id": "025d80ce",
   "metadata": {},
   "outputs": [
    {
     "data": {
      "text/plain": [
       "'Invalid'"
      ]
     },
     "execution_count": 35,
     "metadata": {},
     "output_type": "execute_result"
    }
   ],
   "source": [
    "'Valid' if re.fullmatch(r'\\d{3,6}', '1235888') else 'Invalid'"
   ]
  },
  {
   "cell_type": "code",
   "execution_count": 38,
   "id": "bf4f0259",
   "metadata": {},
   "outputs": [
    {
     "data": {
      "text/plain": [
       "'Valid'"
      ]
     },
     "execution_count": 38,
     "metadata": {},
     "output_type": "execute_result"
    }
   ],
   "source": [
    "'Valid' if re.fullmatch(r'\\d+ [A-Z][a-z]* [A-Z][a-z]*', '123 Main Street') else 'Invalid'"
   ]
  }
 ],
 "metadata": {
  "kernelspec": {
   "display_name": "Python 3",
   "language": "python",
   "name": "python3"
  },
  "language_info": {
   "codemirror_mode": {
    "name": "ipython",
    "version": 3
   },
   "file_extension": ".py",
   "mimetype": "text/x-python",
   "name": "python",
   "nbconvert_exporter": "python",
   "pygments_lexer": "ipython3",
   "version": "3.8.10"
  }
 },
 "nbformat": 4,
 "nbformat_minor": 5
}
