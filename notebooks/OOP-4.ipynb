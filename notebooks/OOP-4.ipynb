{
 "cells": [
  {
   "cell_type": "code",
   "execution_count": 1,
   "id": "b06bbdbb",
   "metadata": {},
   "outputs": [],
   "source": [
    "# Class attributes and Instance Attributes\n",
    "# Class attributes belongs to class and not to instance.\n",
    "# Class attributes are shared among all instances of the class.\n",
    "# they are defined at the start of the class definition and before even init method.\n",
    "# Instance attributes are stored in the object or instance and they are different for each instance.\n"
   ]
  },
  {
   "cell_type": "code",
   "execution_count": 2,
   "id": "898b481c",
   "metadata": {},
   "outputs": [],
   "source": [
    "# if attribute is in CAPS then it is meant to be constant. \n",
    "# so programmer should not touch those attributes.\n",
    "# Nothing is constant in python , but this is a message to programmer that they need to treat this as constant.b"
   ]
  },
  {
   "cell_type": "code",
   "execution_count": 3,
   "id": "245c65b5",
   "metadata": {},
   "outputs": [],
   "source": [
    "from modules.card import Card"
   ]
  },
  {
   "cell_type": "code",
   "execution_count": 4,
   "id": "d81f90c9",
   "metadata": {},
   "outputs": [],
   "source": [
    "c = Card('Ace', 'Hearts')"
   ]
  },
  {
   "cell_type": "code",
   "execution_count": 5,
   "id": "ed96a2f2",
   "metadata": {},
   "outputs": [
    {
     "data": {
      "text/plain": [
       "'Ace of Hearts'"
      ]
     },
     "execution_count": 5,
     "metadata": {},
     "output_type": "execute_result"
    }
   ],
   "source": [
    "str(c)"
   ]
  },
  {
   "cell_type": "code",
   "execution_count": 6,
   "id": "4a000080",
   "metadata": {},
   "outputs": [
    {
     "data": {
      "text/plain": [
       "['Ace', '2', '3', '4', '5', '6', '7', '8', '9', '10', 'Jack', 'Queen', 'King']"
      ]
     },
     "execution_count": 6,
     "metadata": {},
     "output_type": "execute_result"
    }
   ],
   "source": [
    "c.FACES"
   ]
  },
  {
   "cell_type": "code",
   "execution_count": 7,
   "id": "edc1c65f",
   "metadata": {},
   "outputs": [],
   "source": [
    "count = 8"
   ]
  },
  {
   "cell_type": "code",
   "execution_count": 8,
   "id": "15ffddf0",
   "metadata": {},
   "outputs": [
    {
     "data": {
      "text/plain": [
       "0"
      ]
     },
     "execution_count": 8,
     "metadata": {},
     "output_type": "execute_result"
    }
   ],
   "source": [
    "count // 14  # floor Division"
   ]
  },
  {
   "cell_type": "code",
   "execution_count": 9,
   "id": "fa865f3c",
   "metadata": {},
   "outputs": [
    {
     "data": {
      "text/plain": [
       "8"
      ]
     },
     "execution_count": 9,
     "metadata": {},
     "output_type": "execute_result"
    }
   ],
   "source": [
    "count % 13 # remainder "
   ]
  },
  {
   "cell_type": "code",
   "execution_count": 10,
   "id": "2538dab3",
   "metadata": {},
   "outputs": [],
   "source": [
    "from modules.deck import DeckOfCards"
   ]
  },
  {
   "cell_type": "code",
   "execution_count": 11,
   "id": "06aa4d40",
   "metadata": {},
   "outputs": [
    {
     "data": {
      "text/plain": [
       "'Ace of Hearts'"
      ]
     },
     "execution_count": 11,
     "metadata": {},
     "output_type": "execute_result"
    }
   ],
   "source": [
    "\n",
    "str(c)"
   ]
  },
  {
   "cell_type": "code",
   "execution_count": 15,
   "id": "24b4d06e",
   "metadata": {},
   "outputs": [],
   "source": [
    "deck_of_cards = DeckOfCards()"
   ]
  },
  {
   "cell_type": "code",
   "execution_count": 16,
   "id": "a3135219",
   "metadata": {},
   "outputs": [
    {
     "name": "stdout",
     "output_type": "stream",
     "text": [
      "Ace of Hearts      2 of Hearts        3 of Hearts        4 of Hearts        \n",
      "5 of Hearts        6 of Hearts        7 of Hearts        8 of Hearts        \n",
      "9 of Hearts        10 of Hearts       Jack of Hearts     Queen of Hearts    \n",
      "King of Hearts     Ace of Diamonds    2 of Diamonds      3 of Diamonds      \n",
      "4 of Diamonds      5 of Diamonds      6 of Diamonds      7 of Diamonds      \n",
      "8 of Diamonds      9 of Diamonds      10 of Diamonds     Jack of Diamonds   \n",
      "Queen of Diamonds  King of Diamonds   Ace of Clubs       2 of Clubs         \n",
      "3 of Clubs         4 of Clubs         5 of Clubs         6 of Clubs         \n",
      "7 of Clubs         8 of Clubs         9 of Clubs         10 of Clubs        \n",
      "Jack of Clubs      Queen of Clubs     King of Clubs      Ace of Spades      \n",
      "2 of Spades        3 of Spades        4 of Spades        5 of Spades        \n",
      "6 of Spades        7 of Spades        8 of Spades        9 of Spades        \n",
      "10 of Spades       Jack of Spades     Queen of Spades    King of Spades     \n",
      "\n"
     ]
    }
   ],
   "source": [
    "print(deck_of_cards)"
   ]
  },
  {
   "cell_type": "code",
   "execution_count": 18,
   "id": "b9372f2a",
   "metadata": {},
   "outputs": [
    {
     "data": {
      "text/plain": [
       "[Card(face='Ace', suit='Hearts'),\n",
       " Card(face='2', suit='Hearts'),\n",
       " Card(face='3', suit='Hearts'),\n",
       " Card(face='4', suit='Hearts'),\n",
       " Card(face='5', suit='Hearts'),\n",
       " Card(face='6', suit='Hearts'),\n",
       " Card(face='7', suit='Hearts'),\n",
       " Card(face='8', suit='Hearts'),\n",
       " Card(face='9', suit='Hearts'),\n",
       " Card(face='10', suit='Hearts'),\n",
       " Card(face='Jack', suit='Hearts'),\n",
       " Card(face='Queen', suit='Hearts'),\n",
       " Card(face='King', suit='Hearts'),\n",
       " Card(face='Ace', suit='Diamonds'),\n",
       " Card(face='2', suit='Diamonds'),\n",
       " Card(face='3', suit='Diamonds'),\n",
       " Card(face='4', suit='Diamonds'),\n",
       " Card(face='5', suit='Diamonds'),\n",
       " Card(face='6', suit='Diamonds'),\n",
       " Card(face='7', suit='Diamonds'),\n",
       " Card(face='8', suit='Diamonds'),\n",
       " Card(face='9', suit='Diamonds'),\n",
       " Card(face='10', suit='Diamonds'),\n",
       " Card(face='Jack', suit='Diamonds'),\n",
       " Card(face='Queen', suit='Diamonds'),\n",
       " Card(face='King', suit='Diamonds'),\n",
       " Card(face='Ace', suit='Clubs'),\n",
       " Card(face='2', suit='Clubs'),\n",
       " Card(face='3', suit='Clubs'),\n",
       " Card(face='4', suit='Clubs'),\n",
       " Card(face='5', suit='Clubs'),\n",
       " Card(face='6', suit='Clubs'),\n",
       " Card(face='7', suit='Clubs'),\n",
       " Card(face='8', suit='Clubs'),\n",
       " Card(face='9', suit='Clubs'),\n",
       " Card(face='10', suit='Clubs'),\n",
       " Card(face='Jack', suit='Clubs'),\n",
       " Card(face='Queen', suit='Clubs'),\n",
       " Card(face='King', suit='Clubs'),\n",
       " Card(face='Ace', suit='Spades'),\n",
       " Card(face='2', suit='Spades'),\n",
       " Card(face='3', suit='Spades'),\n",
       " Card(face='4', suit='Spades'),\n",
       " Card(face='5', suit='Spades'),\n",
       " Card(face='6', suit='Spades'),\n",
       " Card(face='7', suit='Spades'),\n",
       " Card(face='8', suit='Spades'),\n",
       " Card(face='9', suit='Spades'),\n",
       " Card(face='10', suit='Spades'),\n",
       " Card(face='Jack', suit='Spades'),\n",
       " Card(face='Queen', suit='Spades'),\n",
       " Card(face='King', suit='Spades')]"
      ]
     },
     "execution_count": 18,
     "metadata": {},
     "output_type": "execute_result"
    }
   ],
   "source": [
    "deck_of_cards._deck"
   ]
  },
  {
   "cell_type": "code",
   "execution_count": null,
   "id": "d0b699e7",
   "metadata": {},
   "outputs": [],
   "source": []
  }
 ],
 "metadata": {
  "kernelspec": {
   "display_name": "Python 3",
   "language": "python",
   "name": "python3"
  },
  "language_info": {
   "codemirror_mode": {
    "name": "ipython",
    "version": 3
   },
   "file_extension": ".py",
   "mimetype": "text/x-python",
   "name": "python",
   "nbconvert_exporter": "python",
   "pygments_lexer": "ipython3",
   "version": "3.8.10"
  }
 },
 "nbformat": 4,
 "nbformat_minor": 5
}
