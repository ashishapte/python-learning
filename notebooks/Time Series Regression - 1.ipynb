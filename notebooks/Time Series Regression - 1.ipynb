{
 "cells": [
  {
   "cell_type": "markdown",
   "id": "34ea2201",
   "metadata": {},
   "source": [
    "Time Series :\n",
    " Sequence of values associated with points in the time\n",
    " simple linear regression - make predictions from time series data\n",
    "\n",
    "Types:\n",
    "    Univariate time series - have one observation per time\n",
    "    Multivariate time series - have two or more observations per time.\n",
    "    Time series analysis - \n",
    "        - look for seasonality in the data for patterns - e.g. monthly high temp based on seasons (winter, spring etc)\n",
    "        - Time series forcasting\n",
    "        "
   ]
  },
  {
   "cell_type": "markdown",
   "id": "77e06937",
   "metadata": {},
   "source": [
    "Linear regression is finding linear relationships between the months and average high temperatures\n",
    "Independent variable - the month/year combination\n",
    "dependent variable - the average high temperature for the month/year\n",
    "Simple linear regression describes relationshop between thee variables with straight line, known as regression line.\n"
   ]
  },
  {
   "cell_type": "code",
   "execution_count": 3,
   "id": "16014462",
   "metadata": {},
   "outputs": [],
   "source": [
    "# Example of linear plot with matplotlib and pandas\n",
    "%matplotlib inline"
   ]
  },
  {
   "cell_type": "code",
   "execution_count": 4,
   "id": "7c4c6f4b",
   "metadata": {},
   "outputs": [],
   "source": [
    "c= lambda f: 5/9 * (f - 32)"
   ]
  },
  {
   "cell_type": "code",
   "execution_count": 5,
   "id": "76f59893",
   "metadata": {},
   "outputs": [],
   "source": [
    "temps = [(f, c(f)) for f in range(0, 101, 10)]"
   ]
  },
  {
   "cell_type": "code",
   "execution_count": 6,
   "id": "1007339f",
   "metadata": {},
   "outputs": [
    {
     "data": {
      "text/plain": [
       "[(0, -17.77777777777778),\n",
       " (10, -12.222222222222223),\n",
       " (20, -6.666666666666667),\n",
       " (30, -1.1111111111111112),\n",
       " (40, 4.444444444444445),\n",
       " (50, 10.0),\n",
       " (60, 15.555555555555557),\n",
       " (70, 21.11111111111111),\n",
       " (80, 26.666666666666668),\n",
       " (90, 32.22222222222222),\n",
       " (100, 37.77777777777778)]"
      ]
     },
     "execution_count": 6,
     "metadata": {},
     "output_type": "execute_result"
    }
   ],
   "source": [
    "temps"
   ]
  },
  {
   "cell_type": "code",
   "execution_count": 7,
   "id": "2e4ee099",
   "metadata": {},
   "outputs": [],
   "source": [
    "import pandas as pd"
   ]
  },
  {
   "cell_type": "code",
   "execution_count": 8,
   "id": "9de702e2",
   "metadata": {},
   "outputs": [],
   "source": [
    "temps_df = pd.DataFrame(temps, columns=['Fahrenheit','Celsius'])"
   ]
  },
  {
   "cell_type": "code",
   "execution_count": 9,
   "id": "59e64703",
   "metadata": {},
   "outputs": [
    {
     "data": {
      "text/html": [
       "<div>\n",
       "<style scoped>\n",
       "    .dataframe tbody tr th:only-of-type {\n",
       "        vertical-align: middle;\n",
       "    }\n",
       "\n",
       "    .dataframe tbody tr th {\n",
       "        vertical-align: top;\n",
       "    }\n",
       "\n",
       "    .dataframe thead th {\n",
       "        text-align: right;\n",
       "    }\n",
       "</style>\n",
       "<table border=\"1\" class=\"dataframe\">\n",
       "  <thead>\n",
       "    <tr style=\"text-align: right;\">\n",
       "      <th></th>\n",
       "      <th>Fahrenheit</th>\n",
       "      <th>Celsius</th>\n",
       "    </tr>\n",
       "  </thead>\n",
       "  <tbody>\n",
       "    <tr>\n",
       "      <th>0</th>\n",
       "      <td>0</td>\n",
       "      <td>-17.777778</td>\n",
       "    </tr>\n",
       "    <tr>\n",
       "      <th>1</th>\n",
       "      <td>10</td>\n",
       "      <td>-12.222222</td>\n",
       "    </tr>\n",
       "    <tr>\n",
       "      <th>2</th>\n",
       "      <td>20</td>\n",
       "      <td>-6.666667</td>\n",
       "    </tr>\n",
       "    <tr>\n",
       "      <th>3</th>\n",
       "      <td>30</td>\n",
       "      <td>-1.111111</td>\n",
       "    </tr>\n",
       "    <tr>\n",
       "      <th>4</th>\n",
       "      <td>40</td>\n",
       "      <td>4.444444</td>\n",
       "    </tr>\n",
       "    <tr>\n",
       "      <th>5</th>\n",
       "      <td>50</td>\n",
       "      <td>10.000000</td>\n",
       "    </tr>\n",
       "    <tr>\n",
       "      <th>6</th>\n",
       "      <td>60</td>\n",
       "      <td>15.555556</td>\n",
       "    </tr>\n",
       "    <tr>\n",
       "      <th>7</th>\n",
       "      <td>70</td>\n",
       "      <td>21.111111</td>\n",
       "    </tr>\n",
       "    <tr>\n",
       "      <th>8</th>\n",
       "      <td>80</td>\n",
       "      <td>26.666667</td>\n",
       "    </tr>\n",
       "    <tr>\n",
       "      <th>9</th>\n",
       "      <td>90</td>\n",
       "      <td>32.222222</td>\n",
       "    </tr>\n",
       "    <tr>\n",
       "      <th>10</th>\n",
       "      <td>100</td>\n",
       "      <td>37.777778</td>\n",
       "    </tr>\n",
       "  </tbody>\n",
       "</table>\n",
       "</div>"
      ],
      "text/plain": [
       "    Fahrenheit    Celsius\n",
       "0            0 -17.777778\n",
       "1           10 -12.222222\n",
       "2           20  -6.666667\n",
       "3           30  -1.111111\n",
       "4           40   4.444444\n",
       "5           50  10.000000\n",
       "6           60  15.555556\n",
       "7           70  21.111111\n",
       "8           80  26.666667\n",
       "9           90  32.222222\n",
       "10         100  37.777778"
      ]
     },
     "execution_count": 9,
     "metadata": {},
     "output_type": "execute_result"
    }
   ],
   "source": [
    "temps_df"
   ]
  },
  {
   "cell_type": "code",
   "execution_count": 10,
   "id": "c4e0aa77",
   "metadata": {},
   "outputs": [
    {
     "data": {
      "image/png": "[encoded data removed]",
      "text/plain": [
       "<Figure size 432x288 with 1 Axes>"
      ]
     },
     "metadata": {
      "needs_background": "light"
     },
     "output_type": "display_data"
    }
   ],
   "source": [
    "axes = temps_df.plot(x='Fahrenheit', y='Celsius', style='.-')"
   ]
  }
 ],
 "metadata": {
  "kernelspec": {
   "display_name": "Python 3",
   "language": "python",
   "name": "python3"
  },
  "language_info": {
   "codemirror_mode": {
    "name": "ipython",
    "version": 3
   },
   "file_extension": ".py",
   "mimetype": "text/x-python",
   "name": "python",
   "nbconvert_exporter": "python",
   "pygments_lexer": "ipython3",
   "version": "3.8.10"
  }
 },
 "nbformat": 4,
 "nbformat_minor": 5
}
