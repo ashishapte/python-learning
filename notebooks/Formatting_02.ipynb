{
 "cells": [
  {
   "cell_type": "code",
   "execution_count": 1,
   "id": "4b963b78",
   "metadata": {},
   "outputs": [
    {
     "data": {
      "text/plain": [
       "'[       +27]'"
      ]
     },
     "execution_count": 1,
     "metadata": {},
     "output_type": "execute_result"
    }
   ],
   "source": [
    "# + sign\n",
    "f'[{27:+10d}]'"
   ]
  },
  {
   "cell_type": "code",
   "execution_count": 2,
   "id": "c2dde4f9",
   "metadata": {},
   "outputs": [
    {
     "data": {
      "text/plain": [
       "'[+000000027]'"
      ]
     },
     "execution_count": 2,
     "metadata": {},
     "output_type": "execute_result"
    }
   ],
   "source": [
    "# leading zeros\n",
    "f'[{27:+010d}]'"
   ]
  },
  {
   "cell_type": "code",
   "execution_count": 4,
   "id": "ce73bc37",
   "metadata": {},
   "outputs": [
    {
     "name": "stdout",
     "output_type": "stream",
     "text": [
      "27\n",
      " 27\n",
      "-27\n"
     ]
    }
   ],
   "source": [
    "# space instead of + sign in front\n",
    "print(f'{27:d}\\n{27: d}\\n{-27: d}')"
   ]
  },
  {
   "cell_type": "code",
   "execution_count": 7,
   "id": "e66065d1",
   "metadata": {},
   "outputs": [
    {
     "data": {
      "text/plain": [
       "'123,456,789'"
      ]
     },
     "execution_count": 7,
     "metadata": {},
     "output_type": "execute_result"
    }
   ],
   "source": [
    "# using , \n",
    "f'{123456789:,d}'"
   ]
  },
  {
   "cell_type": "code",
   "execution_count": 8,
   "id": "e3b96489",
   "metadata": {},
   "outputs": [
    {
     "data": {
      "text/plain": [
       "'123,456.79'"
      ]
     },
     "execution_count": 8,
     "metadata": {},
     "output_type": "execute_result"
    }
   ],
   "source": [
    "f'{123456.789:,.2f}'"
   ]
  },
  {
   "cell_type": "code",
   "execution_count": 24,
   "id": "29c1a018",
   "metadata": {},
   "outputs": [
    {
     "name": "stdout",
     "output_type": "stream",
     "text": [
      "[+10,240.47]\n",
      "[ -3,210.95]\n"
     ]
    }
   ],
   "source": [
    "# print 10240.473 and -3210.9521, each preceeded by its sign in 10 char fields with thousads separators \n",
    "# their decimal points aligned vertically and two digits of precison\n",
    "print(f'[{10240.473:>+10,.2f}]\\n[{-3210.9521:+10,.2f}]')"
   ]
  },
  {
   "cell_type": "code",
   "execution_count": null,
   "id": "ee76c2a4",
   "metadata": {},
   "outputs": [],
   "source": []
  }
 ],
 "metadata": {
  "kernelspec": {
   "display_name": "Python 3",
   "language": "python",
   "name": "python3"
  },
  "language_info": {
   "codemirror_mode": {
    "name": "ipython",
    "version": 3
   },
   "file_extension": ".py",
   "mimetype": "text/x-python",
   "name": "python",
   "nbconvert_exporter": "python",
   "pygments_lexer": "ipython3",
   "version": "3.8.10"
  }
 },
 "nbformat": 4,
 "nbformat_minor": 5
}
