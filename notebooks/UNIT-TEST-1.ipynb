{
 "cells": [
  {
   "cell_type": "code",
   "execution_count": 1,
   "id": "cc51cd1e",
   "metadata": {},
   "outputs": [],
   "source": [
    "# __name__\n",
    "# if __name__ == '__main__':\n",
    "#   import doctest\n",
    "#   doctest.testmod(verbose=True)\n",
    "\n",
    "# When a python file is executed as a script\n",
    "# Python interactive environment creates __name__ global attribute and assigns it a vaile '__main__'"
   ]
  },
  {
   "cell_type": "code",
   "execution_count": null,
   "id": "111da1b9",
   "metadata": {},
   "outputs": [],
   "source": [
    "# on ipython prompt\n",
    "# use %doctest_mode to change the prompt to >>>"
   ]
  }
 ],
 "metadata": {
  "kernelspec": {
   "display_name": "Python 3",
   "language": "python",
   "name": "python3"
  },
  "language_info": {
   "codemirror_mode": {
    "name": "ipython",
    "version": 3
   },
   "file_extension": ".py",
   "mimetype": "text/x-python",
   "name": "python",
   "nbconvert_exporter": "python",
   "pygments_lexer": "ipython3",
   "version": "3.8.10"
  }
 },
 "nbformat": 4,
 "nbformat_minor": 5
}
