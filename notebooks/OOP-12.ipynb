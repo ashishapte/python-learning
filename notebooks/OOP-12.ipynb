{
 "cells": [
  {
   "cell_type": "markdown",
   "id": "e6ba58cf",
   "metadata": {},
   "source": [
    "# named tuple"
   ]
  },
  {
   "cell_type": "code",
   "execution_count": null,
   "id": "cf3cc33a",
   "metadata": {},
   "outputs": [],
   "source": [
    "# THIS IS A FEATURE BUILT INTO PYTHONS COLLECTIONS MODULE\n",
    "# you can create a subclass of built in tuple \n",
    "# - where each of the elements in the tuple will have identifier associated with it, to make it more convenient.\n",
    "# useful when working with csv file with top line contains column names.\n",
    "# you can use these as identifiers for tuple data.\n"
   ]
  },
  {
   "cell_type": "code",
   "execution_count": 1,
   "id": "bf112020",
   "metadata": {},
   "outputs": [],
   "source": [
    "from collections import namedtuple\n",
    "# namedtuple is subtype of builtin tuple"
   ]
  },
  {
   "cell_type": "code",
   "execution_count": 3,
   "id": "adf3ce32",
   "metadata": {},
   "outputs": [
    {
     "data": {
      "text/plain": [
       "function"
      ]
     },
     "execution_count": 3,
     "metadata": {},
     "output_type": "execute_result"
    }
   ],
   "source": [
    "type(namedtuple)"
   ]
  },
  {
   "cell_type": "code",
   "execution_count": 4,
   "id": "c9906d15",
   "metadata": {},
   "outputs": [],
   "source": [
    "Card = namedtuple('Card', ['face', 'suit'])\n",
    "# in this case 'Card' is the name of the type and you assign it to same name - in this case Card.\n",
    "# second argumnet is a list with identifiers you want to use to access such tuple.\n",
    "# so Card type created."
   ]
  },
  {
   "cell_type": "code",
   "execution_count": 6,
   "id": "a8837330",
   "metadata": {},
   "outputs": [],
   "source": [
    "# now create object with Card type\n",
    "# so face and suit are the identifiers, now became keyword arguments you supply to constructor method of new object\n",
    "\n",
    "card = Card(face='Ace', suit='Spades')"
   ]
  },
  {
   "cell_type": "code",
   "execution_count": 8,
   "id": "cca268e5",
   "metadata": {},
   "outputs": [
    {
     "data": {
      "text/plain": [
       "'Ace'"
      ]
     },
     "execution_count": 8,
     "metadata": {},
     "output_type": "execute_result"
    }
   ],
   "source": [
    "# Now I can access the tuple with its name\n",
    "card.face"
   ]
  },
  {
   "cell_type": "code",
   "execution_count": 9,
   "id": "c65a7952",
   "metadata": {},
   "outputs": [
    {
     "data": {
      "text/plain": [
       "'Spades'"
      ]
     },
     "execution_count": 9,
     "metadata": {},
     "output_type": "execute_result"
    }
   ],
   "source": [
    "card.suit"
   ]
  },
  {
   "cell_type": "code",
   "execution_count": 10,
   "id": "3416edc3",
   "metadata": {},
   "outputs": [
    {
     "data": {
      "text/plain": [
       "Card(face='Ace', suit='Spades')"
      ]
     },
     "execution_count": 10,
     "metadata": {},
     "output_type": "execute_result"
    }
   ],
   "source": [
    "# evaluate named tuple.\n",
    "card"
   ]
  },
  {
   "cell_type": "code",
   "execution_count": 11,
   "id": "b59ab686",
   "metadata": {},
   "outputs": [],
   "source": [
    "# Now turing a tuple into named tuple object using type defined earlier\n",
    "# this feature is useful when processing comma separated values csv file.\n",
    "\n",
    "values = ['Queen', 'Hearts']"
   ]
  },
  {
   "cell_type": "code",
   "execution_count": 12,
   "id": "b34abd85",
   "metadata": {},
   "outputs": [],
   "source": [
    "card = Card._make(values)"
   ]
  },
  {
   "cell_type": "code",
   "execution_count": 13,
   "id": "56a8e80d",
   "metadata": {},
   "outputs": [
    {
     "data": {
      "text/plain": [
       "Card(face='Queen', suit='Hearts')"
      ]
     },
     "execution_count": 13,
     "metadata": {},
     "output_type": "execute_result"
    }
   ],
   "source": [
    "card"
   ]
  },
  {
   "cell_type": "code",
   "execution_count": 14,
   "id": "80f0df90",
   "metadata": {},
   "outputs": [
    {
     "data": {
      "text/plain": [
       "{'face': 'Queen', 'suit': 'Hearts'}"
      ]
     },
     "execution_count": 14,
     "metadata": {},
     "output_type": "execute_result"
    }
   ],
   "source": [
    "# Ordered Dict\n",
    "# _asdict returs OrderedDict\n",
    "# Dictionary with values in order as inserted.\n",
    "card._asdict() "
   ]
  }
 ],
 "metadata": {
  "kernelspec": {
   "display_name": "Python 3",
   "language": "python",
   "name": "python3"
  },
  "language_info": {
   "codemirror_mode": {
    "name": "ipython",
    "version": 3
   },
   "file_extension": ".py",
   "mimetype": "text/x-python",
   "name": "python",
   "nbconvert_exporter": "python",
   "pygments_lexer": "ipython3",
   "version": "3.8.10"
  }
 },
 "nbformat": 4,
 "nbformat_minor": 5
}
