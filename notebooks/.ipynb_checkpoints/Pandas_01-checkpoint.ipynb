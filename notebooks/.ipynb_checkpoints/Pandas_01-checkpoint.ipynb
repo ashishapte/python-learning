{
 "cells": [
  {
   "cell_type": "code",
   "execution_count": 1,
   "id": "4f2a4fb2",
   "metadata": {},
   "outputs": [],
   "source": [
    "import pandas as pd"
   ]
  },
  {
   "cell_type": "code",
   "execution_count": 2,
   "id": "a42bb9c3",
   "metadata": {},
   "outputs": [],
   "source": [
    "grades = pd.Series([3,10,25])"
   ]
  },
  {
   "cell_type": "code",
   "execution_count": 3,
   "id": "37b914f4",
   "metadata": {},
   "outputs": [
    {
     "data": {
      "text/plain": [
       "0     3\n",
       "1    10\n",
       "2    25\n",
       "dtype: int64"
      ]
     },
     "execution_count": 3,
     "metadata": {},
     "output_type": "execute_result"
    }
   ],
   "source": [
    "grades"
   ]
  },
  {
   "cell_type": "code",
   "execution_count": 4,
   "id": "dd508017",
   "metadata": {},
   "outputs": [
    {
     "data": {
      "text/plain": [
       "0    86.5\n",
       "1    86.5\n",
       "2    86.5\n",
       "dtype: float64"
      ]
     },
     "execution_count": 4,
     "metadata": {},
     "output_type": "execute_result"
    }
   ],
   "source": [
    "pd.Series(86.5, range(3))"
   ]
  },
  {
   "cell_type": "code",
   "execution_count": 5,
   "id": "f717ac8a",
   "metadata": {},
   "outputs": [
    {
     "data": {
      "text/plain": [
       "3"
      ]
     },
     "execution_count": 5,
     "metadata": {},
     "output_type": "execute_result"
    }
   ],
   "source": [
    "grades[0]"
   ]
  },
  {
   "cell_type": "code",
   "execution_count": 6,
   "id": "d146fad6",
   "metadata": {},
   "outputs": [
    {
     "data": {
      "text/plain": [
       "3"
      ]
     },
     "execution_count": 6,
     "metadata": {},
     "output_type": "execute_result"
    }
   ],
   "source": [
    "grades.count()"
   ]
  },
  {
   "cell_type": "code",
   "execution_count": 7,
   "id": "a2eda716",
   "metadata": {},
   "outputs": [
    {
     "data": {
      "text/plain": [
       "12.666666666666666"
      ]
     },
     "execution_count": 7,
     "metadata": {},
     "output_type": "execute_result"
    }
   ],
   "source": [
    "grades.mean()"
   ]
  },
  {
   "cell_type": "code",
   "execution_count": 8,
   "id": "fa073849",
   "metadata": {},
   "outputs": [
    {
     "data": {
      "text/plain": [
       "25"
      ]
     },
     "execution_count": 8,
     "metadata": {},
     "output_type": "execute_result"
    }
   ],
   "source": [
    "grades.max()"
   ]
  },
  {
   "cell_type": "code",
   "execution_count": 9,
   "id": "e25b454d",
   "metadata": {},
   "outputs": [
    {
     "data": {
      "text/plain": [
       "11.239810200058244"
      ]
     },
     "execution_count": 9,
     "metadata": {},
     "output_type": "execute_result"
    }
   ],
   "source": [
    "grades.std()"
   ]
  },
  {
   "cell_type": "code",
   "execution_count": 10,
   "id": "18dfafcc",
   "metadata": {},
   "outputs": [
    {
     "data": {
      "text/plain": [
       "count     3.000000\n",
       "mean     12.666667\n",
       "std      11.239810\n",
       "min       3.000000\n",
       "25%       6.500000\n",
       "50%      10.000000\n",
       "75%      17.500000\n",
       "max      25.000000\n",
       "dtype: float64"
      ]
     },
     "execution_count": 10,
     "metadata": {},
     "output_type": "execute_result"
    }
   ],
   "source": [
    "grades.describe()"
   ]
  },
  {
   "cell_type": "code",
   "execution_count": 18,
   "id": "2739f11c",
   "metadata": {},
   "outputs": [],
   "source": [
    "grades = pd.Series([80,90,95], index=['Wally', 'Eva', 'Sam'])"
   ]
  },
  {
   "cell_type": "code",
   "execution_count": 19,
   "id": "7041d9a1",
   "metadata": {},
   "outputs": [
    {
     "data": {
      "text/plain": [
       "Wally    80\n",
       "Eva      90\n",
       "Sam      95\n",
       "dtype: int64"
      ]
     },
     "execution_count": 19,
     "metadata": {},
     "output_type": "execute_result"
    }
   ],
   "source": [
    "grades"
   ]
  },
  {
   "cell_type": "code",
   "execution_count": 20,
   "id": "4a415628",
   "metadata": {},
   "outputs": [],
   "source": [
    "# creating a series using dictionary\n",
    "grades1 = pd.Series({'W': 80, 'E': 90, 'S': 95})"
   ]
  },
  {
   "cell_type": "code",
   "execution_count": 22,
   "id": "9220a81a",
   "metadata": {},
   "outputs": [
    {
     "data": {
      "text/plain": [
       "W    80\n",
       "E    90\n",
       "S    95\n",
       "dtype: int64"
      ]
     },
     "execution_count": 22,
     "metadata": {},
     "output_type": "execute_result"
    }
   ],
   "source": [
    "grades1"
   ]
  },
  {
   "cell_type": "code",
   "execution_count": 23,
   "id": "e8bd9219",
   "metadata": {},
   "outputs": [
    {
     "data": {
      "text/plain": [
       "80"
      ]
     },
     "execution_count": 23,
     "metadata": {},
     "output_type": "execute_result"
    }
   ],
   "source": [
    "grades1[0]"
   ]
  },
  {
   "cell_type": "code",
   "execution_count": 24,
   "id": "67d5acd3",
   "metadata": {},
   "outputs": [
    {
     "data": {
      "text/plain": [
       "80"
      ]
     },
     "execution_count": 24,
     "metadata": {},
     "output_type": "execute_result"
    }
   ],
   "source": [
    "# accessing elements with string index\n",
    "grades['Wally']"
   ]
  },
  {
   "cell_type": "code",
   "execution_count": 25,
   "id": "0bead3e6",
   "metadata": {},
   "outputs": [
    {
     "data": {
      "text/plain": [
       "80"
      ]
     },
     "execution_count": 25,
     "metadata": {},
     "output_type": "execute_result"
    }
   ],
   "source": [
    "# using dot operators\n",
    "grades.Wally"
   ]
  },
  {
   "cell_type": "code",
   "execution_count": 26,
   "id": "c7a34ab6",
   "metadata": {},
   "outputs": [
    {
     "data": {
      "text/plain": [
       "dtype('int64')"
      ]
     },
     "execution_count": 26,
     "metadata": {},
     "output_type": "execute_result"
    }
   ],
   "source": [
    "grades.dtype"
   ]
  },
  {
   "cell_type": "code",
   "execution_count": 27,
   "id": "40706807",
   "metadata": {},
   "outputs": [
    {
     "data": {
      "text/plain": [
       "array([80, 90, 95])"
      ]
     },
     "execution_count": 27,
     "metadata": {},
     "output_type": "execute_result"
    }
   ],
   "source": [
    "grades.values"
   ]
  },
  {
   "cell_type": "code",
   "execution_count": 28,
   "id": "7546971d",
   "metadata": {},
   "outputs": [
    {
     "data": {
      "text/plain": [
       "0    Hammer\n",
       "1       Saw\n",
       "2    Wrench\n",
       "dtype: object"
      ]
     },
     "execution_count": 28,
     "metadata": {},
     "output_type": "execute_result"
    }
   ],
   "source": [
    "hardware = pd.Series(['Hammer','Saw','Wrench'])\n",
    "hardware"
   ]
  },
  {
   "cell_type": "code",
   "execution_count": 29,
   "id": "5aedc701",
   "metadata": {},
   "outputs": [
    {
     "data": {
      "text/plain": [
       "0     True\n",
       "1     True\n",
       "2    False\n",
       "dtype: bool"
      ]
     },
     "execution_count": 29,
     "metadata": {},
     "output_type": "execute_result"
    }
   ],
   "source": [
    "# using str methods on Series\n",
    "# returns series with Boolian values\n",
    "hardware.str.contains('a')"
   ]
  },
  {
   "cell_type": "code",
   "execution_count": 30,
   "id": "3a248d1c",
   "metadata": {},
   "outputs": [
    {
     "data": {
      "text/plain": [
       "0    HAMMER\n",
       "1       SAW\n",
       "2    WRENCH\n",
       "dtype: object"
      ]
     },
     "execution_count": 30,
     "metadata": {},
     "output_type": "execute_result"
    }
   ],
   "source": [
    "# new series object returned\n",
    "hardware.str.upper()"
   ]
  },
  {
   "cell_type": "code",
   "execution_count": 31,
   "id": "453614e6",
   "metadata": {},
   "outputs": [
    {
     "data": {
      "text/plain": [
       "0    Hammer\n",
       "1       Saw\n",
       "2    Wrench\n",
       "dtype: object"
      ]
     },
     "execution_count": 31,
     "metadata": {},
     "output_type": "execute_result"
    }
   ],
   "source": [
    "hardware"
   ]
  },
  {
   "cell_type": "code",
   "execution_count": null,
   "id": "2a85f897",
   "metadata": {},
   "outputs": [],
   "source": []
  }
 ],
 "metadata": {
  "kernelspec": {
   "display_name": "Python 3",
   "language": "python",
   "name": "python3"
  },
  "language_info": {
   "codemirror_mode": {
    "name": "ipython",
    "version": 3
   },
   "file_extension": ".py",
   "mimetype": "text/x-python",
   "name": "python",
   "nbconvert_exporter": "python",
   "pygments_lexer": "ipython3",
   "version": "3.8.10"
  }
 },
 "nbformat": 4,
 "nbformat_minor": 5
}
