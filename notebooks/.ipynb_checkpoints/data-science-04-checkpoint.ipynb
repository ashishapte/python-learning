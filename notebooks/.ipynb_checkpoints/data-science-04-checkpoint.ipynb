{
 "cells": [
  {
   "cell_type": "code",
   "execution_count": 1,
   "id": "0efe4fc2",
   "metadata": {},
   "outputs": [],
   "source": [
    " # reading from csv file into pandas library\n",
    " # wirting back to csv from pandas dataframe"
   ]
  },
  {
   "cell_type": "code",
   "execution_count": 2,
   "id": "fb5de444",
   "metadata": {},
   "outputs": [],
   "source": [
    "import pandas as pd"
   ]
  },
  {
   "cell_type": "code",
   "execution_count": 3,
   "id": "739abd57",
   "metadata": {},
   "outputs": [
    {
     "name": "stdout",
     "output_type": "stream",
     "text": [
      "100,Jones,24.98\r",
      "\r\n",
      "200,Doe,2345.67\r",
      "\r\n",
      "300,White,0.0\r",
      "\r\n",
      "400,Stone,-42.16\r",
      "\r\n",
      "500,Rich,224.62\r",
      "\r\n",
      "600,Ashish A,10000000\r",
      "\r\n"
     ]
    }
   ],
   "source": [
    "!cat accounts.csv"
   ]
  },
  {
   "cell_type": "code",
   "execution_count": 4,
   "id": "005b8e4e",
   "metadata": {
    "collapsed": true
   },
   "outputs": [],
   "source": [
    "# if names = [columns names ] is not provided then read_csv will use first line of text as column\n",
    "df = pd.read_csv('accounts.csv', names=['account', 'name', 'balance'])"
   ]
  },
  {
   "cell_type": "code",
   "execution_count": 5,
   "id": "66500c8e",
   "metadata": {},
   "outputs": [
    {
     "data": {
      "text/html": [
       "<div>\n",
       "<style scoped>\n",
       "    .dataframe tbody tr th:only-of-type {\n",
       "        vertical-align: middle;\n",
       "    }\n",
       "\n",
       "    .dataframe tbody tr th {\n",
       "        vertical-align: top;\n",
       "    }\n",
       "\n",
       "    .dataframe thead th {\n",
       "        text-align: right;\n",
       "    }\n",
       "</style>\n",
       "<table border=\"1\" class=\"dataframe\">\n",
       "  <thead>\n",
       "    <tr style=\"text-align: right;\">\n",
       "      <th></th>\n",
       "      <th>account</th>\n",
       "      <th>name</th>\n",
       "      <th>balance</th>\n",
       "    </tr>\n",
       "  </thead>\n",
       "  <tbody>\n",
       "    <tr>\n",
       "      <th>0</th>\n",
       "      <td>100</td>\n",
       "      <td>Jones</td>\n",
       "      <td>24.98</td>\n",
       "    </tr>\n",
       "    <tr>\n",
       "      <th>1</th>\n",
       "      <td>200</td>\n",
       "      <td>Doe</td>\n",
       "      <td>2345.67</td>\n",
       "    </tr>\n",
       "    <tr>\n",
       "      <th>2</th>\n",
       "      <td>300</td>\n",
       "      <td>White</td>\n",
       "      <td>0.00</td>\n",
       "    </tr>\n",
       "    <tr>\n",
       "      <th>3</th>\n",
       "      <td>400</td>\n",
       "      <td>Stone</td>\n",
       "      <td>-42.16</td>\n",
       "    </tr>\n",
       "    <tr>\n",
       "      <th>4</th>\n",
       "      <td>500</td>\n",
       "      <td>Rich</td>\n",
       "      <td>224.62</td>\n",
       "    </tr>\n",
       "    <tr>\n",
       "      <th>5</th>\n",
       "      <td>600</td>\n",
       "      <td>Ashish A</td>\n",
       "      <td>10000000.00</td>\n",
       "    </tr>\n",
       "  </tbody>\n",
       "</table>\n",
       "</div>"
      ],
      "text/plain": [
       "   account      name      balance\n",
       "0      100     Jones        24.98\n",
       "1      200       Doe      2345.67\n",
       "2      300     White         0.00\n",
       "3      400     Stone       -42.16\n",
       "4      500      Rich       224.62\n",
       "5      600  Ashish A  10000000.00"
      ]
     },
     "execution_count": 5,
     "metadata": {},
     "output_type": "execute_result"
    }
   ],
   "source": [
    "df"
   ]
  },
  {
   "cell_type": "code",
   "execution_count": 6,
   "id": "cb0898b7",
   "metadata": {},
   "outputs": [],
   "source": [
    "# writting to csv\n",
    "# index=False means do not write index numbers into csv file.\n",
    "df.to_csv('accounts_from_dataframe.csv', index=False)"
   ]
  },
  {
   "cell_type": "code",
   "execution_count": 7,
   "id": "caa182ba",
   "metadata": {},
   "outputs": [
    {
     "name": "stdout",
     "output_type": "stream",
     "text": [
      "account,name,balance\r\n",
      "100,Jones,24.98\r\n",
      "200,Doe,2345.67\r\n",
      "300,White,0.0\r\n",
      "400,Stone,-42.16\r\n",
      "500,Rich,224.62\r\n",
      "600,Ashish A,10000000.0\r\n"
     ]
    }
   ],
   "source": [
    "!cat accounts_from_dataframe.csv"
   ]
  }
 ],
 "metadata": {
  "kernelspec": {
   "display_name": "Python 3",
   "language": "python",
   "name": "python3"
  },
  "language_info": {
   "codemirror_mode": {
    "name": "ipython",
    "version": 3
   },
   "file_extension": ".py",
   "mimetype": "text/x-python",
   "name": "python",
   "nbconvert_exporter": "python",
   "pygments_lexer": "ipython3",
   "version": "3.8.10"
  }
 },
 "nbformat": 4,
 "nbformat_minor": 5
}
