{
 "cells": [
  {
   "cell_type": "markdown",
   "id": "ce9b6198",
   "metadata": {},
   "source": [
    "local namespace\n",
    "- defined in a function or method\n",
    "- accessible only to that function or method.\n"
   ]
  },
  {
   "cell_type": "markdown",
   "id": "68a7e9bd",
   "metadata": {},
   "source": [
    "global namespace\n",
    "- defined for each module\n",
    "- assoicates modules global identifiers (global variables, function names and class names) with objects\n",
    "- global attribute __name__ contains module's name\n",
    "  and python sets it to __main__ when file is run as a script."
   ]
  },
  {
   "cell_type": "markdown",
   "id": "a183c823",
   "metadata": {},
   "source": [
    "built-in name space\n",
    "- assocates identifiers for built-in functions (input and range) and types (int, float, str)"
   ]
  },
  {
   "cell_type": "markdown",
   "id": "6f993bb8",
   "metadata": {},
   "source": [
    "Enclosing namespace\n",
    "- python allows you to define nested functions\n",
    "- python searches\n",
    "    - nested functions local namespace\n",
    "    - enclising functions namespace\n",
    "    - global namespace then\n",
    "    - built-in namespace\n",
    "    - Referred to as LEGB - (local, enclosing, global , built-in)"
   ]
  }
 ],
 "metadata": {
  "kernelspec": {
   "display_name": "Python 3",
   "language": "python",
   "name": "python3"
  },
  "language_info": {
   "codemirror_mode": {
    "name": "ipython",
    "version": 3
   },
   "file_extension": ".py",
   "mimetype": "text/x-python",
   "name": "python",
   "nbconvert_exporter": "python",
   "pygments_lexer": "ipython3",
   "version": "3.8.10"
  }
 },
 "nbformat": 4,
 "nbformat_minor": 5
}
