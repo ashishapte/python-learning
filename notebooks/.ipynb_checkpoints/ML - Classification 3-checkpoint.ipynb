{
 "cells": [
  {
   "cell_type": "markdown",
   "id": "0f946adc",
   "metadata": {},
   "source": [
    "Splitting the data into Training and Testing \n",
    "- Break data into training set and testing set.\n",
    "- sklearn library has inbuilt methods to do this\n",
    "    - train_test_split from sklearn.model_selection module does this for you\n",
    "        - It shuffles data to randomize it and then splits them into train and test data sets \n",
    "     \n",
    "        "
   ]
  },
  {
   "cell_type": "code",
   "execution_count": 1,
   "id": "9f111bfc",
   "metadata": {},
   "outputs": [],
   "source": [
    "from sklearn.datasets import load_digits"
   ]
  },
  {
   "cell_type": "code",
   "execution_count": 2,
   "id": "7a99c004",
   "metadata": {},
   "outputs": [],
   "source": [
    "digits = load_digits()"
   ]
  },
  {
   "cell_type": "code",
   "execution_count": 4,
   "id": "5954bf95",
   "metadata": {},
   "outputs": [
    {
     "data": {
      "text/plain": [
       "(1797, 64)"
      ]
     },
     "execution_count": 4,
     "metadata": {},
     "output_type": "execute_result"
    }
   ],
   "source": [
    "digits.data.shape"
   ]
  },
  {
   "cell_type": "code",
   "execution_count": 6,
   "id": "b300ebf6",
   "metadata": {},
   "outputs": [
    {
     "data": {
      "text/plain": [
       "(1797,)"
      ]
     },
     "execution_count": 6,
     "metadata": {},
     "output_type": "execute_result"
    }
   ],
   "source": [
    "digits.target.shape"
   ]
  },
  {
   "cell_type": "code",
   "execution_count": 7,
   "id": "19bce9a7",
   "metadata": {},
   "outputs": [],
   "source": [
    "from sklearn.model_selection import train_test_split"
   ]
  },
  {
   "cell_type": "code",
   "execution_count": 9,
   "id": "7982f209",
   "metadata": {},
   "outputs": [],
   "source": [
    "# train_test_split accepts three agrumnets\n",
    "# 1. data 2. target and 3. Seed value so everytime you get the same randomized results.\n",
    "# you may choose any value as seed but just stick with the same through out your code\n",
    "X_train, X_test, y_train, y_test = train_test_split(digits.data, digits.target, random_state=11)"
   ]
  },
  {
   "cell_type": "code",
   "execution_count": 13,
   "id": "9b5247ea",
   "metadata": {},
   "outputs": [
    {
     "data": {
      "text/plain": [
       "(1347, 64)"
      ]
     },
     "execution_count": 13,
     "metadata": {},
     "output_type": "execute_result"
    }
   ],
   "source": [
    "# so as you see below about 85 records are in train dataset and 25% for test\n",
    "# there are additional arguments to train_test_split that allows you to control how you want to split your data\n",
    "X_train.shape"
   ]
  },
  {
   "cell_type": "code",
   "execution_count": 14,
   "id": "c99fc43a",
   "metadata": {},
   "outputs": [
    {
     "data": {
      "text/plain": [
       "(450, 64)"
      ]
     },
     "execution_count": 14,
     "metadata": {},
     "output_type": "execute_result"
    }
   ],
   "source": [
    "X_test.shape"
   ]
  },
  {
   "cell_type": "code",
   "execution_count": 15,
   "id": "b39bb891",
   "metadata": {},
   "outputs": [],
   "source": [
    "## Now we are going to create a model object or estimator.\n",
    "## particular class in sklearn.neighbors package that we use is KNeighborsClassifier\n",
    "## this is predefined class that implements KNeighbors algorithm\n",
    "## you import this class and then create instance of it for use\n",
    "## at the time of creating instance, you can provide hyperparameters\n",
    "## look at documentation for keyworkd arguments and default values for this classifier.\n",
    "from sklearn.neighbors import KNeighborsClassifier"
   ]
  },
  {
   "cell_type": "code",
   "execution_count": 17,
   "id": "6369dbb4",
   "metadata": {},
   "outputs": [],
   "source": [
    "knn = KNeighborsClassifier()"
   ]
  },
  {
   "cell_type": "code",
   "execution_count": 22,
   "id": "660f0479",
   "metadata": {},
   "outputs": [
    {
     "data": {
      "text/plain": [
       "KNeighborsClassifier()"
      ]
     },
     "execution_count": 22,
     "metadata": {},
     "output_type": "execute_result"
    }
   ],
   "source": [
    "# these is no training phase \n",
    "# the algorithm just loads the data\n",
    "# each of the scikit-learn estimator has fit method that you use to train your model\n",
    "# Training occurs based on algorithm\n",
    "# In KNeighbors there is no training it just loads the data in memory\n",
    "# In other algorithms, it may take long time to train your model\n",
    "# It takes long time for deep learning of large dataset if you are using CPU.\n",
    "# So Google and NVDA has simple raspberry pi GPUs that you can connect to your computer for faster processing.\n",
    "# google has tensor processing units (TPUs) - can significantly reduce your training time.\n",
    "knn.fit(X=X_train, y=y_train)\n",
    "\n",
    "# n_neighbors= 5 is the default value for K used by algorithm\n",
    "# you always use odd value for this , as you want to avoid a tie between nearest neighbors."
   ]
  },
  {
   "cell_type": "code",
   "execution_count": 23,
   "id": "53e9813e",
   "metadata": {},
   "outputs": [],
   "source": [
    "# KNeighbors classifier is called lazy. as it doesn't do any training\n",
    "# at the time of making prediction, it goes through the data , alalyzes it based on KNeighbors alogorithm \n",
    "# and makes predictions\n",
    "# Now that we have trained data using fit\n",
    "# we can use predict method to predict on our test dataset\n",
    "predicted = knn.predict(X=X_test)\n",
    "# predicted is one dimentional array with prediction"
   ]
  },
  {
   "cell_type": "code",
   "execution_count": 24,
   "id": "dbb36d19",
   "metadata": {},
   "outputs": [],
   "source": [
    "# now just for convenience assigning y_test to expected \n",
    "# this is array of target values for our test dataset. We can use this to see how good the prediction was.\n",
    "expected = y_test"
   ]
  },
  {
   "cell_type": "code",
   "execution_count": 25,
   "id": "57638aca",
   "metadata": {},
   "outputs": [
    {
     "data": {
      "text/plain": [
       "array([0, 4, 9, 9, 3, 1, 4, 1, 5, 0, 4, 9, 4, 1, 5, 3, 3, 8, 5, 6])"
      ]
     },
     "execution_count": 25,
     "metadata": {},
     "output_type": "execute_result"
    }
   ],
   "source": [
    "predicted[:20]"
   ]
  },
  {
   "cell_type": "code",
   "execution_count": 26,
   "id": "2b8df395",
   "metadata": {},
   "outputs": [
    {
     "data": {
      "text/plain": [
       "array([0, 4, 9, 9, 3, 1, 4, 1, 5, 0, 4, 9, 4, 1, 5, 3, 3, 8, 3, 6])"
      ]
     },
     "execution_count": 26,
     "metadata": {},
     "output_type": "execute_result"
    }
   ],
   "source": [
    "expected[:20]"
   ]
  },
  {
   "cell_type": "code",
   "execution_count": 27,
   "id": "b651bd4b",
   "metadata": {
    "collapsed": true
   },
   "outputs": [],
   "source": [
    "# 19th element was incorrectly predicted.\n",
    "# use list comprehension to find out incorrect predictions\n",
    "wrong = [(p, e) for (p, e) in zip(predicted, expected) if p != e]"
   ]
  },
  {
   "cell_type": "code",
   "execution_count": 29,
   "id": "176a88c9",
   "metadata": {},
   "outputs": [
    {
     "data": {
      "text/plain": [
       "[(5, 3),\n",
       " (8, 9),\n",
       " (4, 9),\n",
       " (7, 3),\n",
       " (7, 4),\n",
       " (2, 8),\n",
       " (9, 8),\n",
       " (3, 8),\n",
       " (3, 8),\n",
       " (1, 8)]"
      ]
     },
     "execution_count": 29,
     "metadata": {},
     "output_type": "execute_result"
    }
   ],
   "source": [
    "# 10 out of 450 are wrong\n",
    "wrong"
   ]
  },
  {
   "cell_type": "code",
   "execution_count": 31,
   "id": "c0fa7851",
   "metadata": {},
   "outputs": [
    {
     "data": {
      "text/plain": [
       "2.2222222222222223"
      ]
     },
     "execution_count": 31,
     "metadata": {},
     "output_type": "execute_result"
    }
   ],
   "source": [
    "# wrong percentage\n",
    "10 / 450 * 100"
   ]
  },
  {
   "cell_type": "code",
   "execution_count": 32,
   "id": "e02ff03d",
   "metadata": {},
   "outputs": [
    {
     "data": {
      "text/plain": [
       "97.77777777777777"
      ]
     },
     "execution_count": 32,
     "metadata": {},
     "output_type": "execute_result"
    }
   ],
   "source": [
    "# right percentage\n",
    "# We achieved 97.8 % acuracy by just using default values for the model.\n",
    "440 / 450 * 100"
   ]
  },
  {
   "cell_type": "code",
   "execution_count": 33,
   "id": "361ee198",
   "metadata": {},
   "outputs": [
    {
     "name": "stdout",
     "output_type": "stream",
     "text": [
      "97.78%\n"
     ]
    }
   ],
   "source": [
    "# score method ca be used for acuracy  percentage\n",
    "print(f'{knn.score(X_test, y_test):.2%}')"
   ]
  },
  {
   "cell_type": "markdown",
   "id": "72e38564",
   "metadata": {},
   "source": [
    "another way to get classification acuracy is by confusion metrics\n",
    "It shows in two dimentational way - correct predictions that hit the target \n",
    "and incorrect predictions that miss the target\n",
    "and not only that for each of the misses, it tells you what they were classified as.\n"
   ]
  },
  {
   "cell_type": "code",
   "execution_count": 34,
   "id": "a82d1852",
   "metadata": {},
   "outputs": [],
   "source": [
    "from sklearn.metrics import confusion_matrix"
   ]
  },
  {
   "cell_type": "code",
   "execution_count": 35,
   "id": "f990efcd",
   "metadata": {
    "collapsed": true
   },
   "outputs": [],
   "source": [
    "confusion = confusion_matrix(y_true=expected , y_pred=predicted)"
   ]
  },
  {
   "cell_type": "code",
   "execution_count": 37,
   "id": "74384714",
   "metadata": {},
   "outputs": [
    {
     "data": {
      "text/plain": [
       "array([[45,  0,  0,  0,  0,  0,  0,  0,  0,  0],\n",
       "       [ 0, 45,  0,  0,  0,  0,  0,  0,  0,  0],\n",
       "       [ 0,  0, 54,  0,  0,  0,  0,  0,  0,  0],\n",
       "       [ 0,  0,  0, 42,  0,  1,  0,  1,  0,  0],\n",
       "       [ 0,  0,  0,  0, 49,  0,  0,  1,  0,  0],\n",
       "       [ 0,  0,  0,  0,  0, 38,  0,  0,  0,  0],\n",
       "       [ 0,  0,  0,  0,  0,  0, 42,  0,  0,  0],\n",
       "       [ 0,  0,  0,  0,  0,  0,  0, 45,  0,  0],\n",
       "       [ 0,  1,  1,  2,  0,  0,  0,  0, 39,  1],\n",
       "       [ 0,  0,  0,  0,  1,  0,  0,  0,  1, 41]])"
      ]
     },
     "execution_count": 37,
     "metadata": {},
     "output_type": "execute_result"
    }
   ],
   "source": [
    "confusion\n",
    "# Note that we have 10 different images to classify.\n",
    "# confusion returned 10 X 10 two dimentational array\n",
    "# in row 1 : all 45 zeros are predicted as zeros(not 2 , 3, or any other number)\n",
    "# similarly, there are 45 ones and all 45 predicted as one's correctly\n",
    "# take a look at row 9 : this is digit 8.\n",
    "    # there are 44 images for 8 in the test set, and only 39 were predicted correctly\n",
    "    # 8 was confused for ones , twos, two preditcions for three etc.\n"
   ]
  },
  {
   "cell_type": "code",
   "execution_count": 38,
   "id": "cf35d357",
   "metadata": {},
   "outputs": [
    {
     "data": {
      "text/plain": [
       "0.8863636363636364"
      ]
     },
     "execution_count": 38,
     "metadata": {},
     "output_type": "execute_result"
    }
   ],
   "source": [
    "# so acuracy for preduction of 8 is\n",
    "39/44"
   ]
  },
  {
   "cell_type": "code",
   "execution_count": null,
   "id": "70e0220e",
   "metadata": {},
   "outputs": [],
   "source": [
    "# It is important to have balanced dataset - where samples are evenly distributed to represent different types of classification\n",
    "# i.e. sample should have nearly same amount of samples for 1s , 2s , 3s .. 9s."
   ]
  },
  {
   "cell_type": "code",
   "execution_count": 39,
   "id": "af817770",
   "metadata": {},
   "outputs": [],
   "source": [
    "# classification report class creates a report of scores \n",
    "from sklearn.metrics import classification_report"
   ]
  },
  {
   "cell_type": "code",
   "execution_count": 46,
   "id": "02ad5545",
   "metadata": {},
   "outputs": [],
   "source": [
    "# classification report requires names in string format for displaying report\n",
    "# we are using digits.target_names in this case\n",
    "names = [str(digit) for digit in digits.target_names]"
   ]
  },
  {
   "cell_type": "code",
   "execution_count": 47,
   "id": "13bb07af",
   "metadata": {},
   "outputs": [
    {
     "data": {
      "text/plain": [
       "['0', '1', '2', '3', '4', '5', '6', '7', '8', '9']"
      ]
     },
     "execution_count": 47,
     "metadata": {},
     "output_type": "execute_result"
    }
   ],
   "source": [
    "names"
   ]
  },
  {
   "cell_type": "code",
   "execution_count": 49,
   "id": "cbf23477",
   "metadata": {},
   "outputs": [
    {
     "name": "stdout",
     "output_type": "stream",
     "text": [
      "              precision    recall  f1-score   support\n",
      "\n",
      "           0       1.00      1.00      1.00        45\n",
      "           1       0.98      1.00      0.99        45\n",
      "           2       0.98      1.00      0.99        54\n",
      "           3       0.95      0.95      0.95        44\n",
      "           4       0.98      0.98      0.98        50\n",
      "           5       0.97      1.00      0.99        38\n",
      "           6       1.00      1.00      1.00        42\n",
      "           7       0.96      1.00      0.98        45\n",
      "           8       0.97      0.89      0.93        44\n",
      "           9       0.98      0.95      0.96        43\n",
      "\n",
      "    accuracy                           0.98       450\n",
      "   macro avg       0.98      0.98      0.98       450\n",
      "weighted avg       0.98      0.98      0.98       450\n",
      "\n"
     ]
    }
   ],
   "source": [
    "print(classification_report(expected, predicted, target_names=names))"
   ]
  },
  {
   "cell_type": "code",
   "execution_count": 50,
   "id": "dd2aceb4",
   "metadata": {},
   "outputs": [],
   "source": [
    "# precision is column wise precision\n",
    "# 0 has 100 % precision. Look at the first column : no other number was confused with zero\n",
    "# 1 has 98% precision.  One number 8 image was confused for 1. But 45 were acurately predicted. so 45/46 = 0.98 rounded.\n",
    "\n",
    "# recall is row wise precision\n",
    "# row 3 has 54 twos. All twos were predicted correctly and none was consused with other number in prediction\n",
    "# row 9 has 39 correct predictions for 8 and you can see 8 was confused for 1 , 2, 3 and also for 9.\n",
    "# we have seen before that for 8 recall percentage is 0.89 when rounded to two digits.\n",
    "\n",
    "# f1-score is average of precision and recall\n",
    "# support is total number of samples for each number image.\n"
   ]
  },
  {
   "cell_type": "code",
   "execution_count": 51,
   "id": "dcf1cfd6",
   "metadata": {},
   "outputs": [],
   "source": [
    "# you can also visualize confusion matrix using seaborn's heatmap feature.\n",
    "# you can experiment with different color maps available to you.\n",
    "# seaborn can use rownames and column names for labeling as part of visulaization\n",
    "# so we are converting confusion metrics to pandas data frame.\n",
    "import pandas as pd"
   ]
  },
  {
   "cell_type": "code",
   "execution_count": 52,
   "id": "b9e65ea1",
   "metadata": {
    "collapsed": true
   },
   "outputs": [],
   "source": [
    "# convert confusion metrics to dataframe\n",
    "confusion_df = pd.DataFrame(confusion, index=range(10), columns=range(10))"
   ]
  },
  {
   "cell_type": "code",
   "execution_count": 53,
   "id": "b19e9f07",
   "metadata": {},
   "outputs": [
    {
     "data": {
      "text/html": [
       "<div>\n",
       "<style scoped>\n",
       "    .dataframe tbody tr th:only-of-type {\n",
       "        vertical-align: middle;\n",
       "    }\n",
       "\n",
       "    .dataframe tbody tr th {\n",
       "        vertical-align: top;\n",
       "    }\n",
       "\n",
       "    .dataframe thead th {\n",
       "        text-align: right;\n",
       "    }\n",
       "</style>\n",
       "<table border=\"1\" class=\"dataframe\">\n",
       "  <thead>\n",
       "    <tr style=\"text-align: right;\">\n",
       "      <th></th>\n",
       "      <th>0</th>\n",
       "      <th>1</th>\n",
       "      <th>2</th>\n",
       "      <th>3</th>\n",
       "      <th>4</th>\n",
       "      <th>5</th>\n",
       "      <th>6</th>\n",
       "      <th>7</th>\n",
       "      <th>8</th>\n",
       "      <th>9</th>\n",
       "    </tr>\n",
       "  </thead>\n",
       "  <tbody>\n",
       "    <tr>\n",
       "      <th>0</th>\n",
       "      <td>45</td>\n",
       "      <td>0</td>\n",
       "      <td>0</td>\n",
       "      <td>0</td>\n",
       "      <td>0</td>\n",
       "      <td>0</td>\n",
       "      <td>0</td>\n",
       "      <td>0</td>\n",
       "      <td>0</td>\n",
       "      <td>0</td>\n",
       "    </tr>\n",
       "    <tr>\n",
       "      <th>1</th>\n",
       "      <td>0</td>\n",
       "      <td>45</td>\n",
       "      <td>0</td>\n",
       "      <td>0</td>\n",
       "      <td>0</td>\n",
       "      <td>0</td>\n",
       "      <td>0</td>\n",
       "      <td>0</td>\n",
       "      <td>0</td>\n",
       "      <td>0</td>\n",
       "    </tr>\n",
       "    <tr>\n",
       "      <th>2</th>\n",
       "      <td>0</td>\n",
       "      <td>0</td>\n",
       "      <td>54</td>\n",
       "      <td>0</td>\n",
       "      <td>0</td>\n",
       "      <td>0</td>\n",
       "      <td>0</td>\n",
       "      <td>0</td>\n",
       "      <td>0</td>\n",
       "      <td>0</td>\n",
       "    </tr>\n",
       "    <tr>\n",
       "      <th>3</th>\n",
       "      <td>0</td>\n",
       "      <td>0</td>\n",
       "      <td>0</td>\n",
       "      <td>42</td>\n",
       "      <td>0</td>\n",
       "      <td>1</td>\n",
       "      <td>0</td>\n",
       "      <td>1</td>\n",
       "      <td>0</td>\n",
       "      <td>0</td>\n",
       "    </tr>\n",
       "    <tr>\n",
       "      <th>4</th>\n",
       "      <td>0</td>\n",
       "      <td>0</td>\n",
       "      <td>0</td>\n",
       "      <td>0</td>\n",
       "      <td>49</td>\n",
       "      <td>0</td>\n",
       "      <td>0</td>\n",
       "      <td>1</td>\n",
       "      <td>0</td>\n",
       "      <td>0</td>\n",
       "    </tr>\n",
       "  </tbody>\n",
       "</table>\n",
       "</div>"
      ],
      "text/plain": [
       "    0   1   2   3   4  5  6  7  8  9\n",
       "0  45   0   0   0   0  0  0  0  0  0\n",
       "1   0  45   0   0   0  0  0  0  0  0\n",
       "2   0   0  54   0   0  0  0  0  0  0\n",
       "3   0   0   0  42   0  1  0  1  0  0\n",
       "4   0   0   0   0  49  0  0  1  0  0"
      ]
     },
     "execution_count": 53,
     "metadata": {},
     "output_type": "execute_result"
    }
   ],
   "source": [
    "confusion_df.head()"
   ]
  },
  {
   "cell_type": "code",
   "execution_count": 56,
   "id": "acc7ba15",
   "metadata": {},
   "outputs": [],
   "source": [
    "import seaborn as sns\n",
    "import matplotlib as plt"
   ]
  },
  {
   "cell_type": "code",
   "execution_count": 59,
   "id": "f0d2abd4",
   "metadata": {},
   "outputs": [
    {
     "data": {
      "image/png": "[encoded data removed]",
      "text/plain": [
       "<Figure size 432x288 with 2 Axes>"
      ]
     },
     "metadata": {
      "needs_background": "light"
     },
     "output_type": "display_data"
    }
   ],
   "source": [
    "# seaborn automatically creates axes object for you\n",
    "# we are enabling annotation\n",
    "# cm.nippy_spectral_r - is rainbow color colormap.\n",
    "# you get nice visualization for your confusion metrics displayed as a heatmap\n",
    "# annotation is on the right hand side. lighter color for lesser values and deeper darker colors for higher values.\n",
    "axes = sns.heatmap(confusion_df, annot=True, cmap=plt.cm.nipy_spectral_r)"
   ]
  }
 ],
 "metadata": {
  "kernelspec": {
   "display_name": "Python 3",
   "language": "python",
   "name": "python3"
  },
  "language_info": {
   "codemirror_mode": {
    "name": "ipython",
    "version": 3
   },
   "file_extension": ".py",
   "mimetype": "text/x-python",
   "name": "python",
   "nbconvert_exporter": "python",
   "pygments_lexer": "ipython3",
   "version": "3.8.10"
  }
 },
 "nbformat": 4,
 "nbformat_minor": 5
}
