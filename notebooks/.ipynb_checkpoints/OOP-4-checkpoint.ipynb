{
 "cells": [
  {
   "cell_type": "code",
   "execution_count": 1,
   "id": "93029857",
   "metadata": {},
   "outputs": [],
   "source": [
    "# Class attributes and Instance Attributes\n",
    "# Class attributes belongs to class and not to instance.\n",
    "# Class attributes are shared among all instances of the class.\n",
    "# they are defined at the start of the class definition and before even init method.\n",
    "# Instance attributes are stored in the object or instance and they are different for each instance.\n"
   ]
  },
  {
   "cell_type": "code",
   "execution_count": 2,
   "id": "5dcb8c19",
   "metadata": {},
   "outputs": [],
   "source": [
    "# if attribute is in CAPS then it is meant to be constant. \n",
    "# so programmer should not touch those attributes.\n",
    "# Nothing is constant in python , but this is a message to programmer that they need to treat this as constant.b"
   ]
  },
  {
   "cell_type": "code",
   "execution_count": 3,
   "id": "a9c3df92",
   "metadata": {},
   "outputs": [],
   "source": [
    "from modules.card import Card"
   ]
  },
  {
   "cell_type": "code",
   "execution_count": 4,
   "id": "9787ff4e",
   "metadata": {},
   "outputs": [],
   "source": [
    "c = Card('Ace', 'Hearts')"
   ]
  },
  {
   "cell_type": "code",
   "execution_count": 5,
   "id": "0c230bda",
   "metadata": {},
   "outputs": [
    {
     "data": {
      "text/plain": [
       "'Ace of Hearts'"
      ]
     },
     "execution_count": 5,
     "metadata": {},
     "output_type": "execute_result"
    }
   ],
   "source": [
    "str(c)"
   ]
  },
  {
   "cell_type": "code",
   "execution_count": 7,
   "id": "05c47229",
   "metadata": {},
   "outputs": [
    {
     "data": {
      "text/plain": [
       "['Ace', '2', '3', '4', '5', '6', '7', '8', '9', '10', 'Jack', 'Queen', 'King']"
      ]
     },
     "execution_count": 7,
     "metadata": {},
     "output_type": "execute_result"
    }
   ],
   "source": [
    "c.FACES"
   ]
  },
  {
   "cell_type": "code",
   "execution_count": 18,
   "id": "2262ef12",
   "metadata": {},
   "outputs": [],
   "source": [
    "count = 8"
   ]
  },
  {
   "cell_type": "code",
   "execution_count": 19,
   "id": "53ca877a",
   "metadata": {},
   "outputs": [
    {
     "data": {
      "text/plain": [
       "0"
      ]
     },
     "execution_count": 19,
     "metadata": {},
     "output_type": "execute_result"
    }
   ],
   "source": [
    "count // 14  # floor Division"
   ]
  },
  {
   "cell_type": "code",
   "execution_count": 20,
   "id": "ee29a9cb",
   "metadata": {},
   "outputs": [
    {
     "data": {
      "text/plain": [
       "8"
      ]
     },
     "execution_count": 20,
     "metadata": {},
     "output_type": "execute_result"
    }
   ],
   "source": [
    "count % 13 # remainder "
   ]
  }
 ],
 "metadata": {
  "kernelspec": {
   "display_name": "Python 3",
   "language": "python",
   "name": "python3"
  },
  "language_info": {
   "codemirror_mode": {
    "name": "ipython",
    "version": 3
   },
   "file_extension": ".py",
   "mimetype": "text/x-python",
   "name": "python",
   "nbconvert_exporter": "python",
   "pygments_lexer": "ipython3",
   "version": "3.8.10"
  }
 },
 "nbformat": 4,
 "nbformat_minor": 5
}
