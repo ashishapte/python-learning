{
 "cells": [
  {
   "cell_type": "markdown",
   "id": "d8612b0d",
   "metadata": {},
   "source": [
    "# Dataclasses"
   ]
  },
  {
   "cell_type": "code",
   "execution_count": 1,
   "id": "fa136fae",
   "metadata": {},
   "outputs": [],
   "source": [
    "# dataclasses  standard library\n",
    "# gives boiler plate code common in many classes\n",
    "# Autogenerate boilerplate with\n",
    "# __init__ , __repr__ , overloads with __eq__ , __ne__\n",
    "# if you opt for you can generate methods for <, <=, > , >=\n",
    "\n",
    "## additional feature of dataclass - immutable objects (frozen objects) - useful in multithreaded environment.\n",
    "## need to refer online documentation for more details."
   ]
  },
  {
   "cell_type": "code",
   "execution_count": 4,
   "id": "1a51499e",
   "metadata": {},
   "outputs": [],
   "source": [
    "from dataclasses import dataclass\n",
    "from typing import ClassVar, List"
   ]
  },
  {
   "cell_type": "code",
   "execution_count": 8,
   "id": "2123fa4b",
   "metadata": {},
   "outputs": [],
   "source": [
    "# take a look at carddataclass.py file\n",
    "# @dataclass : is a decorator that you use for using dataclass feautre\n",
    "# @dataclass(order=True)  : this will autogenerate overloading code for <, <= , > , >= operators\n",
    "\n",
    "# you have noticed we have imported couple of classes from typing standard library module\n",
    "# for dataclasses, any variable - e.g. class attribute or instance attribute - must have a type associated with that.\n",
    "# that helps python autogenrate code correctly\n",
    "# however, executing time, they are ignored - as python is dynamically typed language."
   ]
  },
  {
   "cell_type": "code",
   "execution_count": null,
   "id": "9687a970",
   "metadata": {},
   "outputs": [],
   "source": [
    "# Classvariable and instance variables are defined outside of any methods\n",
    "# class variables require ClassVar declaration \n",
    "# e.g FACES: ClassVar[List[str]] = ['Ace', '2'] ## MEANS : FACES is class variable and is a list of strings.\n",
    "# instance variables which are usually deinfed inside __init__ method, but in dataclasses you define them outside of \n",
    "# any method\n",
    "# e.g. face: str \n",
    "#      suit: str\n",
    "\n",
    "\n",
    "## look at the code from carddataclass.py\n",
    "# read only properties for face and suit is not there as it is automatically available\n",
    "# but you define property for image_name as it doesnot have backing datab"
   ]
  },
  {
   "cell_type": "code",
   "execution_count": 9,
   "id": "af20ec46",
   "metadata": {},
   "outputs": [],
   "source": [
    "# creating card object from carddataclass for demonstration\n",
    "from modules.carddataclass import Card"
   ]
  },
  {
   "cell_type": "code",
   "execution_count": 10,
   "id": "574056b8",
   "metadata": {},
   "outputs": [],
   "source": [
    "c1 = Card(Card.FACES[0], Card.SUITS[3])"
   ]
  },
  {
   "cell_type": "code",
   "execution_count": 11,
   "id": "4d65564d",
   "metadata": {},
   "outputs": [
    {
     "data": {
      "text/plain": [
       "Card(face='Ace', suit='Spades')"
      ]
     },
     "execution_count": 11,
     "metadata": {},
     "output_type": "execute_result"
    }
   ],
   "source": [
    "# upon evaluation you see the output from auto generated __repr__ method\n",
    "# if you want something custom, then you can create your own __repr__ method\n",
    "c1"
   ]
  },
  {
   "cell_type": "code",
   "execution_count": 12,
   "id": "e8c7ca7a",
   "metadata": {},
   "outputs": [
    {
     "name": "stdout",
     "output_type": "stream",
     "text": [
      "Ace of Spades\n"
     ]
    }
   ],
   "source": [
    "# this is coming from our __str__ method\n",
    "print(c1)"
   ]
  },
  {
   "cell_type": "code",
   "execution_count": 13,
   "id": "1b07ed2e",
   "metadata": {},
   "outputs": [
    {
     "data": {
      "text/plain": [
       "'Ace'"
      ]
     },
     "execution_count": 13,
     "metadata": {},
     "output_type": "execute_result"
    }
   ],
   "source": [
    "# attributes and properties are accessible as usual with object\n",
    "c1.face"
   ]
  },
  {
   "cell_type": "code",
   "execution_count": 14,
   "id": "d801f3e4",
   "metadata": {},
   "outputs": [
    {
     "data": {
      "text/plain": [
       "'Spades'"
      ]
     },
     "execution_count": 14,
     "metadata": {},
     "output_type": "execute_result"
    }
   ],
   "source": [
    "c1.suit"
   ]
  },
  {
   "cell_type": "code",
   "execution_count": 15,
   "id": "f0cda54b",
   "metadata": {},
   "outputs": [
    {
     "data": {
      "text/plain": [
       "'Ace_of_Spades.png'"
      ]
     },
     "execution_count": 15,
     "metadata": {},
     "output_type": "execute_result"
    }
   ],
   "source": [
    "c1.image_name"
   ]
  },
  {
   "cell_type": "code",
   "execution_count": 21,
   "id": "4080dee4",
   "metadata": {},
   "outputs": [],
   "source": [
    "# now lets create two more Card objects with face as Ace and suit as Spade and Hearts\n",
    "# this is for demonstration of equality and inqquality\n",
    "c2 = Card(Card.FACES[0], Card.SUITS[3])"
   ]
  },
  {
   "cell_type": "code",
   "execution_count": 18,
   "id": "f5eaaab7",
   "metadata": {},
   "outputs": [
    {
     "data": {
      "text/plain": [
       "Card(face='Ace', suit='Spades')"
      ]
     },
     "execution_count": 18,
     "metadata": {},
     "output_type": "execute_result"
    }
   ],
   "source": [
    "c2"
   ]
  },
  {
   "cell_type": "code",
   "execution_count": 19,
   "id": "f75370d7",
   "metadata": {},
   "outputs": [],
   "source": [
    "c3 = Card(Card.FACES[0], Card.SUITS[0])"
   ]
  },
  {
   "cell_type": "code",
   "execution_count": 20,
   "id": "d74136b5",
   "metadata": {},
   "outputs": [
    {
     "data": {
      "text/plain": [
       "Card(face='Ace', suit='Hearts')"
      ]
     },
     "execution_count": 20,
     "metadata": {},
     "output_type": "execute_result"
    }
   ],
   "source": [
    "c3"
   ]
  },
  {
   "cell_type": "code",
   "execution_count": 22,
   "id": "09f95722",
   "metadata": {},
   "outputs": [
    {
     "data": {
      "text/plain": [
       "True"
      ]
     },
     "execution_count": 22,
     "metadata": {},
     "output_type": "execute_result"
    }
   ],
   "source": [
    "# they are equal\n",
    "c1 == c2"
   ]
  },
  {
   "cell_type": "code",
   "execution_count": 24,
   "id": "c3a4572b",
   "metadata": {},
   "outputs": [
    {
     "data": {
      "text/plain": [
       "False"
      ]
     },
     "execution_count": 24,
     "metadata": {},
     "output_type": "execute_result"
    }
   ],
   "source": [
    "# they are not equal\n",
    "c1 == c3"
   ]
  },
  {
   "cell_type": "code",
   "execution_count": 25,
   "id": "b179bb13",
   "metadata": {},
   "outputs": [
    {
     "data": {
      "text/plain": [
       "True"
      ]
     },
     "execution_count": 25,
     "metadata": {},
     "output_type": "execute_result"
    }
   ],
   "source": [
    "c1 != c3 # this is true"
   ]
  },
  {
   "cell_type": "code",
   "execution_count": 29,
   "id": "03afd379",
   "metadata": {},
   "outputs": [],
   "source": [
    "# import DeckOfCards from deck2.py \n",
    "# this is modified class file which uses dataclass\n",
    "from modules.deck2 import DeckOfCards"
   ]
  },
  {
   "cell_type": "code",
   "execution_count": 31,
   "id": "25963127",
   "metadata": {},
   "outputs": [],
   "source": [
    "deck_of_cards = DeckOfCards()"
   ]
  },
  {
   "cell_type": "code",
   "execution_count": 32,
   "id": "9ab7c9ab",
   "metadata": {},
   "outputs": [
    {
     "name": "stdout",
     "output_type": "stream",
     "text": [
      "Ace of Hearts      2 of Hearts        3 of Hearts        4 of Hearts        \n",
      "5 of Hearts        6 of Hearts        7 of Hearts        8 of Hearts        \n",
      "9 of Hearts        10 of Hearts       Jack of Hearts     Queen of Hearts    \n",
      "King of Hearts     Ace of Diamonds    2 of Diamonds      3 of Diamonds      \n",
      "4 of Diamonds      5 of Diamonds      6 of Diamonds      7 of Diamonds      \n",
      "8 of Diamonds      9 of Diamonds      10 of Diamonds     Jack of Diamonds   \n",
      "Queen of Diamonds  King of Diamonds   Ace of Clubs       2 of Clubs         \n",
      "3 of Clubs         4 of Clubs         5 of Clubs         6 of Clubs         \n",
      "7 of Clubs         8 of Clubs         9 of Clubs         10 of Clubs        \n",
      "Jack of Clubs      Queen of Clubs     King of Clubs      Ace of Spades      \n",
      "2 of Spades        3 of Spades        4 of Spades        5 of Spades        \n",
      "6 of Spades        7 of Spades        8 of Spades        9 of Spades        \n",
      "10 of Spades       Jack of Spades     Queen of Spades    King of Spades     \n",
      "\n"
     ]
    }
   ],
   "source": [
    "print(deck_of_cards)"
   ]
  },
  {
   "cell_type": "code",
   "execution_count": 34,
   "id": "f00818aa",
   "metadata": {
    "collapsed": true
   },
   "outputs": [],
   "source": [
    "# now try changing values for face \n",
    "# as per dataclass definition this has to be string\n",
    "# but try assigning a number 100\n",
    "from modules.carddataclass import Card"
   ]
  },
  {
   "cell_type": "code",
   "execution_count": 35,
   "id": "1ae4cd3a",
   "metadata": {},
   "outputs": [],
   "source": [
    "c = Card('Ace', 'Spades')"
   ]
  },
  {
   "cell_type": "code",
   "execution_count": 36,
   "id": "7d7c717f",
   "metadata": {},
   "outputs": [
    {
     "data": {
      "text/plain": [
       "Card(face='Ace', suit='Spades')"
      ]
     },
     "execution_count": 36,
     "metadata": {},
     "output_type": "execute_result"
    }
   ],
   "source": [
    "c"
   ]
  },
  {
   "cell_type": "code",
   "execution_count": 40,
   "id": "81bf6922",
   "metadata": {},
   "outputs": [],
   "source": [
    "# assigned 100 numerical value instead of str\n",
    "# still code works\n",
    "# as python is dynamically typed language\n",
    "c.face = 100"
   ]
  },
  {
   "cell_type": "code",
   "execution_count": 41,
   "id": "cbd6a974",
   "metadata": {},
   "outputs": [
    {
     "data": {
      "text/plain": [
       "Card(face=100, suit='Spades')"
      ]
     },
     "execution_count": 41,
     "metadata": {},
     "output_type": "execute_result"
    }
   ],
   "source": [
    "c"
   ]
  },
  {
   "cell_type": "code",
   "execution_count": 42,
   "id": "c90652e8",
   "metadata": {},
   "outputs": [
    {
     "data": {
      "text/plain": [
       "int"
      ]
     },
     "execution_count": 42,
     "metadata": {},
     "output_type": "execute_result"
    }
   ],
   "source": [
    "type(c.face)"
   ]
  }
 ],
 "metadata": {
  "kernelspec": {
   "display_name": "Python 3",
   "language": "python",
   "name": "python3"
  },
  "language_info": {
   "codemirror_mode": {
    "name": "ipython",
    "version": 3
   },
   "file_extension": ".py",
   "mimetype": "text/x-python",
   "name": "python",
   "nbconvert_exporter": "python",
   "pygments_lexer": "ipython3",
   "version": "3.8.10"
  }
 },
 "nbformat": 4,
 "nbformat_minor": 5
}
