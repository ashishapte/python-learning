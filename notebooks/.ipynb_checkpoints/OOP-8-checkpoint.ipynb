{
 "cells": [
  {
   "cell_type": "code",
   "execution_count": 1,
   "id": "17b71b32",
   "metadata": {},
   "outputs": [],
   "source": [
    "# SalariedCommissionEmployee - class inherits from CommissionEmployee.\n",
    "# Except for base_salary - all other parameters in constructor function are same as base class.\n",
    "# so you can use special method called super() to initialize parameters using properties / methods defined in baseclass\n",
    "\n",
    "# super().__init__(<>,<>,<>,<>)\n",
    "# only define base_salary related code in subclass init method.\n",
    "# \n",
    "# Thing to notice\n",
    "# Take a look at earnings method.\n",
    "# for saliered commision employee - there are additional salay piece in the earnings\n",
    "# so subclass defines earnings method . If defined it overrides base classes method with same name.\n",
    "# and you call super().earnings() to invoke super class earnings method and add base_salary to it.\n",
    "## __repr__ is also overridden by subclass."
   ]
  },
  {
   "cell_type": "code",
   "execution_count": 5,
   "id": "3e567b24",
   "metadata": {},
   "outputs": [],
   "source": [
    "from modules.salariedcommissionemployee import SalariedCommissionEmployee"
   ]
  },
  {
   "cell_type": "code",
   "execution_count": 6,
   "id": "2d2793d3",
   "metadata": {},
   "outputs": [],
   "source": [
    "from decimal import Decimal"
   ]
  },
  {
   "cell_type": "code",
   "execution_count": 7,
   "id": "c1728183",
   "metadata": {},
   "outputs": [],
   "source": [
    "s = SalariedCommissionEmployee('Bob', 'Lewis', '333-333-3333', Decimal('5000.00'),Decimal('0.04'),Decimal('300.00'))"
   ]
  },
  {
   "cell_type": "code",
   "execution_count": 9,
   "id": "2570d5c1",
   "metadata": {},
   "outputs": [
    {
     "data": {
      "text/plain": [
       "SalariedCommissionEmployee: Bob Lewis\n",
       "social security number: 333-333-3333\n",
       "gross sales: 5000.00\n",
       "commission rate: 0.04\n",
       "base salary: 300.00"
      ]
     },
     "execution_count": 9,
     "metadata": {},
     "output_type": "execute_result"
    }
   ],
   "source": [
    "# in this case __repr__ method of subclass is called , \n",
    "# and it internally calls base classes repr method and uses some of its code\n",
    "# check by evaluating the object.\n",
    "s"
   ]
  },
  {
   "cell_type": "code",
   "execution_count": 11,
   "id": "1cdaf104",
   "metadata": {},
   "outputs": [
    {
     "name": "stdout",
     "output_type": "stream",
     "text": [
      "500.00\n"
     ]
    }
   ],
   "source": [
    "print(f'{s.earnings():,.2f}')"
   ]
  },
  {
   "cell_type": "code",
   "execution_count": 12,
   "id": "d19a57aa",
   "metadata": {},
   "outputs": [],
   "source": [
    "s.gross_sales = Decimal('10000.00')"
   ]
  },
  {
   "cell_type": "code",
   "execution_count": 13,
   "id": "724220dc",
   "metadata": {},
   "outputs": [
    {
     "data": {
      "text/plain": [
       "Decimal('10000.00')"
      ]
     },
     "execution_count": 13,
     "metadata": {},
     "output_type": "execute_result"
    }
   ],
   "source": [
    "# Note that you are using base classes getter and setter using subclass object.\n",
    "# gross_sales is not defined in sub class, it is made available to it by super class.\n",
    "s.gross_sales"
   ]
  }
 ],
 "metadata": {
  "kernelspec": {
   "display_name": "Python 3",
   "language": "python",
   "name": "python3"
  },
  "language_info": {
   "codemirror_mode": {
    "name": "ipython",
    "version": 3
   },
   "file_extension": ".py",
   "mimetype": "text/x-python",
   "name": "python",
   "nbconvert_exporter": "python",
   "pygments_lexer": "ipython3",
   "version": "3.8.10"
  }
 },
 "nbformat": 4,
 "nbformat_minor": 5
}
