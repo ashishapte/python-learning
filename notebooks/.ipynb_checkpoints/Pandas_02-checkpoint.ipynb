{
 "cells": [
  {
   "cell_type": "code",
   "execution_count": 4,
   "id": "978e0b12",
   "metadata": {},
   "outputs": [],
   "source": [
    "import pandas as pd\n",
    "import numpy as np"
   ]
  },
  {
   "cell_type": "code",
   "execution_count": 12,
   "id": "bd7e4403",
   "metadata": {},
   "outputs": [],
   "source": [
    "# create 5 random integrers between 60 and 100 \n",
    "a = np.random.randint(60,101,5)"
   ]
  },
  {
   "cell_type": "code",
   "execution_count": 13,
   "id": "ada6e164",
   "metadata": {},
   "outputs": [
    {
     "data": {
      "text/plain": [
       "array([60, 80, 82, 97, 76])"
      ]
     },
     "execution_count": 13,
     "metadata": {},
     "output_type": "execute_result"
    }
   ],
   "source": [
    "a"
   ]
  },
  {
   "cell_type": "code",
   "execution_count": 14,
   "id": "ef889abe",
   "metadata": {},
   "outputs": [],
   "source": [
    "# create a series using this array\n",
    "# Series can be created using any sequence like Dictionary, list.\n",
    "temperatures = pd.Series(a)"
   ]
  },
  {
   "cell_type": "code",
   "execution_count": 15,
   "id": "5bcfe542",
   "metadata": {},
   "outputs": [
    {
     "data": {
      "text/plain": [
       "count     5.000000\n",
       "mean     79.000000\n",
       "std      13.266499\n",
       "min      60.000000\n",
       "25%      76.000000\n",
       "50%      80.000000\n",
       "75%      82.000000\n",
       "max      97.000000\n",
       "dtype: float64"
      ]
     },
     "execution_count": 15,
     "metadata": {},
     "output_type": "execute_result"
    }
   ],
   "source": [
    "temperatures.describe()"
   ]
  },
  {
   "cell_type": "code",
   "execution_count": null,
   "id": "5a076eaf",
   "metadata": {},
   "outputs": [],
   "source": []
  }
 ],
 "metadata": {
  "kernelspec": {
   "display_name": "Python 3",
   "language": "python",
   "name": "python3"
  },
  "language_info": {
   "codemirror_mode": {
    "name": "ipython",
    "version": 3
   },
   "file_extension": ".py",
   "mimetype": "text/x-python",
   "name": "python",
   "nbconvert_exporter": "python",
   "pygments_lexer": "ipython3",
   "version": "3.8.10"
  }
 },
 "nbformat": 4,
 "nbformat_minor": 5
}
