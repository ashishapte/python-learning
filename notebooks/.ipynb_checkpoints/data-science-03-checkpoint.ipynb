{
 "cells": [
  {
   "cell_type": "code",
   "execution_count": 1,
   "id": "a0a3ac3f",
   "metadata": {},
   "outputs": [],
   "source": [
    "#writting to csv file using csv module.\n",
    "import csv"
   ]
  },
  {
   "cell_type": "code",
   "execution_count": 2,
   "id": "b2ba87c9",
   "metadata": {
    "collapsed": true
   },
   "outputs": [],
   "source": [
    "#csv documentation recommends newline='' as third argument to open.\n",
    "with open('accounts.csv', mode='w', newline='') as accounts:\n",
    "    writer = csv.writer(accounts)\n",
    "    writer.writerow([100, 'Jones', 24.98])\n",
    "    writer.writerow([200, 'Doe', 2345.67])\n",
    "    writer.writerow([300, 'White', 0.00])\n",
    "    writer.writerow([400, 'Stone', -42.16])\n",
    "    writer.writerow([500, 'Rich', 224.62])\n",
    "    writer.writerow([600, 'Ashish A', 10000000])"
   ]
  },
  {
   "cell_type": "code",
   "execution_count": 3,
   "id": "85c67703",
   "metadata": {},
   "outputs": [
    {
     "name": "stdout",
     "output_type": "stream",
     "text": [
      "100,Jones,24.98\r",
      "\r\n",
      "200,Doe,2345.67\r",
      "\r\n",
      "300,White,0.0\r",
      "\r\n",
      "400,Stone,-42.16\r",
      "\r\n",
      "500,Rich,224.62\r",
      "\r\n",
      "600,Ashish A,10000000\r",
      "\r\n"
     ]
    }
   ],
   "source": [
    "!cat accounts.csv"
   ]
  },
  {
   "cell_type": "code",
   "execution_count": 6,
   "id": "b7b25a06",
   "metadata": {},
   "outputs": [
    {
     "name": "stdout",
     "output_type": "stream",
     "text": [
      "Accounts  Name      Balance   \n",
      "100       Jones     24.98     \n",
      "200       Doe       2345.67   \n",
      "300       White     0.0       \n",
      "400       Stone     -42.16    \n",
      "500       Rich      224.62    \n",
      "600       Ashish A  10000000  \n"
     ]
    }
   ],
   "source": [
    "# reading csv file\n",
    "with open('accounts.csv', 'r', newline='') as accounts:\n",
    "    print(f'{\"Accounts\":<10}{\"Name\":<10}{\"Balance\":<10}')\n",
    "    reader = csv.reader(accounts)\n",
    "    for record in reader:\n",
    "        account, name, balance = record ## record is a list object\n",
    "        print(f'{account:<10}{name:<10}{balance:<10}')"
   ]
  }
 ],
 "metadata": {
  "kernelspec": {
   "display_name": "Python 3",
   "language": "python",
   "name": "python3"
  },
  "language_info": {
   "codemirror_mode": {
    "name": "ipython",
    "version": 3
   },
   "file_extension": ".py",
   "mimetype": "text/x-python",
   "name": "python",
   "nbconvert_exporter": "python",
   "pygments_lexer": "ipython3",
   "version": "3.8.10"
  }
 },
 "nbformat": 4,
 "nbformat_minor": 5
}
