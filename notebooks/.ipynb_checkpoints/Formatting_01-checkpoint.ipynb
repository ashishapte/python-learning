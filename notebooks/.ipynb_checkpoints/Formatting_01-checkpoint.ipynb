{
 "cells": [
  {
   "cell_type": "code",
   "execution_count": null,
   "id": "25772a3f",
   "metadata": {},
   "outputs": [],
   "source": [
    "# Data Munging"
   ]
  },
  {
   "cell_type": "code",
   "execution_count": 1,
   "id": "80dbab9b",
   "metadata": {},
   "outputs": [
    {
     "data": {
      "text/plain": [
       "'17.49'"
      ]
     },
     "execution_count": 1,
     "metadata": {},
     "output_type": "execute_result"
    }
   ],
   "source": [
    "# 2 floating point precision\n",
    "f'{17.489:.2f}'"
   ]
  },
  {
   "cell_type": "code",
   "execution_count": 3,
   "id": "740c760f",
   "metadata": {},
   "outputs": [
    {
     "data": {
      "text/plain": [
       "'10'"
      ]
     },
     "execution_count": 3,
     "metadata": {},
     "output_type": "execute_result"
    }
   ],
   "source": [
    "f'{10:d}'"
   ]
  },
  {
   "cell_type": "code",
   "execution_count": 4,
   "id": "45ab249e",
   "metadata": {},
   "outputs": [
    {
     "data": {
      "text/plain": [
       "'A a'"
      ]
     },
     "execution_count": 4,
     "metadata": {},
     "output_type": "execute_result"
    }
   ],
   "source": [
    "f'{65:c} {97:c}'"
   ]
  },
  {
   "cell_type": "code",
   "execution_count": 7,
   "id": "91587500",
   "metadata": {},
   "outputs": [],
   "source": [
    "from decimal import Decimal"
   ]
  },
  {
   "cell_type": "code",
   "execution_count": 8,
   "id": "20e265b1",
   "metadata": {},
   "outputs": [
    {
     "data": {
      "text/plain": [
       "'1000.000'"
      ]
     },
     "execution_count": 8,
     "metadata": {},
     "output_type": "execute_result"
    }
   ],
   "source": [
    "f'{Decimal(\"1000.0\"):.3f}'"
   ]
  },
  {
   "cell_type": "code",
   "execution_count": 10,
   "id": "facc5ed8",
   "metadata": {},
   "outputs": [
    {
     "data": {
      "text/plain": [
       "'1.000e+6'"
      ]
     },
     "execution_count": 10,
     "metadata": {},
     "output_type": "execute_result"
    }
   ],
   "source": [
    "f'{Decimal(\"1000000.0\"):.3e}'"
   ]
  },
  {
   "cell_type": "code",
   "execution_count": 11,
   "id": "0bfa3425",
   "metadata": {},
   "outputs": [
    {
     "data": {
      "text/plain": [
       "'1.000E+6'"
      ]
     },
     "execution_count": 11,
     "metadata": {},
     "output_type": "execute_result"
    }
   ],
   "source": [
    "f'{Decimal(\"1000000.0\"):.3E}'"
   ]
  },
  {
   "cell_type": "code",
   "execution_count": 13,
   "id": "b28f1cd4",
   "metadata": {},
   "outputs": [
    {
     "data": {
      "text/plain": [
       "':-)'"
      ]
     },
     "execution_count": 13,
     "metadata": {},
     "output_type": "execute_result"
    }
   ],
   "source": [
    "#use type specifier c to display characters codes 58, 45 and 41\n",
    "f'{58:c}{45:c}{41:c}'"
   ]
  },
  {
   "cell_type": "code",
   "execution_count": 14,
   "id": "807220c9",
   "metadata": {},
   "outputs": [
    {
     "data": {
      "text/plain": [
       "'[        27]'"
      ]
     },
     "execution_count": 14,
     "metadata": {},
     "output_type": "execute_result"
    }
   ],
   "source": [
    "#numberical values are by default right aligned\n",
    "f'[{27:10d}]'"
   ]
  },
  {
   "cell_type": "code",
   "execution_count": 16,
   "id": "d91e9205",
   "metadata": {},
   "outputs": [
    {
     "data": {
      "text/plain": [
       "'[  3.500000]'"
      ]
     },
     "execution_count": 16,
     "metadata": {},
     "output_type": "execute_result"
    }
   ],
   "source": [
    "# floating point print gives additional 6 positions and filled with zero if needed.\n",
    "f'[{3.5:10f}]'"
   ]
  },
  {
   "cell_type": "code",
   "execution_count": 17,
   "id": "e9945536",
   "metadata": {},
   "outputs": [
    {
     "data": {
      "text/plain": [
       "'[hello     ]'"
      ]
     },
     "execution_count": 17,
     "metadata": {},
     "output_type": "execute_result"
    }
   ],
   "source": [
    "# text is by default left aligned\n",
    "f'[{\"hello\":10}]'"
   ]
  },
  {
   "cell_type": "code",
   "execution_count": 18,
   "id": "c6ec2bd0",
   "metadata": {},
   "outputs": [
    {
     "data": {
      "text/plain": [
       "'[27             ]'"
      ]
     },
     "execution_count": 18,
     "metadata": {},
     "output_type": "execute_result"
    }
   ],
   "source": [
    "# forcing numbers to left alignment\n",
    "f'[{27:<15d}]'"
   ]
  },
  {
   "cell_type": "code",
   "execution_count": 19,
   "id": "c1ccb5da",
   "metadata": {},
   "outputs": [
    {
     "data": {
      "text/plain": [
       "'[3.500000       ]'"
      ]
     },
     "execution_count": 19,
     "metadata": {},
     "output_type": "execute_result"
    }
   ],
   "source": [
    "f'[{3.5:<15f}]'"
   ]
  },
  {
   "cell_type": "code",
   "execution_count": 20,
   "id": "44e9b63a",
   "metadata": {},
   "outputs": [
    {
     "data": {
      "text/plain": [
       "'[          hello]'"
      ]
     },
     "execution_count": 20,
     "metadata": {},
     "output_type": "execute_result"
    }
   ],
   "source": [
    "f'[{\"hello\":>15}]'"
   ]
  },
  {
   "cell_type": "code",
   "execution_count": 22,
   "id": "76b575a1",
   "metadata": {},
   "outputs": [
    {
     "data": {
      "text/plain": [
       "'[  27   ]'"
      ]
     },
     "execution_count": 22,
     "metadata": {},
     "output_type": "execute_result"
    }
   ],
   "source": [
    "#centering \n",
    "f'[{27:^7d}]'"
   ]
  },
  {
   "cell_type": "code",
   "execution_count": 24,
   "id": "03540139",
   "metadata": {},
   "outputs": [
    {
     "data": {
      "text/plain": [
       "'[Amada     ]'"
      ]
     },
     "execution_count": 24,
     "metadata": {},
     "output_type": "execute_result"
    }
   ],
   "source": [
    "# display 'Amanda' as right, center and left alighed in 10 char field. Use square brackets for clarity\n",
    "f'[{\"Amada\":10}]'"
   ]
  },
  {
   "cell_type": "code",
   "execution_count": 25,
   "id": "850cf535",
   "metadata": {},
   "outputs": [
    {
     "data": {
      "text/plain": [
       "'[     Amada]'"
      ]
     },
     "execution_count": 25,
     "metadata": {},
     "output_type": "execute_result"
    }
   ],
   "source": [
    "f'[{\"Amada\":>10}]'"
   ]
  },
  {
   "cell_type": "code",
   "execution_count": 27,
   "id": "69faac60",
   "metadata": {},
   "outputs": [
    {
     "data": {
      "text/plain": [
       "'[  Amada   ]'"
      ]
     },
     "execution_count": 27,
     "metadata": {},
     "output_type": "execute_result"
    }
   ],
   "source": [
    "f'[{\"Amada\":^10}]'\n",
    "# note that remaining spaces are added to right"
   ]
  },
  {
   "cell_type": "code",
   "execution_count": 29,
   "id": "bbdb08cd",
   "metadata": {},
   "outputs": [
    {
     "name": "stdout",
     "output_type": "stream",
     "text": [
      "[Amada     ]\n",
      "[     Amada]\n",
      "[  Amada   ]\n"
     ]
    }
   ],
   "source": [
    "print(f'[{\"Amada\":10}]\\n[{\"Amada\":>10}]\\n[{\"Amada\":^10}]')"
   ]
  },
  {
   "cell_type": "code",
   "execution_count": null,
   "id": "fa12ed44",
   "metadata": {},
   "outputs": [],
   "source": []
  }
 ],
 "metadata": {
  "kernelspec": {
   "display_name": "Python 3",
   "language": "python",
   "name": "python3"
  },
  "language_info": {
   "codemirror_mode": {
    "name": "ipython",
    "version": 3
   },
   "file_extension": ".py",
   "mimetype": "text/x-python",
   "name": "python",
   "nbconvert_exporter": "python",
   "pygments_lexer": "ipython3",
   "version": "3.8.10"
  }
 },
 "nbformat": 4,
 "nbformat_minor": 5
}
