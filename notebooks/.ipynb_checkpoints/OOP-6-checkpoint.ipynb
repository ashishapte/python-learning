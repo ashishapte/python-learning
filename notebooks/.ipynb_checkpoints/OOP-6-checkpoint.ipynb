{
 "cells": [
  {
   "cell_type": "code",
   "execution_count": 1,
   "id": "9f1b517a",
   "metadata": {},
   "outputs": [],
   "source": [
    "# Base Classes and Subclasses"
   ]
  },
  {
   "cell_type": "code",
   "execution_count": 2,
   "id": "4f683eaf",
   "metadata": {},
   "outputs": [],
   "source": [
    "# Class hirarchy starts with class called object\n",
    "# In Object class - python defines special methods - like __repr__, __str__ , __format__ etc.\n",
    "# operator overload related methods"
   ]
  },
  {
   "cell_type": "code",
   "execution_count": null,
   "id": "6cd31048",
   "metadata": {},
   "outputs": [],
   "source": [
    "# class from where you inherit is called Base Class (e.g Parent)\n",
    "# classes that inherit from Base class are called Subclasses.\n",
    "# e.g\n",
    "\n",
    "# Base Class          SubClasss\n",
    "# Student            GraduateStudent, UndergraduateStudent\n",
    "# Shape              Circle, Triangle, Rectangle, Sphere , Cube\n",
    "# Employee           Faculty , Staff"
   ]
  },
  {
   "cell_type": "code",
   "execution_count": null,
   "id": "fa6725f9",
   "metadata": {},
   "outputs": [],
   "source": [
    "#any class implicitly inherits from python base class called object\n",
    "# e.g\n",
    "# class CommissionEmployee():  ## is same as ##  class CommissionEmployee(object):"
   ]
  }
 ],
 "metadata": {
  "kernelspec": {
   "display_name": "Python 3",
   "language": "python",
   "name": "python3"
  },
  "language_info": {
   "codemirror_mode": {
    "name": "ipython",
    "version": 3
   },
   "file_extension": ".py",
   "mimetype": "text/x-python",
   "name": "python",
   "nbconvert_exporter": "python",
   "pygments_lexer": "ipython3",
   "version": "3.8.10"
  }
 },
 "nbformat": 4,
 "nbformat_minor": 5
}
