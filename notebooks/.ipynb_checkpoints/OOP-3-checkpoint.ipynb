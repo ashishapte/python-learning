{
 "cells": [
  {
   "cell_type": "code",
   "execution_count": 1,
   "id": "c4d8f2d3",
   "metadata": {},
   "outputs": [],
   "source": [
    "# Private data"
   ]
  },
  {
   "cell_type": "code",
   "execution_count": 3,
   "id": "6195b646",
   "metadata": {},
   "outputs": [],
   "source": [
    "from modules.private import PrivateClass"
   ]
  },
  {
   "cell_type": "code",
   "execution_count": 4,
   "id": "8eb570d9",
   "metadata": {},
   "outputs": [],
   "source": [
    "a = PrivateClass()"
   ]
  },
  {
   "cell_type": "code",
   "execution_count": 6,
   "id": "01138039",
   "metadata": {},
   "outputs": [
    {
     "data": {
      "text/plain": [
       "'public'"
      ]
     },
     "execution_count": 6,
     "metadata": {},
     "output_type": "execute_result"
    }
   ],
   "source": [
    "# a.public_data - returns string 'public' \n",
    "a.public_data"
   ]
  },
  {
   "cell_type": "code",
   "execution_count": 7,
   "id": "953ae1f2",
   "metadata": {},
   "outputs": [
    {
     "ename": "AttributeError",
     "evalue": "'PrivateClass' object has no attribute '__private_data'",
     "output_type": "error",
     "traceback": [
      "\u001b[0;31m---------------------------------------------------------------------------\u001b[0m",
      "\u001b[0;31mAttributeError\u001b[0m                            Traceback (most recent call last)",
      "\u001b[0;32m<ipython-input-7-03c682c3aa40>\u001b[0m in \u001b[0;36m<module>\u001b[0;34m\u001b[0m\n\u001b[1;32m      1\u001b[0m \u001b[0;31m# you can create private variable with starting from two underscores\u001b[0m\u001b[0;34m\u001b[0m\u001b[0;34m\u001b[0m\u001b[0;34m\u001b[0m\u001b[0m\n\u001b[0;32m----> 2\u001b[0;31m \u001b[0ma\u001b[0m\u001b[0;34m.\u001b[0m\u001b[0m__private_data\u001b[0m\u001b[0;34m\u001b[0m\u001b[0;34m\u001b[0m\u001b[0m\n\u001b[0m",
      "\u001b[0;31mAttributeError\u001b[0m: 'PrivateClass' object has no attribute '__private_data'"
     ]
    }
   ],
   "source": [
    "# you can create private variable with starting from two underscores\n",
    "# so it is not directly accessible \n",
    "a.__private_data"
   ]
  },
  {
   "cell_type": "code",
   "execution_count": 8,
   "id": "1e200a18",
   "metadata": {},
   "outputs": [
    {
     "data": {
      "text/plain": [
       "'private'"
      ]
     },
     "execution_count": 8,
     "metadata": {},
     "output_type": "execute_result"
    }
   ],
   "source": [
    "# But there is a workaround to access this private data as well\n",
    "# Pythod adds _<name of the class> in front of your private variable to hide it.\n",
    "a._PrivateClass__private_data"
   ]
  }
 ],
 "metadata": {
  "kernelspec": {
   "display_name": "Python 3",
   "language": "python",
   "name": "python3"
  },
  "language_info": {
   "codemirror_mode": {
    "name": "ipython",
    "version": 3
   },
   "file_extension": ".py",
   "mimetype": "text/x-python",
   "name": "python",
   "nbconvert_exporter": "python",
   "pygments_lexer": "ipython3",
   "version": "3.8.10"
  }
 },
 "nbformat": 4,
 "nbformat_minor": 5
}
