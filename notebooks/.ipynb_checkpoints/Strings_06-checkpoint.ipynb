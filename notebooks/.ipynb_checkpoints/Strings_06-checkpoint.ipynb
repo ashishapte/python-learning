{
 "cells": [
  {
   "cell_type": "code",
   "execution_count": 2,
   "id": "0dc028ed",
   "metadata": {},
   "outputs": [],
   "source": [
    "import re"
   ]
  },
  {
   "cell_type": "code",
   "execution_count": 4,
   "id": "f6d4cdc8",
   "metadata": {},
   "outputs": [
    {
     "data": {
      "text/plain": [
       "'1, 2, 3, 4'"
      ]
     },
     "execution_count": 4,
     "metadata": {},
     "output_type": "execute_result"
    }
   ],
   "source": [
    "re.sub(r'\\t', ', ', '1\\t2\\t3\\t4')"
   ]
  },
  {
   "cell_type": "code",
   "execution_count": 5,
   "id": "211f5d62",
   "metadata": {},
   "outputs": [
    {
     "data": {
      "text/plain": [
       "'1, 2, 3\\t4'"
      ]
     },
     "execution_count": 5,
     "metadata": {},
     "output_type": "execute_result"
    }
   ],
   "source": [
    "re.sub(r'\\t', ', ', '1\\t2\\t3\\t4', count=2)"
   ]
  },
  {
   "cell_type": "code",
   "execution_count": 6,
   "id": "4383c84a",
   "metadata": {},
   "outputs": [
    {
     "data": {
      "text/plain": [
       "['1', '2', '3', '4', '5', '6', '7', '8']"
      ]
     },
     "execution_count": 6,
     "metadata": {},
     "output_type": "execute_result"
    }
   ],
   "source": [
    "re.split(r',\\s*', '1, 2,   3,4, 5,    6,7, 8')"
   ]
  },
  {
   "cell_type": "code",
   "execution_count": 7,
   "id": "2ca5276a",
   "metadata": {},
   "outputs": [
    {
     "data": {
      "text/plain": [
       "['1', '2', '3', '4, 5,    6,7, 8']"
      ]
     },
     "execution_count": 7,
     "metadata": {},
     "output_type": "execute_result"
    }
   ],
   "source": [
    "re.split(r',\\s*', '1, 2,   3,4, 5,    6,7, 8', maxsplit=3)"
   ]
  },
  {
   "cell_type": "code",
   "execution_count": 8,
   "id": "d2e8fbad",
   "metadata": {},
   "outputs": [
    {
     "data": {
      "text/plain": [
       "'A, B, C, D'"
      ]
     },
     "execution_count": 8,
     "metadata": {},
     "output_type": "execute_result"
    }
   ],
   "source": [
    "# replace each occurrence of one or more adjacent tab characters in the following string with a comma and a space.\n",
    "s1 = 'A\\tB\\t\\tC\\t\\t\\tD'\n",
    "re.sub(r'\\t+', ', ', s1)"
   ]
  },
  {
   "cell_type": "code",
   "execution_count": 11,
   "id": "6fbb5d73",
   "metadata": {},
   "outputs": [
    {
     "data": {
      "text/plain": [
       "['123', 'Main', 'Street']"
      ]
     },
     "execution_count": 11,
     "metadata": {},
     "output_type": "execute_result"
    }
   ],
   "source": [
    "# split using re module at one or more adjacent '$' character\n",
    "s2 = '123$Main$$Street'\n",
    "re.split(r'[$]+', s2)"
   ]
  },
  {
   "cell_type": "code",
   "execution_count": null,
   "id": "974ea6fd",
   "metadata": {},
   "outputs": [],
   "source": [
    "# re serach function and Match function\n",
    "# search - searches for the pattern anywhere in the string \n",
    "# match - searches at the beginning of the string"
   ]
  },
  {
   "cell_type": "code",
   "execution_count": 12,
   "id": "39144de2",
   "metadata": {
    "collapsed": true
   },
   "outputs": [],
   "source": [
    "result = re.search('Python', 'Python is fun')"
   ]
  },
  {
   "cell_type": "code",
   "execution_count": 13,
   "id": "b1747d42",
   "metadata": {},
   "outputs": [
    {
     "data": {
      "text/plain": [
       "'Python'"
      ]
     },
     "execution_count": 13,
     "metadata": {},
     "output_type": "execute_result"
    }
   ],
   "source": [
    "# result is an object with methods in it\n",
    "result.group()"
   ]
  },
  {
   "cell_type": "code",
   "execution_count": 14,
   "id": "94ca13e1",
   "metadata": {},
   "outputs": [
    {
     "data": {
      "text/plain": [
       "'Python'"
      ]
     },
     "execution_count": 14,
     "metadata": {},
     "output_type": "execute_result"
    }
   ],
   "source": [
    "result.group() if result else 'not found'"
   ]
  },
  {
   "cell_type": "code",
   "execution_count": 15,
   "id": "40727765",
   "metadata": {},
   "outputs": [],
   "source": [
    "result = re.search('fun!', 'Python is fun')"
   ]
  },
  {
   "cell_type": "code",
   "execution_count": 16,
   "id": "9dda7542",
   "metadata": {},
   "outputs": [
    {
     "data": {
      "text/plain": [
       "'not found'"
      ]
     },
     "execution_count": 16,
     "metadata": {},
     "output_type": "execute_result"
    }
   ],
   "source": [
    "result.group() if result else 'not found'"
   ]
  },
  {
   "cell_type": "code",
   "execution_count": 17,
   "id": "65e17d85",
   "metadata": {},
   "outputs": [],
   "source": [
    "match_result = re.match('fun', 'Python is fun')"
   ]
  },
  {
   "cell_type": "code",
   "execution_count": 20,
   "id": "3fa2881a",
   "metadata": {},
   "outputs": [
    {
     "data": {
      "text/plain": [
       "NoneType"
      ]
     },
     "execution_count": 20,
     "metadata": {},
     "output_type": "execute_result"
    }
   ],
   "source": [
    "# output is None as there is no match \n",
    "# match searches for only at the beginning of the string\n",
    "type(match_result)"
   ]
  },
  {
   "cell_type": "code",
   "execution_count": 21,
   "id": "0fbf1c09",
   "metadata": {},
   "outputs": [],
   "source": [
    "match_result = re.match('fun', 'fun is Python')"
   ]
  },
  {
   "cell_type": "code",
   "execution_count": 22,
   "id": "3c617317",
   "metadata": {},
   "outputs": [
    {
     "data": {
      "text/plain": [
       "'fun'"
      ]
     },
     "execution_count": 22,
     "metadata": {},
     "output_type": "execute_result"
    }
   ],
   "source": [
    "match_result.group()"
   ]
  },
  {
   "cell_type": "markdown",
   "id": "7ed1df61",
   "metadata": {},
   "source": [
    "## ignoring case"
   ]
  },
  {
   "cell_type": "code",
   "execution_count": 23,
   "id": "397f524f",
   "metadata": {
    "collapsed": true
   },
   "outputs": [],
   "source": [
    "result3 = re.search('Sam', 'SAM WHITE', flags=re.IGNORECASE)"
   ]
  },
  {
   "cell_type": "code",
   "execution_count": 26,
   "id": "002c2acf",
   "metadata": {},
   "outputs": [
    {
     "data": {
      "text/plain": [
       "'SAM'"
      ]
     },
     "execution_count": 26,
     "metadata": {},
     "output_type": "execute_result"
    }
   ],
   "source": [
    "result3.group()"
   ]
  }
 ],
 "metadata": {
  "kernelspec": {
   "display_name": "Python 3",
   "language": "python",
   "name": "python3"
  },
  "language_info": {
   "codemirror_mode": {
    "name": "ipython",
    "version": 3
   },
   "file_extension": ".py",
   "mimetype": "text/x-python",
   "name": "python",
   "nbconvert_exporter": "python",
   "pygments_lexer": "ipython3",
   "version": "3.8.10"
  }
 },
 "nbformat": 4,
 "nbformat_minor": 5
}
