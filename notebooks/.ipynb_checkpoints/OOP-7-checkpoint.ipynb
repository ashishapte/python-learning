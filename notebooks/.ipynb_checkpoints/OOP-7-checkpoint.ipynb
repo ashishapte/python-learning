{
 "cells": [
  {
   "cell_type": "code",
   "execution_count": 1,
   "id": "02671b24",
   "metadata": {},
   "outputs": [],
   "source": [
    "# take a look at commissionemployee.py file\n",
    "# it is located in the modules folder."
   ]
  },
  {
   "cell_type": "code",
   "execution_count": 3,
   "id": "f104e576",
   "metadata": {},
   "outputs": [],
   "source": [
    "from modules.commissionemployee import CommissionEmployee"
   ]
  },
  {
   "cell_type": "code",
   "execution_count": 4,
   "id": "d0422c3d",
   "metadata": {},
   "outputs": [],
   "source": [
    "from decimal import Decimal"
   ]
  },
  {
   "cell_type": "code",
   "execution_count": 5,
   "id": "a62a4616",
   "metadata": {},
   "outputs": [
    {
     "name": "stdout",
     "output_type": "stream",
     "text": [
      "Help on class CommissionEmployee in module modules.commissionemployee:\n",
      "\n",
      "class CommissionEmployee(builtins.object)\n",
      " |  CommissionEmployee(first_name, last_name, ssn, gross_sales, commission_rate)\n",
      " |  \n",
      " |  An employee who gets paid commission based on gross sales.\n",
      " |  \n",
      " |  Methods defined here:\n",
      " |  \n",
      " |  __init__(self, first_name, last_name, ssn, gross_sales, commission_rate)\n",
      " |      Initialize CommissionEmployee's attributes.\n",
      " |  \n",
      " |  __repr__(self)\n",
      " |      Return string representation for repr().\n",
      " |  \n",
      " |  earnings(self)\n",
      " |      Calculate earnings.\n",
      " |  \n",
      " |  ----------------------------------------------------------------------\n",
      " |  Readonly properties defined here:\n",
      " |  \n",
      " |  first_name\n",
      " |  \n",
      " |  last_name\n",
      " |  \n",
      " |  ssn\n",
      " |  \n",
      " |  ----------------------------------------------------------------------\n",
      " |  Data descriptors defined here:\n",
      " |  \n",
      " |  __dict__\n",
      " |      dictionary for instance variables (if defined)\n",
      " |  \n",
      " |  __weakref__\n",
      " |      list of weak references to the object (if defined)\n",
      " |  \n",
      " |  commission_rate\n",
      " |  \n",
      " |  gross_sales\n",
      "\n"
     ]
    }
   ],
   "source": [
    "help(CommissionEmployee)"
   ]
  },
  {
   "cell_type": "code",
   "execution_count": 6,
   "id": "6f075fc1",
   "metadata": {},
   "outputs": [],
   "source": [
    "c = CommissionEmployee('Sue', 'Jones', '333-33-3333', Decimal('10000.00'), Decimal('0.06'))"
   ]
  },
  {
   "cell_type": "code",
   "execution_count": 7,
   "id": "217c356c",
   "metadata": {},
   "outputs": [
    {
     "data": {
      "text/plain": [
       "CommissionEmployee: Sue Jones\n",
       "social security number: 333-33-3333\n",
       "gross sales: 10000.00\n",
       "commission rate: 0.06"
      ]
     },
     "execution_count": 7,
     "metadata": {},
     "output_type": "execute_result"
    }
   ],
   "source": [
    "c"
   ]
  },
  {
   "cell_type": "code",
   "execution_count": 10,
   "id": "f4e32623",
   "metadata": {},
   "outputs": [
    {
     "name": "stdout",
     "output_type": "stream",
     "text": [
      "600.00\n"
     ]
    }
   ],
   "source": [
    "# calling earnings method and adding some formatting in print.\n",
    "print(f'{c.earnings():,.2f}')"
   ]
  }
 ],
 "metadata": {
  "kernelspec": {
   "display_name": "Python 3",
   "language": "python",
   "name": "python3"
  },
  "language_info": {
   "codemirror_mode": {
    "name": "ipython",
    "version": 3
   },
   "file_extension": ".py",
   "mimetype": "text/x-python",
   "name": "python",
   "nbconvert_exporter": "python",
   "pygments_lexer": "ipython3",
   "version": "3.8.10"
  }
 },
 "nbformat": 4,
 "nbformat_minor": 5
}
