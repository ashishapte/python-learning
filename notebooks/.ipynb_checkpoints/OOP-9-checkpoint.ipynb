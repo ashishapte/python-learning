{
 "cells": [
  {
   "cell_type": "code",
   "execution_count": 1,
   "id": "acf3855f",
   "metadata": {},
   "outputs": [],
   "source": [
    "from modules.commissionemployee import CommissionEmployee"
   ]
  },
  {
   "cell_type": "code",
   "execution_count": 2,
   "id": "e8e4fbde",
   "metadata": {},
   "outputs": [],
   "source": [
    "from modules.salariedcommissionemployee import SalariedCommissionEmployee"
   ]
  },
  {
   "cell_type": "code",
   "execution_count": 3,
   "id": "2057e64f",
   "metadata": {},
   "outputs": [],
   "source": [
    "from decimal import Decimal"
   ]
  },
  {
   "cell_type": "code",
   "execution_count": 4,
   "id": "8c76c0c2",
   "metadata": {},
   "outputs": [],
   "source": [
    "c = CommissionEmployee('Sue', 'Jones', '333-33-3333', Decimal('10000.00'), Decimal('0.06'))"
   ]
  },
  {
   "cell_type": "code",
   "execution_count": 5,
   "id": "172acc21",
   "metadata": {},
   "outputs": [],
   "source": [
    "s = SalariedCommissionEmployee('Bob', 'Lewis', '333-333-3333', Decimal('5000.00'),Decimal('0.04'),Decimal('300.00'))"
   ]
  },
  {
   "cell_type": "code",
   "execution_count": 6,
   "id": "83a06a09",
   "metadata": {},
   "outputs": [
    {
     "data": {
      "text/plain": [
       "True"
      ]
     },
     "execution_count": 6,
     "metadata": {},
     "output_type": "execute_result"
    }
   ],
   "source": [
    "issubclass(SalariedCommissionEmployee, CommissionEmployee)"
   ]
  },
  {
   "cell_type": "code",
   "execution_count": 7,
   "id": "9bfa2943",
   "metadata": {},
   "outputs": [
    {
     "data": {
      "text/plain": [
       "True"
      ]
     },
     "execution_count": 7,
     "metadata": {},
     "output_type": "execute_result"
    }
   ],
   "source": [
    "# as its CommissionEmployee is parent for SalariedCommissionEmployee\n",
    "isinstance(s, CommissionEmployee)"
   ]
  },
  {
   "cell_type": "code",
   "execution_count": 8,
   "id": "a5d9f23b",
   "metadata": {},
   "outputs": [
    {
     "data": {
      "text/plain": [
       "True"
      ]
     },
     "execution_count": 8,
     "metadata": {},
     "output_type": "execute_result"
    }
   ],
   "source": [
    "isinstance(s, SalariedCommissionEmployee)"
   ]
  },
  {
   "cell_type": "code",
   "execution_count": 9,
   "id": "32bf6b8c",
   "metadata": {},
   "outputs": [
    {
     "data": {
      "text/plain": [
       "False"
      ]
     },
     "execution_count": 9,
     "metadata": {},
     "output_type": "execute_result"
    }
   ],
   "source": [
    "# this is false as c is instance of base class no subclass.\n",
    "isinstance(c, SalariedCommissionEmployee)"
   ]
  },
  {
   "cell_type": "code",
   "execution_count": 10,
   "id": "0bfec826",
   "metadata": {},
   "outputs": [],
   "source": [
    "employees = [c, s]"
   ]
  },
  {
   "cell_type": "code",
   "execution_count": 11,
   "id": "e88bf4b4",
   "metadata": {},
   "outputs": [
    {
     "name": "stdout",
     "output_type": "stream",
     "text": [
      "CommissionEmployee: Sue Jones\n",
      "social security number: 333-33-3333\n",
      "gross sales: 10000.00\n",
      "commission rate: 0.06\n",
      "600.00\n",
      "\n",
      "SalariedCommissionEmployee: Bob Lewis\n",
      "social security number: 333-333-3333\n",
      "gross sales: 5000.00\n",
      "commission rate: 0.04\n",
      "base salary: 300.00\n",
      "500.00\n",
      "\n"
     ]
    }
   ],
   "source": [
    "# now employee list has two instances, one is salierd class and other is from comissioned class\n",
    "# now looping through and printing objects and thier earnings\n",
    "# so python is calling respective objects earnings method regardless of what class employee belongs to\n",
    "# this is polymorphism\n",
    "for employee in employees:\n",
    "    print(employee)\n",
    "    print(f\"{employee.earnings():,.2f}\\n\")"
   ]
  },
  {
   "cell_type": "markdown",
   "id": "6f897ef9",
   "metadata": {},
   "source": [
    "# Duck typing"
   ]
  },
  {
   "cell_type": "code",
   "execution_count": null,
   "id": "996db725",
   "metadata": {},
   "outputs": [],
   "source": [
    "# In above case employee objects were related.\n",
    "# but python allows unrelated objects to behave in similar manner.\n",
    "# provided they have similar interfaces\n",
    "\n",
    "## duck typing is a programming stlye which does not look at an objects type to determine if it has the right \n",
    "# interface; instead, the method or attribute is simply called or used(\"if it looks like a duck and quacks like a duck , it must be a duck.\")\n"
   ]
  },
  {
   "cell_type": "code",
   "execution_count": 13,
   "id": "530934fb",
   "metadata": {},
   "outputs": [],
   "source": [
    "class WellPaidDuck:\n",
    "    def __repr__(self):\n",
    "        return 'I am a well paid Duck'\n",
    "    def earnings(self):\n",
    "        return Decimal('1_000_000')\n"
   ]
  },
  {
   "cell_type": "code",
   "execution_count": 14,
   "id": "cd9d909d",
   "metadata": {},
   "outputs": [],
   "source": [
    "# Well Paid duck class is not related to above two employee related classes\n",
    "# but it has __repr__ method and earnings() method.\n",
    "# creating objects for each class\n",
    "# note c and s are base and subclass objects respectively\n",
    "# where as d is WellPaidDuck object , which has no relation to c and s\n",
    "\n",
    "c = CommissionEmployee('Sue', 'Jones', '333-33-3333', Decimal('10000.00'), Decimal('0.06'))\n",
    "s = SalariedCommissionEmployee('Bob', 'Lewis', '333-333-3333', Decimal('5000.00'),Decimal('0.04'),Decimal('300.00'))\n",
    "d = WellPaidDuck()"
   ]
  },
  {
   "cell_type": "code",
   "execution_count": 18,
   "id": "85cc73b6",
   "metadata": {},
   "outputs": [],
   "source": [
    "employees = [c, s, d]"
   ]
  },
  {
   "cell_type": "code",
   "execution_count": 19,
   "id": "8212df64",
   "metadata": {},
   "outputs": [
    {
     "name": "stdout",
     "output_type": "stream",
     "text": [
      "CommissionEmployee: Sue Jones\n",
      "social security number: 333-33-3333\n",
      "gross sales: 10000.00\n",
      "commission rate: 0.06\n",
      "600.00\n",
      "\n",
      "SalariedCommissionEmployee: Bob Lewis\n",
      "social security number: 333-333-3333\n",
      "gross sales: 5000.00\n",
      "commission rate: 0.04\n",
      "base salary: 300.00\n",
      "500.00\n",
      "\n",
      "I am a well paid Duck\n",
      "1,000,000.00\n",
      "\n"
     ]
    }
   ],
   "source": [
    "for employee in employees:\n",
    "    print(employee)\n",
    "    print(f\"{employee.earnings():,.2f}\\n\")\n",
    "    \n",
    "\n",
    "# object d produced similar output "
   ]
  },
  {
   "cell_type": "code",
   "execution_count": null,
   "id": "7d6ec598",
   "metadata": {},
   "outputs": [],
   "source": []
  }
 ],
 "metadata": {
  "kernelspec": {
   "display_name": "Python 3",
   "language": "python",
   "name": "python3"
  },
  "language_info": {
   "codemirror_mode": {
    "name": "ipython",
    "version": 3
   },
   "file_extension": ".py",
   "mimetype": "text/x-python",
   "name": "python",
   "nbconvert_exporter": "python",
   "pygments_lexer": "ipython3",
   "version": "3.8.10"
  }
 },
 "nbformat": 4,
 "nbformat_minor": 5
}
