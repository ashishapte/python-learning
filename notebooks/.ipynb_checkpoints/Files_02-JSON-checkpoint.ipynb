{
 "cells": [
  {
   "cell_type": "markdown",
   "id": "a068cb07",
   "metadata": {},
   "source": [
    "# DICT TO JSON DUMP USING JSON.DUMP\n",
    "# JSON TO DICT USING JSON.LOAD"
   ]
  },
  {
   "cell_type": "code",
   "execution_count": 1,
   "id": "e9658bae",
   "metadata": {},
   "outputs": [],
   "source": [
    "accounts_dict = {'accounts':[\n",
    "    {'account': 100, 'name': 'Jones', 'balance': 24.98},\n",
    "    {'account': 200, 'name': 'Doe', 'balance': 345.67}\n",
    "]}"
   ]
  },
  {
   "cell_type": "code",
   "execution_count": 2,
   "id": "1e67315b",
   "metadata": {},
   "outputs": [
    {
     "data": {
      "text/plain": [
       "dict"
      ]
     },
     "execution_count": 2,
     "metadata": {},
     "output_type": "execute_result"
    }
   ],
   "source": [
    "type(accounts_dict)"
   ]
  },
  {
   "cell_type": "code",
   "execution_count": 3,
   "id": "09f59313",
   "metadata": {},
   "outputs": [],
   "source": [
    "import json"
   ]
  },
  {
   "cell_type": "code",
   "execution_count": 4,
   "id": "5a2ccecb",
   "metadata": {},
   "outputs": [],
   "source": [
    "with open('accounts.json', 'w') as accounts:\n",
    "    json.dump(accounts_dict, accounts)"
   ]
  },
  {
   "cell_type": "code",
   "execution_count": 6,
   "id": "a5d360cb",
   "metadata": {},
   "outputs": [
    {
     "name": "stdout",
     "output_type": "stream",
     "text": [
      "{\"accounts\": [{\"account\": 100, \"name\": \"Jones\", \"balance\": 24.98}, {\"account\": 200, \"name\": \"Doe\", \"balance\": 345.67}]}"
     ]
    }
   ],
   "source": [
    "!cat accounts.json"
   ]
  },
  {
   "cell_type": "code",
   "execution_count": 7,
   "id": "7942ec60",
   "metadata": {},
   "outputs": [],
   "source": [
    "# Now reading from the file and loading it into dictionary"
   ]
  },
  {
   "cell_type": "code",
   "execution_count": 8,
   "id": "e9daf002",
   "metadata": {},
   "outputs": [],
   "source": [
    "with open('accounts.json', 'r') as accounts:\n",
    "    accounts_json = json.load(accounts)"
   ]
  },
  {
   "cell_type": "code",
   "execution_count": 10,
   "id": "4be4b642",
   "metadata": {},
   "outputs": [
    {
     "data": {
      "text/plain": [
       "dict"
      ]
     },
     "execution_count": 10,
     "metadata": {},
     "output_type": "execute_result"
    }
   ],
   "source": [
    "type(accounts_json)"
   ]
  },
  {
   "cell_type": "code",
   "execution_count": 11,
   "id": "ca8a01cf",
   "metadata": {},
   "outputs": [
    {
     "data": {
      "text/plain": [
       "{'account': 100, 'name': 'Jones', 'balance': 24.98}"
      ]
     },
     "execution_count": 11,
     "metadata": {},
     "output_type": "execute_result"
    }
   ],
   "source": [
    "accounts_json['accounts'][0]"
   ]
  },
  {
   "cell_type": "markdown",
   "id": "9e673a1b",
   "metadata": {},
   "source": [
    "# JSON DUMPS"
   ]
  },
  {
   "cell_type": "code",
   "execution_count": null,
   "id": "a8476316",
   "metadata": {},
   "outputs": [],
   "source": [
    "# json.dumps takes in python dictionary object and prints json in formatted way"
   ]
  },
  {
   "cell_type": "code",
   "execution_count": 12,
   "id": "ae1638c7",
   "metadata": {},
   "outputs": [
    {
     "name": "stdout",
     "output_type": "stream",
     "text": [
      "{\n",
      "    \"accounts\": [\n",
      "        {\n",
      "            \"account\": 100,\n",
      "            \"name\": \"Jones\",\n",
      "            \"balance\": 24.98\n",
      "        },\n",
      "        {\n",
      "            \"account\": 200,\n",
      "            \"name\": \"Doe\",\n",
      "            \"balance\": 345.67\n",
      "        }\n",
      "    ]\n",
      "}\n"
     ]
    }
   ],
   "source": [
    "with open('accounts.json', 'r') as accounts:\n",
    "    print(json.dumps(json.load(accounts), indent = 4))"
   ]
  }
 ],
 "metadata": {
  "kernelspec": {
   "display_name": "Python 3",
   "language": "python",
   "name": "python3"
  },
  "language_info": {
   "codemirror_mode": {
    "name": "ipython",
    "version": 3
   },
   "file_extension": ".py",
   "mimetype": "text/x-python",
   "name": "python",
   "nbconvert_exporter": "python",
   "pygments_lexer": "ipython3",
   "version": "3.8.10"
  }
 },
 "nbformat": 4,
 "nbformat_minor": 5
}
