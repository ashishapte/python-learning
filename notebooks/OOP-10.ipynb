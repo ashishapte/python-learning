{
 "cells": [
  {
   "cell_type": "markdown",
   "id": "c28b3aa3",
   "metadata": {},
   "source": [
    "# Operator Overloading"
   ]
  },
  {
   "cell_type": "raw",
   "id": "d70dad3c",
   "metadata": {},
   "source": [
    "you are already using operator overloading\n",
    "1> + for adding numeric values, concatenating lists, concatinating strings and adding a value to every element in NumPy array.\n",
    "2> [] for accessing elements in lists, tuples, strings and arrays and for accessing the value for specific key in dictionary\n",
    "\n",
    "3> * for multiplying numeric values, repeating a sequence and multiplying every element in a NumPy array by specific value.\n",
    "\n",
    "Refer documentation # https://docs.python.org/3/reference/datamodel.html#special-method-names\n",
    "\n"
   ]
  }
 ],
 "metadata": {
  "kernelspec": {
   "display_name": "Python 3",
   "language": "python",
   "name": "python3"
  },
  "language_info": {
   "codemirror_mode": {
    "name": "ipython",
    "version": 3
   },
   "file_extension": ".py",
   "mimetype": "text/x-python",
   "name": "python",
   "nbconvert_exporter": "python",
   "pygments_lexer": "ipython3",
   "version": "3.8.10"
  }
 },
 "nbformat": 4,
 "nbformat_minor": 5
}
