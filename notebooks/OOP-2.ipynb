{
 "cells": [
  {
   "cell_type": "code",
   "execution_count": 1,
   "id": "09b1bf78",
   "metadata": {},
   "outputs": [],
   "source": [
    "# Time Class\n",
    "# getter and setter properties (not just attributes)\n",
    "# Take a look at modules/timewithproperties.py"
   ]
  },
  {
   "cell_type": "code",
   "execution_count": 2,
   "id": "e76060fc",
   "metadata": {},
   "outputs": [],
   "source": [
    "from modules.timewithproperties import Time"
   ]
  },
  {
   "cell_type": "code",
   "execution_count": 3,
   "id": "369dd7b0",
   "metadata": {},
   "outputs": [
    {
     "name": "stdout",
     "output_type": "stream",
     "text": [
      "Help on class Time in module modules.timewithproperties:\n",
      "\n",
      "class Time(builtins.object)\n",
      " |  Time(hour=0, minute=0, second=0)\n",
      " |  \n",
      " |  Methods defined here:\n",
      " |  \n",
      " |  __init__(self, hour=0, minute=0, second=0)\n",
      " |      Initialize self.  See help(type(self)) for accurate signature.\n",
      " |  \n",
      " |  __repr__(self)\n",
      " |      Return Time string for repr().\n",
      " |  \n",
      " |  __str__(self)\n",
      " |      Return Time string in 12-hour clock format.\n",
      " |  \n",
      " |  set_time(self, hour=0, minute=0, second=0)\n",
      " |      Sets the time in hour, minute and second\n",
      " |  \n",
      " |  ----------------------------------------------------------------------\n",
      " |  Data descriptors defined here:\n",
      " |  \n",
      " |  __dict__\n",
      " |      dictionary for instance variables (if defined)\n",
      " |  \n",
      " |  __weakref__\n",
      " |      list of weak references to the object (if defined)\n",
      " |  \n",
      " |  hour\n",
      " |      Return the value for hour\n",
      " |  \n",
      " |  minute\n",
      " |      Return value for minute\n",
      " |  \n",
      " |  second\n",
      " |      Return value for second\n",
      " |  \n",
      " |  time\n",
      " |      Return the value for time\n",
      "\n"
     ]
    }
   ],
   "source": [
    "help(Time)"
   ]
  },
  {
   "cell_type": "code",
   "execution_count": 4,
   "id": "91550295",
   "metadata": {},
   "outputs": [],
   "source": [
    "wake_up = Time(hour=7, minute=10, second=40)"
   ]
  },
  {
   "cell_type": "code",
   "execution_count": 5,
   "id": "5f465dbf",
   "metadata": {},
   "outputs": [
    {
     "data": {
      "text/plain": [
       "Time(hour=7, minute=10, second=40)"
      ]
     },
     "execution_count": 5,
     "metadata": {},
     "output_type": "execute_result"
    }
   ],
   "source": [
    "wake_up"
   ]
  },
  {
   "cell_type": "code",
   "execution_count": 6,
   "id": "f832869d",
   "metadata": {},
   "outputs": [],
   "source": [
    "t = tuple([1,2,3])"
   ]
  },
  {
   "cell_type": "code",
   "execution_count": 7,
   "id": "ae84a018",
   "metadata": {},
   "outputs": [
    {
     "data": {
      "text/plain": [
       "3"
      ]
     },
     "execution_count": 7,
     "metadata": {},
     "output_type": "execute_result"
    }
   ],
   "source": [
    "len(t)"
   ]
  },
  {
   "cell_type": "code",
   "execution_count": 8,
   "id": "59d50643",
   "metadata": {},
   "outputs": [],
   "source": [
    "# new time getter and setter method added for time property\n",
    "# time property accepts tuple with hour, minute and code as argument and sets time."
   ]
  },
  {
   "cell_type": "code",
   "execution_count": 9,
   "id": "75c71612",
   "metadata": {},
   "outputs": [],
   "source": [
    "t  = Time()"
   ]
  },
  {
   "cell_type": "code",
   "execution_count": 10,
   "id": "80c6bc04",
   "metadata": {},
   "outputs": [
    {
     "data": {
      "text/plain": [
       "Time(hour=0, minute=0, second=0)"
      ]
     },
     "execution_count": 10,
     "metadata": {},
     "output_type": "execute_result"
    }
   ],
   "source": [
    "t"
   ]
  },
  {
   "cell_type": "code",
   "execution_count": 18,
   "id": "6ac2453c",
   "metadata": {},
   "outputs": [],
   "source": [
    "#time tuple for setting values\n",
    "my_time = (10, 12, 59)"
   ]
  },
  {
   "cell_type": "code",
   "execution_count": 19,
   "id": "92ed0a5a",
   "metadata": {},
   "outputs": [],
   "source": [
    "# We are assigning a tuple in this case as time is not method - its a property\n",
    "t.time = my_time"
   ]
  },
  {
   "cell_type": "code",
   "execution_count": 20,
   "id": "0b8a8913",
   "metadata": {},
   "outputs": [
    {
     "data": {
      "text/plain": [
       "(10, 12, 59)"
      ]
     },
     "execution_count": 20,
     "metadata": {},
     "output_type": "execute_result"
    }
   ],
   "source": [
    "t.time"
   ]
  },
  {
   "cell_type": "code",
   "execution_count": 21,
   "id": "6ec7d595",
   "metadata": {},
   "outputs": [
    {
     "data": {
      "text/plain": [
       "10"
      ]
     },
     "execution_count": 21,
     "metadata": {},
     "output_type": "execute_result"
    }
   ],
   "source": [
    "t.hour"
   ]
  }
 ],
 "metadata": {
  "kernelspec": {
   "display_name": "Python 3",
   "language": "python",
   "name": "python3"
  },
  "language_info": {
   "codemirror_mode": {
    "name": "ipython",
    "version": 3
   },
   "file_extension": ".py",
   "mimetype": "text/x-python",
   "name": "python",
   "nbconvert_exporter": "python",
   "pygments_lexer": "ipython3",
   "version": "3.8.10"
  }
 },
 "nbformat": 4,
 "nbformat_minor": 5
}
