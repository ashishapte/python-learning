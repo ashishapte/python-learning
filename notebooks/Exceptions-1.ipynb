{
 "cells": [
  {
   "cell_type": "code",
   "execution_count": 1,
   "id": "aa2e78a9",
   "metadata": {},
   "outputs": [
    {
     "ename": "ZeroDivisionError",
     "evalue": "division by zero",
     "output_type": "error",
     "traceback": [
      "\u001b[0;31m---------------------------------------------------------------------------\u001b[0m",
      "\u001b[0;31mZeroDivisionError\u001b[0m                         Traceback (most recent call last)",
      "\u001b[0;32m<ipython-input-1-ceb9ea08630c>\u001b[0m in \u001b[0;36m<module>\u001b[0;34m\u001b[0m\n\u001b[1;32m      1\u001b[0m \u001b[0;31m#division by zero\u001b[0m\u001b[0;34m\u001b[0m\u001b[0;34m\u001b[0m\u001b[0;34m\u001b[0m\u001b[0m\n\u001b[0;32m----> 2\u001b[0;31m \u001b[0;36m10\u001b[0m\u001b[0;34m/\u001b[0m\u001b[0;36m0\u001b[0m\u001b[0;34m\u001b[0m\u001b[0;34m\u001b[0m\u001b[0m\n\u001b[0m",
      "\u001b[0;31mZeroDivisionError\u001b[0m: division by zero"
     ]
    }
   ],
   "source": [
    "#division by zero\n",
    "10/0"
   ]
  },
  {
   "cell_type": "code",
   "execution_count": 2,
   "id": "cd89026b",
   "metadata": {},
   "outputs": [
    {
     "ename": "TypeError",
     "evalue": "unsupported operand type(s) for /: 'int' and 'str'",
     "output_type": "error",
     "traceback": [
      "\u001b[0;31m---------------------------------------------------------------------------\u001b[0m",
      "\u001b[0;31mTypeError\u001b[0m                                 Traceback (most recent call last)",
      "\u001b[0;32m<ipython-input-2-dc7eeade37cc>\u001b[0m in \u001b[0;36m<module>\u001b[0;34m\u001b[0m\n\u001b[0;32m----> 1\u001b[0;31m \u001b[0;36m10\u001b[0m\u001b[0;34m/\u001b[0m\u001b[0;34m'hello'\u001b[0m\u001b[0;34m\u001b[0m\u001b[0;34m\u001b[0m\u001b[0m\n\u001b[0m",
      "\u001b[0;31mTypeError\u001b[0m: unsupported operand type(s) for /: 'int' and 'str'"
     ]
    }
   ],
   "source": [
    "10/'hello'"
   ]
  },
  {
   "cell_type": "code",
   "execution_count": 5,
   "id": "7a309ab7",
   "metadata": {},
   "outputs": [
    {
     "name": "stdout",
     "output_type": "stream",
     "text": [
      "Enter numerator : 10\n",
      "Enter denominator : 0\n",
      "Attempted to divide by zero \n",
      "\n",
      "Enter numerator : 10\n",
      "Enter denominator : hello\n",
      "You must enter two integers \n",
      "\n",
      "Enter numerator : 10\n",
      "Enter denominator : 2\n",
      "10.000 / 2.000 = 5.000\n"
     ]
    }
   ],
   "source": [
    "# handing exceptions with try and except\n",
    "while True:\n",
    "    # attempt to convert and divide values\n",
    "    try:\n",
    "        number1 = ibnt(input('Enter numerator : '))\n",
    "        number2 = int(input('Enter denominator : '))\n",
    "        result = number1 / number2\n",
    "    except ValueError: # trying to convert non numeric value to int\n",
    "        print('You must enter two integers \\n')\n",
    "    except ZeroDivisionError: # denominator is zero\n",
    "        print('Attempted to divide by zero \\n')\n",
    "    else:\n",
    "        print(f'{number1:.3f} / {number2:.3f} = {result:.3f}')\n",
    "        break # terminate the loop."
   ]
  },
  {
   "cell_type": "code",
   "execution_count": 6,
   "id": "e743d7ab",
   "metadata": {},
   "outputs": [
    {
     "name": "stdout",
     "output_type": "stream",
     "text": [
      "try suite with no exceptions raised\n",
      "else executes because no exceptions in the try suite\n",
      "finally always executes\n"
     ]
    }
   ],
   "source": [
    "try:\n",
    "    print('try suite with no exceptions raised')\n",
    "except:\n",
    "    print('this will not execute')\n",
    "else:\n",
    "    print('else executes because no exceptions in the try suite')\n",
    "finally:\n",
    "    print('finally always executes')"
   ]
  },
  {
   "cell_type": "code",
   "execution_count": 8,
   "id": "12897984",
   "metadata": {},
   "outputs": [
    {
     "name": "stdout",
     "output_type": "stream",
     "text": [
      "try suite that raises an exception\n",
      "a ValueError occured\n",
      "finally always executes\n",
      "Finally block is generally used to release resources aquired earlier in try loop\n"
     ]
    }
   ],
   "source": [
    "try:\n",
    "    print('try suite that raises an exception')\n",
    "    int('hello')\n",
    "    print('this statement will not execute')\n",
    "except ValueError:\n",
    "    print('a ValueError occured')\n",
    "else:\n",
    "    print('else will not execute because an exception occured in the try suite')\n",
    "finally:\n",
    "    print('finally always executes')\n",
    "    print('Finally block is generally used to release resources aquired earlier in try loop')"
   ]
  },
  {
   "cell_type": "code",
   "execution_count": 14,
   "id": "1fc32942",
   "metadata": {},
   "outputs": [],
   "source": [
    "class MyException(Exception):\n",
    "    pass"
   ]
  },
  {
   "cell_type": "code",
   "execution_count": 16,
   "id": "21b5c9a8",
   "metadata": {},
   "outputs": [
    {
     "ename": "myException",
     "evalue": "",
     "output_type": "error",
     "traceback": [
      "\u001b[0;31m---------------------------------------------------------------------------\u001b[0m",
      "\u001b[0;31mmyException\u001b[0m                               Traceback (most recent call last)",
      "\u001b[0;32m<ipython-input-16-fdf379f78c52>\u001b[0m in \u001b[0;36m<module>\u001b[0;34m\u001b[0m\n\u001b[0;32m----> 1\u001b[0;31m \u001b[0;32mraise\u001b[0m \u001b[0mmyException\u001b[0m\u001b[0;34m\u001b[0m\u001b[0;34m\u001b[0m\u001b[0m\n\u001b[0m",
      "\u001b[0;31mmyException\u001b[0m: "
     ]
    }
   ],
   "source": [
    "raise myException"
   ]
  },
  {
   "cell_type": "code",
   "execution_count": null,
   "id": "06b2ba1b",
   "metadata": {},
   "outputs": [],
   "source": []
  }
 ],
 "metadata": {
  "kernelspec": {
   "display_name": "Python 3",
   "language": "python",
   "name": "python3"
  },
  "language_info": {
   "codemirror_mode": {
    "name": "ipython",
    "version": 3
   },
   "file_extension": ".py",
   "mimetype": "text/x-python",
   "name": "python",
   "nbconvert_exporter": "python",
   "pygments_lexer": "ipython3",
   "version": "3.8.10"
  }
 },
 "nbformat": 4,
 "nbformat_minor": 5
}
