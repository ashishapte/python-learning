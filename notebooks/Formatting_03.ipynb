{
 "cells": [
  {
   "cell_type": "code",
   "execution_count": 1,
   "id": "e25c24c8",
   "metadata": {},
   "outputs": [
    {
     "data": {
      "text/plain": [
       "'17.49'"
      ]
     },
     "execution_count": 1,
     "metadata": {},
     "output_type": "execute_result"
    }
   ],
   "source": [
    "'{:.2f}'.format(17.489)"
   ]
  },
  {
   "cell_type": "code",
   "execution_count": 2,
   "id": "1943facc",
   "metadata": {},
   "outputs": [
    {
     "data": {
      "text/plain": [
       "'Amanda Cyan'"
      ]
     },
     "execution_count": 2,
     "metadata": {},
     "output_type": "execute_result"
    }
   ],
   "source": [
    "'{} {}'.format('Amanda', 'Cyan')"
   ]
  },
  {
   "cell_type": "code",
   "execution_count": 3,
   "id": "9f121835",
   "metadata": {},
   "outputs": [
    {
     "data": {
      "text/plain": [
       "'Happy Happy Birthday'"
      ]
     },
     "execution_count": 3,
     "metadata": {},
     "output_type": "execute_result"
    }
   ],
   "source": [
    "'{0} {0} {1}'.format('Happy', 'Birthday')"
   ]
  },
  {
   "cell_type": "code",
   "execution_count": 4,
   "id": "4a0f9bd7",
   "metadata": {},
   "outputs": [
    {
     "data": {
      "text/plain": [
       "'Amanda Gray'"
      ]
     },
     "execution_count": 4,
     "metadata": {},
     "output_type": "execute_result"
    }
   ],
   "source": [
    "# keyword argument\n",
    "'{first} {last}'.format(last='Gray', first='Amanda')"
   ]
  },
  {
   "cell_type": "code",
   "execution_count": 6,
   "id": "f0556e44",
   "metadata": {},
   "outputs": [
    {
     "data": {
      "text/plain": [
       "':-)'"
      ]
     },
     "execution_count": 6,
     "metadata": {},
     "output_type": "execute_result"
    }
   ],
   "source": [
    "'{:c}{:c}{:c}'.format(58,45,41)"
   ]
  },
  {
   "cell_type": "code",
   "execution_count": 10,
   "id": "18a22291",
   "metadata": {},
   "outputs": [
    {
     "name": "stdout",
     "output_type": "stream",
     "text": [
      "[Amanda    ]\n",
      "[    Amanda]\n",
      "[  Amanda  ]\n"
     ]
    }
   ],
   "source": [
    "print('[{0:10}]\\n[{0:>10}]\\n[{0:^10}]'.format('Amanda'))"
   ]
  },
  {
   "cell_type": "code",
   "execution_count": 11,
   "id": "a86bad30",
   "metadata": {},
   "outputs": [
    {
     "name": "stdout",
     "output_type": "stream",
     "text": [
      "+10,240.47\n",
      " -3,210.95\n"
     ]
    }
   ],
   "source": [
    "print('{:+10,.2f}\\n{:+10,.2f}'.format(10240.473, -3210.9521))"
   ]
  },
  {
   "cell_type": "code",
   "execution_count": 12,
   "id": "33472b30",
   "metadata": {},
   "outputs": [],
   "source": [
    "s1 = 'happy'\n",
    "s2 = 'birthday'\n",
    "s1 += ' ' + s2"
   ]
  },
  {
   "cell_type": "code",
   "execution_count": 13,
   "id": "9fe08584",
   "metadata": {},
   "outputs": [
    {
     "data": {
      "text/plain": [
       "'happy birthday'"
      ]
     },
     "execution_count": 13,
     "metadata": {},
     "output_type": "execute_result"
    }
   ],
   "source": [
    "s1"
   ]
  },
  {
   "cell_type": "code",
   "execution_count": 14,
   "id": "df41cda4",
   "metadata": {},
   "outputs": [
    {
     "data": {
      "text/plain": [
       "'>>>>>'"
      ]
     },
     "execution_count": 14,
     "metadata": {},
     "output_type": "execute_result"
    }
   ],
   "source": [
    "symbol = '>'\n",
    "symbol *= 5\n",
    "symbol"
   ]
  },
  {
   "cell_type": "code",
   "execution_count": 26,
   "id": "40f1a1ff",
   "metadata": {},
   "outputs": [
    {
     "data": {
      "text/plain": [
       "'Ashish Apte'"
      ]
     },
     "execution_count": 26,
     "metadata": {},
     "output_type": "execute_result"
    }
   ],
   "source": [
    "first = 'Ashish'\n",
    "last = 'Apte'\n",
    "name  = first + ' ' + last\n",
    "name"
   ]
  },
  {
   "cell_type": "code",
   "execution_count": 29,
   "id": "65338080",
   "metadata": {},
   "outputs": [
    {
     "data": {
      "text/plain": [
       "'***********'"
      ]
     },
     "execution_count": 29,
     "metadata": {},
     "output_type": "execute_result"
    }
   ],
   "source": [
    "bar = '*'\n",
    "bar *= len(name)\n",
    "bar"
   ]
  },
  {
   "cell_type": "code",
   "execution_count": 31,
   "id": "8c2bdda5",
   "metadata": {},
   "outputs": [
    {
     "name": "stdout",
     "output_type": "stream",
     "text": [
      "***********\n",
      "Ashish Apte\n",
      "***********\n"
     ]
    }
   ],
   "source": [
    "print(f'{bar}\\n{name}\\n{bar}')"
   ]
  },
  {
   "cell_type": "code",
   "execution_count": null,
   "id": "b9ddd871",
   "metadata": {},
   "outputs": [],
   "source": []
  }
 ],
 "metadata": {
  "kernelspec": {
   "display_name": "Python 3",
   "language": "python",
   "name": "python3"
  },
  "language_info": {
   "codemirror_mode": {
    "name": "ipython",
    "version": 3
   },
   "file_extension": ".py",
   "mimetype": "text/x-python",
   "name": "python",
   "nbconvert_exporter": "python",
   "pygments_lexer": "ipython3",
   "version": "3.8.10"
  }
 },
 "nbformat": 4,
 "nbformat_minor": 5
}
