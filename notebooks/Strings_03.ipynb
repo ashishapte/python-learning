{
 "cells": [
  {
   "cell_type": "code",
   "execution_count": 1,
   "id": "f38d1306",
   "metadata": {},
   "outputs": [],
   "source": [
    "# replacing substrings\n",
    "values = \"1\\t2\\t3\\t4\\t5\""
   ]
  },
  {
   "cell_type": "code",
   "execution_count": 2,
   "id": "a4f652a6",
   "metadata": {},
   "outputs": [
    {
     "name": "stdout",
     "output_type": "stream",
     "text": [
      "1\t2\t3\t4\t5\n"
     ]
    }
   ],
   "source": [
    "print(values)"
   ]
  },
  {
   "cell_type": "code",
   "execution_count": 4,
   "id": "a0029d1a",
   "metadata": {},
   "outputs": [
    {
     "data": {
      "text/plain": [
       "'1,2,3,4,5'"
      ]
     },
     "execution_count": 4,
     "metadata": {},
     "output_type": "execute_result"
    }
   ],
   "source": [
    "#gives new string\n",
    "values.replace('\\t', ',')"
   ]
  },
  {
   "cell_type": "code",
   "execution_count": 5,
   "id": "a7dd6245",
   "metadata": {},
   "outputs": [],
   "source": [
    "letters = 'A, B, C, D'"
   ]
  },
  {
   "cell_type": "code",
   "execution_count": 7,
   "id": "b325f85b",
   "metadata": {},
   "outputs": [
    {
     "data": {
      "text/plain": [
       "['A', 'B', 'C', 'D']"
      ]
     },
     "execution_count": 7,
     "metadata": {},
     "output_type": "execute_result"
    }
   ],
   "source": [
    "letters.split(', ')"
   ]
  },
  {
   "cell_type": "code",
   "execution_count": 8,
   "id": "9a660906",
   "metadata": {},
   "outputs": [
    {
     "data": {
      "text/plain": [
       "['A', 'B', 'C, D']"
      ]
     },
     "execution_count": 8,
     "metadata": {},
     "output_type": "execute_result"
    }
   ],
   "source": [
    "# max no of splits to perform\n",
    "letters.split(', ', 2)"
   ]
  },
  {
   "cell_type": "code",
   "execution_count": 9,
   "id": "7f65c394",
   "metadata": {},
   "outputs": [
    {
     "data": {
      "text/plain": [
       "['A', 'B', 'C', 'D']"
      ]
     },
     "execution_count": 9,
     "metadata": {},
     "output_type": "execute_result"
    }
   ],
   "source": [
    "letters_list = letters.split(', ')\n",
    "letters_list"
   ]
  },
  {
   "cell_type": "code",
   "execution_count": 10,
   "id": "472626e3",
   "metadata": {},
   "outputs": [
    {
     "data": {
      "text/plain": [
       "'A,B,C,D'"
      ]
     },
     "execution_count": 10,
     "metadata": {},
     "output_type": "execute_result"
    }
   ],
   "source": [
    "','.join(letters_list)"
   ]
  },
  {
   "cell_type": "code",
   "execution_count": 13,
   "id": "73e8b4fd",
   "metadata": {},
   "outputs": [
    {
     "data": {
      "text/plain": [
       "'0,1,2,3,4,5,6,7,8,9'"
      ]
     },
     "execution_count": 13,
     "metadata": {},
     "output_type": "execute_result"
    }
   ],
   "source": [
    "','.join([str(i) for i in range(10)])"
   ]
  },
  {
   "cell_type": "code",
   "execution_count": 16,
   "id": "3a84d130",
   "metadata": {},
   "outputs": [
    {
     "data": {
      "text/plain": [
       "('Amanda', ': ', '89, 97, 92')"
      ]
     },
     "execution_count": 16,
     "metadata": {},
     "output_type": "execute_result"
    }
   ],
   "source": [
    "# partition method\n",
    "# returns left side string, partition character and remaining string on right\n",
    "'Amanda: 89, 97, 92'.partition(': ')"
   ]
  },
  {
   "cell_type": "code",
   "execution_count": 17,
   "id": "4b6981a3",
   "metadata": {},
   "outputs": [],
   "source": [
    "url = 'http://localhost:8888/notebooks/Strings_03.ipynb'"
   ]
  },
  {
   "cell_type": "code",
   "execution_count": 18,
   "id": "819bac99",
   "metadata": {},
   "outputs": [
    {
     "data": {
      "text/plain": [
       "('http://localhost:8888/notebooks', '/', 'Strings_03.ipynb')"
      ]
     },
     "execution_count": 18,
     "metadata": {},
     "output_type": "execute_result"
    }
   ],
   "source": [
    "# rpartition works from right to left \n",
    "url.rpartition('/')"
   ]
  },
  {
   "cell_type": "code",
   "execution_count": 20,
   "id": "799a2d1b",
   "metadata": {},
   "outputs": [],
   "source": [
    "#splitlines\n",
    "lines = \"\"\"This is lne 1\n",
    "This is line2\n",
    "This is line3\"\"\""
   ]
  },
  {
   "cell_type": "code",
   "execution_count": 21,
   "id": "80a6b3f5",
   "metadata": {},
   "outputs": [
    {
     "data": {
      "text/plain": [
       "'This is lne 1\\nThis is line2\\nThis is line3'"
      ]
     },
     "execution_count": 21,
     "metadata": {},
     "output_type": "execute_result"
    }
   ],
   "source": [
    "lines"
   ]
  },
  {
   "cell_type": "code",
   "execution_count": 22,
   "id": "b8a0062e",
   "metadata": {},
   "outputs": [
    {
     "data": {
      "text/plain": [
       "['This is lne 1', 'This is line2', 'This is line3']"
      ]
     },
     "execution_count": 22,
     "metadata": {},
     "output_type": "execute_result"
    }
   ],
   "source": [
    "lines.splitlines()"
   ]
  },
  {
   "cell_type": "code",
   "execution_count": 23,
   "id": "770b207f",
   "metadata": {},
   "outputs": [
    {
     "data": {
      "text/plain": [
       "['This is lne 1\\n', 'This is line2\\n', 'This is line3']"
      ]
     },
     "execution_count": 23,
     "metadata": {},
     "output_type": "execute_result"
    }
   ],
   "source": [
    "#splitlines with retaining newline\n",
    "lines.splitlines(True)"
   ]
  },
  {
   "cell_type": "code",
   "execution_count": 33,
   "id": "eb101754",
   "metadata": {},
   "outputs": [
    {
     "data": {
      "text/plain": [
       "'White,Pamela'"
      ]
     },
     "execution_count": 33,
     "metadata": {},
     "output_type": "execute_result"
    }
   ],
   "source": [
    "# Exercise\n",
    "# reversting a list using reversed and then joining\n",
    "','.join(reversed('Pamela White'.split()))"
   ]
  },
  {
   "cell_type": "code",
   "execution_count": 35,
   "id": "f6c646e5",
   "metadata": {},
   "outputs": [],
   "source": [
    "# extract out www.tradingview.com and chart/oGES0QXP using partition and rpartition\n",
    "url = 'https://www.tradingview.com/chart/oGES0QXP/?symbol=AMEX%3ASPY'"
   ]
  },
  {
   "cell_type": "code",
   "execution_count": 51,
   "id": "c40ca998",
   "metadata": {},
   "outputs": [
    {
     "data": {
      "text/plain": [
       "'www.tradingview.com'"
      ]
     },
     "execution_count": 51,
     "metadata": {},
     "output_type": "execute_result"
    }
   ],
   "source": [
    "url.partition('//')[2].partition('/')[0]"
   ]
  },
  {
   "cell_type": "code",
   "execution_count": 53,
   "id": "dcf97096",
   "metadata": {},
   "outputs": [
    {
     "data": {
      "text/plain": [
       "'chart/oGES0QXP'"
      ]
     },
     "execution_count": 53,
     "metadata": {},
     "output_type": "execute_result"
    }
   ],
   "source": [
    "url.partition('//')[2].partition('/')[2].rpartition('/?')[0]"
   ]
  }
 ],
 "metadata": {
  "kernelspec": {
   "display_name": "Python 3",
   "language": "python",
   "name": "python3"
  },
  "language_info": {
   "codemirror_mode": {
    "name": "ipython",
    "version": 3
   },
   "file_extension": ".py",
   "mimetype": "text/x-python",
   "name": "python",
   "nbconvert_exporter": "python",
   "pygments_lexer": "ipython3",
   "version": "3.8.10"
  }
 },
 "nbformat": 4,
 "nbformat_minor": 5
}
