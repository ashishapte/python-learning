{
 "cells": [
  {
   "cell_type": "raw",
   "id": "ae12aaa7",
   "metadata": {},
   "source": [
    "# Text files - sequence of characters\n",
    "# Binary files - sequence of bytes \n",
    "# sys Module's standard file objects\n",
    "# sys.stdin - takes input from command line by default, you may redirect it to take input from file\n",
    "# sys.stdout and sys.stderr - default outputs to command line .can be redirected to file"
   ]
  },
  {
   "cell_type": "code",
   "execution_count": 1,
   "id": "b23b3d6a",
   "metadata": {},
   "outputs": [],
   "source": [
    "#writing to a file\n",
    "with open('accounts.txt', mode='w') as accounts:\n",
    "    accounts.write('100 Junes 24.5\\n')\n",
    "    accounts.write('200 May 25.5\\n')\n",
    "    accounts.write('300 Doe 26.5\\n')\n",
    "    accounts.write('400 White 24.5\\n')\n",
    "    accounts.write('500 Rich 24.5\\n')"
   ]
  },
  {
   "cell_type": "code",
   "execution_count": 3,
   "id": "a35168b5",
   "metadata": {},
   "outputs": [
    {
     "name": "stdout",
     "output_type": "stream",
     "text": [
      "account   name         balance\n",
      "100       Junes           24.5\n",
      "200       May             25.5\n",
      "300       Doe             26.5\n",
      "400       White           24.5\n",
      "500       Rich            24.5\n"
     ]
    }
   ],
   "source": [
    "# reading a file\n",
    "with open('accounts.txt', mode='r') as accounts:\n",
    "    print(f'{\"account\":<10}{\"name\":<10}{\"balance\":>10}')\n",
    "    for line in accounts:\n",
    "        account, name, balance = line.split()\n",
    "        print(f'{account:<10}{name:<10}{balance:>10}')"
   ]
  },
  {
   "cell_type": "code",
   "execution_count": 5,
   "id": "0a00011f",
   "metadata": {},
   "outputs": [],
   "source": [
    "# replace Name for account number 300 from White to Williams\n",
    "# create temporary file and write to temp file and then overwrite original file\n",
    "accounts = open('accounts.txt', mode='r')\n",
    "temp_file = open('temp_file.txt', mode='w')\n",
    "with accounts, temp_file:\n",
    "    for record in accounts:\n",
    "        account, name, balance = record.split()\n",
    "        if account != '300':\n",
    "            temp_file.write(record)\n",
    "        else:\n",
    "            new_record = ' '.join([account, 'Williams', balance])\n",
    "            temp_file.write(new_record + '\\n')\n"
   ]
  },
  {
   "cell_type": "code",
   "execution_count": 6,
   "id": "4f7e4384",
   "metadata": {},
   "outputs": [],
   "source": [
    "# replace accounts file with temp_file\n",
    "import os\n",
    "os.remove('accounts.txt')"
   ]
  },
  {
   "cell_type": "code",
   "execution_count": 7,
   "id": "8ba7dcbc",
   "metadata": {},
   "outputs": [],
   "source": [
    "os.rename('temp_file.txt','accounts.txt')"
   ]
  },
  {
   "cell_type": "code",
   "execution_count": null,
   "id": "3ff4692f",
   "metadata": {},
   "outputs": [],
   "source": []
  }
 ],
 "metadata": {
  "kernelspec": {
   "display_name": "Python 3",
   "language": "python",
   "name": "python3"
  },
  "language_info": {
   "codemirror_mode": {
    "name": "ipython",
    "version": 3
   },
   "file_extension": ".py",
   "mimetype": "text/x-python",
   "name": "python",
   "nbconvert_exporter": "python",
   "pygments_lexer": "ipython3",
   "version": "3.8.10"
  }
 },
 "nbformat": 4,
 "nbformat_minor": 5
}
