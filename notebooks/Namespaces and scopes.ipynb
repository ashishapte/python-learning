{
 "cells": [
  {
   "cell_type": "markdown",
   "id": "81f510de",
   "metadata": {},
   "source": [
    "local namespace\n",
    "- defined in a function or method\n",
    "- accessible only to that function or method.\n"
   ]
  },
  {
   "cell_type": "markdown",
   "id": "8e94b825",
   "metadata": {},
   "source": [
    "global namespace\n",
    "- defined for each module\n",
    "- assoicates modules global identifiers (global variables, function names and class names) with objects\n",
    "- global attribute __name__ contains module's name\n",
    "  and python sets it to __main__ when file is run as a script."
   ]
  },
  {
   "cell_type": "markdown",
   "id": "93cd3f9c",
   "metadata": {},
   "source": [
    "built-in name space\n",
    "- assocates identifiers for built-in functions (input and range) and types (int, float, str)"
   ]
  },
  {
   "cell_type": "markdown",
   "id": "182c7c1f",
   "metadata": {},
   "source": [
    "Enclosing namespace\n",
    "- python allows you to define nested functions\n",
    "- python searches\n",
    "    - nested functions local namespace\n",
    "    - enclising functions namespace\n",
    "    - global namespace then\n",
    "    - built-in namespace\n",
    "    - Referred to as LEGB rule - (local, enclosing, global , built-in)"
   ]
  },
  {
   "cell_type": "markdown",
   "id": "0f8c5df4",
   "metadata": {},
   "source": [
    "Class Namespace\n",
    "- associates classs attributes with objects that implement them\n",
    "- Acccessing class attributes\n",
    "    - Python first looks in the class's namespace\n",
    "    - then it the base class's namespace\n",
    "    - NameError if the attribute is not found."
   ]
  },
  {
   "cell_type": "markdown",
   "id": "91a1479d",
   "metadata": {},
   "source": [
    "Object's namespace\n",
    "- contains the object's methods and data attributes\n",
    "- __init__ method starts with an empty object (self by convention)"
   ]
  },
  {
   "cell_type": "code",
   "execution_count": null,
   "id": "e6a1dc80",
   "metadata": {},
   "outputs": [],
   "source": []
  }
 ],
 "metadata": {
  "kernelspec": {
   "display_name": "Python 3",
   "language": "python",
   "name": "python3"
  },
  "language_info": {
   "codemirror_mode": {
    "name": "ipython",
    "version": 3
   },
   "file_extension": ".py",
   "mimetype": "text/x-python",
   "name": "python",
   "nbconvert_exporter": "python",
   "pygments_lexer": "ipython3",
   "version": "3.8.10"
  }
 },
 "nbformat": 4,
 "nbformat_minor": 5
}
