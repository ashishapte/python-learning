{
 "cells": [
  {
   "cell_type": "code",
   "execution_count": 1,
   "id": "4b7ec53a",
   "metadata": {},
   "outputs": [],
   "source": [
    "# Base Classes and Subclasses"
   ]
  },
  {
   "cell_type": "code",
   "execution_count": 2,
   "id": "b645bd43",
   "metadata": {},
   "outputs": [],
   "source": [
    "# Class hirarchy starts with class called object\n",
    "# In Object class - python defines special methods - like __repr__, __str__ , __format__ etc.\n",
    "# operator overload related methods"
   ]
  },
  {
   "cell_type": "code",
   "execution_count": null,
   "id": "29720646",
   "metadata": {},
   "outputs": [],
   "source": [
    "# class from where you inherit is called Base Class (e.g Parent)\n",
    "# classes that inherit from Base class are called Subclasses.\n",
    "# e.g\n",
    "\n",
    "# Base Class          SubClasss\n",
    "# Student            GraduateStudent, UndergraduateStudent\n",
    "# Shape              Circle, Triangle, Rectangle, Sphere , Cube\n",
    "# Employee           Faculty , Staff"
   ]
  },
  {
   "cell_type": "code",
   "execution_count": null,
   "id": "5df2556d",
   "metadata": {},
   "outputs": [],
   "source": [
    "#any class implicitly inherits from python base class called object\n",
    "# e.g\n",
    "# class CommissionEmployee():  ## is same as ##  class CommissionEmployee(object):\n",
    "# check python data model documentation \n",
    "# you will find details about Special methods that you overload - there are many\n",
    "\n",
    "# __init__() # This is constructor method\n"
   ]
  }
 ],
 "metadata": {
  "kernelspec": {
   "display_name": "Python 3",
   "language": "python",
   "name": "python3"
  },
  "language_info": {
   "codemirror_mode": {
    "name": "ipython",
    "version": 3
   },
   "file_extension": ".py",
   "mimetype": "text/x-python",
   "name": "python",
   "nbconvert_exporter": "python",
   "pygments_lexer": "ipython3",
   "version": "3.8.10"
  }
 },
 "nbformat": 4,
 "nbformat_minor": 5
}
