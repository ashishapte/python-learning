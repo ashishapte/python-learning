{
 "cells": [
  {
   "cell_type": "markdown",
   "id": "36da8f0e",
   "metadata": {},
   "source": [
    "# While Loop"
   ]
  },
  {
   "cell_type": "code",
   "execution_count": null,
   "id": "e0232324",
   "metadata": {},
   "outputs": [],
   "source": []
  },
  {
   "cell_type": "code",
   "execution_count": 1,
   "id": "f5925985",
   "metadata": {},
   "outputs": [
    {
     "data": {
      "text/plain": [
       "'Number is 117649 and power is 4'"
      ]
     },
     "execution_count": 1,
     "metadata": {},
     "output_type": "execute_result"
    }
   ],
   "source": [
    "number = 7\n",
    "power = 2\n",
    "\n",
    "while number <= 1000:\n",
    "    number = number ** power\n",
    "    power += 1\n",
    "\n",
    "f\"Number is {number} and power is {power}\""
   ]
  },
  {
   "cell_type": "markdown",
   "id": "899ac640",
   "metadata": {},
   "source": [
    "#For Loop"
   ]
  },
  {
   "cell_type": "code",
   "execution_count": 2,
   "id": "70b21921",
   "metadata": {},
   "outputs": [
    {
     "name": "stdout",
     "output_type": "stream",
     "text": [
      "P  r  o  g  r  a  m  m  i  n  g  "
     ]
    }
   ],
   "source": [
    "# end keyword\n",
    "for char in 'Programming':\n",
    "    print(char, end='  ')"
   ]
  },
  {
   "cell_type": "code",
   "execution_count": 3,
   "id": "384009c9",
   "metadata": {},
   "outputs": [
    {
     "name": "stdout",
     "output_type": "stream",
     "text": [
      "P\n",
      "r\n",
      "o\n",
      "g\n",
      "r\n",
      "a\n",
      "m\n",
      "m\n",
      "i\n",
      "n\n",
      "g\n"
     ]
    }
   ],
   "source": [
    "for char in 'Programming':\n",
    "    print(char)"
   ]
  },
  {
   "cell_type": "code",
   "execution_count": 4,
   "id": "40f1fb72",
   "metadata": {},
   "outputs": [
    {
     "name": "stdout",
     "output_type": "stream",
     "text": [
      "10 20 30\n"
     ]
    }
   ],
   "source": [
    "print(10, 20, 30)"
   ]
  },
  {
   "cell_type": "code",
   "execution_count": 5,
   "id": "59f5e50d",
   "metadata": {},
   "outputs": [
    {
     "name": "stdout",
     "output_type": "stream",
     "text": [
      "10, 20, 30\n"
     ]
    }
   ],
   "source": [
    "#sep keyword\n",
    "print(10, 20, 30, sep=', ')"
   ]
  },
  {
   "cell_type": "code",
   "execution_count": 6,
   "id": "8397637e",
   "metadata": {},
   "outputs": [
    {
     "name": "stdout",
     "output_type": "stream",
     "text": [
      "25\n"
     ]
    }
   ],
   "source": [
    "# for with list\n",
    "total = 0\n",
    "for num in [2, -3, 0, 17, 9]:\n",
    "    total += num\n",
    "print(total)"
   ]
  },
  {
   "cell_type": "code",
   "execution_count": 7,
   "id": "b96b5186",
   "metadata": {},
   "outputs": [
    {
     "name": "stdout",
     "output_type": "stream",
     "text": [
      "0 1 2 3 4 5 6 7 8 9 "
     ]
    }
   ],
   "source": [
    "# range function - counter controlled loop\n",
    "for counter in range(10):\n",
    "    print(counter, end=' ')"
   ]
  },
  {
   "cell_type": "code",
   "execution_count": 8,
   "id": "e992ca01",
   "metadata": {},
   "outputs": [
    {
     "name": "stdout",
     "output_type": "stream",
     "text": [
      "sum is 5000050000\n"
     ]
    }
   ],
   "source": [
    "# Total all integers ranging from 0 to 100000\n",
    "# Note you need to provide ending vaule for range as 100001 \n",
    "total = 0\n",
    "for counter in range(100001):\n",
    "    total += counter\n",
    "\n",
    "print(\"sum is {0}\".format(total))"
   ]
  },
  {
   "cell_type": "markdown",
   "id": "7b083257",
   "metadata": {},
   "source": [
    "# Augmented Assignment"
   ]
  },
  {
   "cell_type": "code",
   "execution_count": 9,
   "id": "d9f34f0e",
   "metadata": {},
   "outputs": [
    {
     "name": "stdout",
     "output_type": "stream",
     "text": [
      "144\n"
     ]
    }
   ],
   "source": [
    "x = 12\n",
    "x **= 2\n",
    "print(x)"
   ]
  },
  {
   "cell_type": "markdown",
   "id": "7d52b483",
   "metadata": {},
   "source": [
    "# sequence Controlled repetition"
   ]
  },
  {
   "cell_type": "code",
   "execution_count": 10,
   "id": "33768e95",
   "metadata": {},
   "outputs": [
    {
     "name": "stdout",
     "output_type": "stream",
     "text": [
      "avg is  77.0\n"
     ]
    }
   ],
   "source": [
    "# find out average of class grades\n",
    "grades = [66, 95, 84, 77, 98, 54, 65]\n",
    "no_stud = len(grades)\n",
    "total = 0\n",
    "for grade in grades:\n",
    "    total += grade\n",
    "    avg = float(total / no_stud)\n",
    "    \n",
    "print(\"avg is \", avg)"
   ]
  },
  {
   "cell_type": "markdown",
   "id": "df92502c",
   "metadata": {},
   "source": [
    "# Sentinel controlled loop"
   ]
  },
  {
   "cell_type": "code",
   "execution_count": 11,
   "id": "105a2f90",
   "metadata": {},
   "outputs": [
    {
     "name": "stdout",
     "output_type": "stream",
     "text": [
      "Enter grade, -1 to end: 10\n",
      "Enter grade, -1 to end: 20\n",
      "Enter grade, -1 to end: 30\n",
      "Enter grade, -1 to end: 40\n",
      "Enter grade, -1 to end: 90\n",
      "Enter grade, -1 to end: -1\n",
      "Class average grade is 38.00\n"
     ]
    }
   ],
   "source": [
    "# accept input grades and print average\n",
    "# format specifier with 'f' function\n",
    "total = 0\n",
    "counter = 0\n",
    "\n",
    "# stop input when -1 is entered\n",
    "grade = int(input('Enter grade, -1 to end: '))\n",
    "while grade != -1:\n",
    "    total += grade\n",
    "    counter += 1\n",
    "    grade = int(input('Enter grade, -1 to end: '))\n",
    "\n",
    "if counter != 0:\n",
    "    avg = total / counter\n",
    "    print(f'Class average grade is {avg:.2f}')\n",
    "else:\n",
    "    print('No grades were entered')\n"
   ]
  },
  {
   "cell_type": "markdown",
   "id": "fb8244ef",
   "metadata": {},
   "source": [
    "# range"
   ]
  },
  {
   "cell_type": "code",
   "execution_count": 12,
   "id": "81ef6ee9",
   "metadata": {},
   "outputs": [
    {
     "name": "stdout",
     "output_type": "stream",
     "text": [
      "5\n",
      "6\n",
      "7\n",
      "8\n",
      "9\n"
     ]
    }
   ],
   "source": [
    "# start included, end not included\n",
    "for numbers in range(5, 10):\n",
    "    print(numbers)"
   ]
  },
  {
   "cell_type": "code",
   "execution_count": 13,
   "id": "83a91a23",
   "metadata": {},
   "outputs": [
    {
     "name": "stdout",
     "output_type": "stream",
     "text": [
      "0\n",
      "2\n",
      "4\n",
      "6\n",
      "8\n"
     ]
    }
   ],
   "source": [
    "for numbers in range(0, 10, 2):\n",
    "    print(numbers)"
   ]
  },
  {
   "cell_type": "code",
   "execution_count": 14,
   "id": "5a1a5cbe",
   "metadata": {},
   "outputs": [
    {
     "name": "stdout",
     "output_type": "stream",
     "text": [
      "10 8 6 4 2 "
     ]
    }
   ],
   "source": [
    "# decreasing count not including second argument\n",
    "# step of negative 2\n",
    "for numbers in range(10, 0, -2):\n",
    "    print(numbers, end=\" \")"
   ]
  },
  {
   "cell_type": "code",
   "execution_count": 15,
   "id": "47b1d368",
   "metadata": {},
   "outputs": [
    {
     "name": "stdout",
     "output_type": "stream",
     "text": [
      "total is 2550\n"
     ]
    }
   ],
   "source": [
    "# sum even integers from 2 through 100\n",
    "total = 0\n",
    "for number in range(2, 101, 2):\n",
    "    total += number\n",
    "    \n",
    "print(f\"total is {total}\")"
   ]
  },
  {
   "cell_type": "code",
   "execution_count": 16,
   "id": "75a7fd88",
   "metadata": {},
   "outputs": [
    {
     "data": {
      "text/plain": [
       "[]"
      ]
     },
     "execution_count": 16,
     "metadata": {},
     "output_type": "execute_result"
    }
   ],
   "source": [
    "# no output as you are starting with greater number\n",
    "list(range(10, 0, 2))"
   ]
  },
  {
   "cell_type": "markdown",
   "id": "5ca0b93a",
   "metadata": {},
   "source": [
    "# Decimals"
   ]
  },
  {
   "cell_type": "code",
   "execution_count": 17,
   "id": "046fc653",
   "metadata": {},
   "outputs": [],
   "source": [
    "#floating point errors as they are stored in binary formats. \n",
    "#They are approximate.\n",
    "from decimal import Decimal"
   ]
  },
  {
   "cell_type": "code",
   "execution_count": 18,
   "id": "00558263",
   "metadata": {},
   "outputs": [],
   "source": [
    "principal = Decimal('1000.000')\n",
    "rate = Decimal('0.05')\n",
    "x = Decimal('10.5')\n",
    "y = Decimal('2')"
   ]
  },
  {
   "cell_type": "code",
   "execution_count": 19,
   "id": "a58932b6",
   "metadata": {},
   "outputs": [
    {
     "data": {
      "text/plain": [
       "Decimal('12.5')"
      ]
     },
     "execution_count": 19,
     "metadata": {},
     "output_type": "execute_result"
    }
   ],
   "source": [
    "x + y"
   ]
  },
  {
   "cell_type": "code",
   "execution_count": 20,
   "id": "a524bddb",
   "metadata": {},
   "outputs": [
    {
     "data": {
      "text/plain": [
       "Decimal('5')"
      ]
     },
     "execution_count": 20,
     "metadata": {},
     "output_type": "execute_result"
    }
   ],
   "source": [
    "x // y"
   ]
  },
  {
   "cell_type": "code",
   "execution_count": 21,
   "id": "9a54f3c2",
   "metadata": {},
   "outputs": [
    {
     "data": {
      "text/plain": [
       "Decimal('12.5')"
      ]
     },
     "execution_count": 21,
     "metadata": {},
     "output_type": "execute_result"
    }
   ],
   "source": [
    "x += y\n",
    "x"
   ]
  },
  {
   "cell_type": "code",
   "execution_count": 22,
   "id": "59a43964",
   "metadata": {},
   "outputs": [
    {
     "name": "stdout",
     "output_type": "stream",
     "text": [
      " 1   1050.00\n",
      " 2   1102.50\n",
      " 3   1157.62\n",
      " 4   1215.51\n",
      " 5   1276.28\n",
      " 6   1340.10\n",
      " 7   1407.10\n",
      " 8   1477.46\n",
      " 9   1551.33\n",
      "10   1628.89\n"
     ]
    }
   ],
   "source": [
    "# interest a = p(1+r)**n\n",
    "# p  prinicipal\n",
    "# r rate of interest\n",
    "# n number of years\n",
    "# compound interest over 10 years\n",
    "# with some interesting formatting.\n",
    "for year in range(1, 11):\n",
    "    amount = principal * (1 + rate) ** year\n",
    "    print(f'{year:>2}{amount:>10.2f}')"
   ]
  },
  {
   "cell_type": "code",
   "execution_count": 23,
   "id": "0a2b83cf",
   "metadata": {},
   "outputs": [
    {
     "name": "stdout",
     "output_type": "stream",
     "text": [
      "37.45  6.25 : total bill 39.79\n"
     ]
    }
   ],
   "source": [
    "# tax is 6.25 % and bill amount is 37.45.\n",
    "# calculate total bill with tax\n",
    "bill = Decimal('37.45')\n",
    "tax_rate = Decimal('6.25')\n",
    "total_bill = bill * (1 + tax_rate/100)\n",
    "\n",
    "print(f'{bill:>2} {tax_rate:>5.2f} : total bill {total_bill:>4.2f}')\n"
   ]
  },
  {
   "cell_type": "markdown",
   "id": "c9eb37ae",
   "metadata": {},
   "source": [
    "# Break and Continue"
   ]
  },
  {
   "cell_type": "code",
   "execution_count": 24,
   "id": "4f545e8e",
   "metadata": {},
   "outputs": [
    {
     "name": "stdout",
     "output_type": "stream",
     "text": [
      "0 1 2 3 4 5 6 7 8 9 10 11 "
     ]
    }
   ],
   "source": [
    "for number in range(0,100):\n",
    "    if number == 12:\n",
    "        break\n",
    "    print(number, end=' ')"
   ]
  },
  {
   "cell_type": "code",
   "execution_count": 25,
   "id": "5a157816",
   "metadata": {},
   "outputs": [
    {
     "name": "stdout",
     "output_type": "stream",
     "text": [
      "0 1 2 3 4 6 7 8 9 "
     ]
    }
   ],
   "source": [
    "# 5 is skipped\n",
    "for number in range(0,10):\n",
    "    if number == 5:\n",
    "        continue\n",
    "    print(number, end=' ')"
   ]
  },
  {
   "cell_type": "markdown",
   "id": "5147f999",
   "metadata": {},
   "source": [
    "# boolean operators"
   ]
  },
  {
   "cell_type": "code",
   "execution_count": 26,
   "id": "f9ce9a6c",
   "metadata": {},
   "outputs": [
    {
     "name": "stdout",
     "output_type": "stream",
     "text": [
      "Senior female\n"
     ]
    }
   ],
   "source": [
    "gender = 'Female'\n",
    "age = 70\n",
    "\n",
    "if gender == 'Female' and age >= 65:\n",
    "    print('Senior female')\n"
   ]
  },
  {
   "cell_type": "code",
   "execution_count": 27,
   "id": "518aa29a",
   "metadata": {},
   "outputs": [
    {
     "name": "stdout",
     "output_type": "stream",
     "text": [
      "Grade is A\n"
     ]
    }
   ],
   "source": [
    "sem_avg = 83\n",
    "final_exam = 95\n",
    "if sem_avg >= 90 or final_exam >= 90:\n",
    "    print('Grade is A')\n",
    "else:\n",
    "    print('Grade is B')"
   ]
  },
  {
   "cell_type": "code",
   "execution_count": 28,
   "id": "7f6d29d7",
   "metadata": {},
   "outputs": [
    {
     "name": "stdout",
     "output_type": "stream",
     "text": [
      "The next grade is  87\n"
     ]
    }
   ],
   "source": [
    "grade = 87\n",
    "if not grade == -1:\n",
    "    print('The next grade is ', grade)"
   ]
  },
  {
   "cell_type": "markdown",
   "id": "f63e53d8",
   "metadata": {},
   "source": [
    "# mean median and mode"
   ]
  },
  {
   "cell_type": "code",
   "execution_count": 30,
   "id": "38f0a309",
   "metadata": {},
   "outputs": [
    {
     "name": "stdout",
     "output_type": "stream",
     "text": [
      "79.4\n"
     ]
    }
   ],
   "source": [
    "grades = [85, 93, 45, 89, 85]\n",
    "avg = sum(grades) /len(grades)\n",
    "print(avg)"
   ]
  },
  {
   "cell_type": "code",
   "execution_count": 33,
   "id": "82a63e4b",
   "metadata": {},
   "outputs": [],
   "source": [
    "import statistics"
   ]
  },
  {
   "cell_type": "code",
   "execution_count": 34,
   "id": "1f77c9fb",
   "metadata": {},
   "outputs": [
    {
     "data": {
      "text/plain": [
       "79.4"
      ]
     },
     "execution_count": 34,
     "metadata": {},
     "output_type": "execute_result"
    }
   ],
   "source": [
    "statistics.mean(grades)"
   ]
  },
  {
   "cell_type": "code",
   "execution_count": 35,
   "id": "3098a158",
   "metadata": {},
   "outputs": [
    {
     "data": {
      "text/plain": [
       "85"
      ]
     },
     "execution_count": 35,
     "metadata": {},
     "output_type": "execute_result"
    }
   ],
   "source": [
    "statistics.median(grades)"
   ]
  },
  {
   "cell_type": "code",
   "execution_count": 36,
   "id": "1aa34c89",
   "metadata": {},
   "outputs": [
    {
     "data": {
      "text/plain": [
       "85"
      ]
     },
     "execution_count": 36,
     "metadata": {},
     "output_type": "execute_result"
    }
   ],
   "source": [
    "# you may not get the correct mode \n",
    "# if you are there are more than one equal values\n",
    "# you get statistics error\n",
    "statistics.mode(grades)"
   ]
  },
  {
   "cell_type": "markdown",
   "id": "3c47ed4e",
   "metadata": {},
   "source": [
    "# sorted function"
   ]
  },
  {
   "cell_type": "code",
   "execution_count": 37,
   "id": "31adeff4",
   "metadata": {},
   "outputs": [
    {
     "data": {
      "text/plain": [
       "[45, 85, 85, 89, 93]"
      ]
     },
     "execution_count": 37,
     "metadata": {},
     "output_type": "execute_result"
    }
   ],
   "source": [
    "sorted(grades)"
   ]
  },
  {
   "cell_type": "code",
   "execution_count": 38,
   "id": "f53fb583",
   "metadata": {},
   "outputs": [
    {
     "data": {
      "text/plain": [
       "[85, 93, 45, 89, 85]"
      ]
     },
     "execution_count": 38,
     "metadata": {},
     "output_type": "execute_result"
    }
   ],
   "source": [
    "# grades is unchanged with sorted\n",
    "grades"
   ]
  },
  {
   "cell_type": "code",
   "execution_count": null,
   "id": "63a3cd26",
   "metadata": {},
   "outputs": [],
   "source": []
  }
 ],
 "metadata": {
  "kernelspec": {
   "display_name": "Python 3",
   "language": "python",
   "name": "python3"
  },
  "language_info": {
   "codemirror_mode": {
    "name": "ipython",
    "version": 3
   },
   "file_extension": ".py",
   "mimetype": "text/x-python",
   "name": "python",
   "nbconvert_exporter": "python",
   "pygments_lexer": "ipython3",
   "version": "3.8.10"
  }
 },
 "nbformat": 4,
 "nbformat_minor": 5
}
