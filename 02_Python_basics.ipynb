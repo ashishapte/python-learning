{
 "cells": [
  {
   "cell_type": "markdown",
   "id": "6cc8866c",
   "metadata": {},
   "source": [
    "# functions"
   ]
  },
  {
   "cell_type": "code",
   "execution_count": 12,
   "id": "a5d25d72",
   "metadata": {},
   "outputs": [],
   "source": [
    "# Function Definition\n",
    "# By default function returns None\n",
    "def square(number):\n",
    "    \"\"\"calculate square of number\"\"\"\n",
    "    return number ** 2\n",
    "\n",
    "def square_root(number):\n",
    "    \"\"\"calculate square of number\"\"\"\n",
    "    return number ** (1/2)"
   ]
  },
  {
   "cell_type": "code",
   "execution_count": 10,
   "id": "fc583b6f",
   "metadata": {},
   "outputs": [
    {
     "data": {
      "text/plain": [
       "6.25"
      ]
     },
     "execution_count": 10,
     "metadata": {},
     "output_type": "execute_result"
    }
   ],
   "source": [
    "# calling a function\n",
    "square(7)\n",
    "square(2.5)"
   ]
  },
  {
   "cell_type": "code",
   "execution_count": 14,
   "id": "e28336ee",
   "metadata": {},
   "outputs": [
    {
     "data": {
      "text/plain": [
       "2.5"
      ]
     },
     "execution_count": 14,
     "metadata": {},
     "output_type": "execute_result"
    }
   ],
   "source": [
    "square_root(25)\n",
    "square_root(6.25)"
   ]
  },
  {
   "cell_type": "code",
   "execution_count": 5,
   "id": "77658709",
   "metadata": {},
   "outputs": [
    {
     "ename": "NameError",
     "evalue": "name 'number' is not defined",
     "output_type": "error",
     "traceback": [
      "\u001b[0;31m---------------------------------------------------------------------------\u001b[0m",
      "\u001b[0;31mNameError\u001b[0m                                 Traceback (most recent call last)",
      "\u001b[0;32m<ipython-input-5-03090db32dff>\u001b[0m in \u001b[0;36m<module>\u001b[0;34m\u001b[0m\n\u001b[0;32m----> 1\u001b[0;31m \u001b[0mprint\u001b[0m\u001b[0;34m(\u001b[0m\u001b[0mnumber\u001b[0m\u001b[0;34m)\u001b[0m\u001b[0;34m\u001b[0m\u001b[0;34m\u001b[0m\u001b[0m\n\u001b[0m",
      "\u001b[0;31mNameError\u001b[0m: name 'number' is not defined"
     ]
    }
   ],
   "source": [
    "# getting NameError as number is available only in function scope.\n",
    "print(number)"
   ]
  },
  {
   "cell_type": "code",
   "execution_count": 7,
   "id": "f43a64a8",
   "metadata": {},
   "outputs": [],
   "source": [
    "# prints docstring and signature of a function.\n",
    "square?"
   ]
  },
  {
   "cell_type": "code",
   "execution_count": 8,
   "id": "005e8912",
   "metadata": {},
   "outputs": [],
   "source": [
    "# prvoides complete source code (definition of function)\n",
    "square??"
   ]
  },
  {
   "cell_type": "markdown",
   "id": "2e234155",
   "metadata": {},
   "source": [
    "# min and max"
   ]
  },
  {
   "cell_type": "code",
   "execution_count": 15,
   "id": "d902614b",
   "metadata": {},
   "outputs": [
    {
     "data": {
      "text/plain": [
       "27"
      ]
     },
     "execution_count": 15,
     "metadata": {},
     "output_type": "execute_result"
    }
   ],
   "source": [
    "# passing a list to max built in function.\n",
    "max([14,27,5,3])"
   ]
  },
  {
   "cell_type": "code",
   "execution_count": 16,
   "id": "802fda3a",
   "metadata": {},
   "outputs": [
    {
     "data": {
      "text/plain": [
       "'a'"
      ]
     },
     "execution_count": 16,
     "metadata": {},
     "output_type": "execute_result"
    }
   ],
   "source": [
    "min('orange')"
   ]
  },
  {
   "cell_type": "markdown",
   "id": "a5da07ca",
   "metadata": {},
   "source": [
    "# Simulation - random number"
   ]
  },
  {
   "cell_type": "code",
   "execution_count": 19,
   "id": "65ab1890",
   "metadata": {},
   "outputs": [],
   "source": [
    "import random"
   ]
  },
  {
   "cell_type": "code",
   "execution_count": 22,
   "id": "520bed3f",
   "metadata": {},
   "outputs": [
    {
     "name": "stdout",
     "output_type": "stream",
     "text": [
      "1 6 3 4 3 2 2 2 3 2 "
     ]
    }
   ],
   "source": [
    "# randrange retruns random value between [)\n",
    "for roll in range(10):\n",
    "    print(random.randrange(1,7), end=' ')"
   ]
  },
  {
   "cell_type": "code",
   "execution_count": 24,
   "id": "5ceadf28",
   "metadata": {},
   "outputs": [
    {
     "name": "stdout",
     "output_type": "stream",
     "text": [
      "1 2 2 3 6 2 4 1 6 1 "
     ]
    }
   ],
   "source": [
    "# random with seed\n",
    "# same set of random numbers \n",
    "random.seed(32)\n",
    "for roll in range(10):\n",
    "    print(random.randrange(1,7), end=' ')"
   ]
  },
  {
   "cell_type": "code",
   "execution_count": 30,
   "id": "a0aae847",
   "metadata": {},
   "outputs": [
    {
     "name": "stdout",
     "output_type": "stream",
     "text": [
      "T H T H H T H T T H H T T T H T H H T H H H H T H "
     ]
    }
   ],
   "source": [
    "# Use random numbers to simulate number of coin flips \n",
    "# and disply H for heads and T for tails\n",
    "import random\n",
    "def coin_flip(number):\n",
    "    for i in range(number):\n",
    "        print('H' if random.randrange(2) == 0 else 'T', end=' ')\n",
    "        \n",
    "coin_flip(10)\n",
    "coin_flip(15)"
   ]
  },
  {
   "cell_type": "markdown",
   "id": "442f0a77",
   "metadata": {},
   "source": [
    "# Game of Chance"
   ]
  },
  {
   "cell_type": "code",
   "execution_count": 56,
   "id": "c3d4efe9",
   "metadata": {},
   "outputs": [
    {
     "name": "stdout",
     "output_type": "stream",
     "text": [
      "First Roll : 6   , Second Roll :          3    and Sum : 9   \n",
      "my Point is 9\n",
      "First Roll : 4   , Second Roll :          1    and Sum : 5   \n",
      "First Roll : 1   , Second Roll :          5    and Sum : 6   \n",
      "First Roll : 2   , Second Roll :          1    and Sum : 3   \n",
      "First Roll : 1   , Second Roll :          5    and Sum : 6   \n",
      "First Roll : 6   , Second Roll :          2    and Sum : 8   \n",
      "First Roll : 6   , Second Roll :          5    and Sum : 11  \n",
      "First Roll : 3   , Second Roll :          4    and Sum : 7   \n",
      "Player Lost\n"
     ]
    }
   ],
   "source": [
    "import random\n",
    "\n",
    "def roll_dice():\n",
    "    \"\"\"Roll two dice and return face value\"\"\"\n",
    "    dice1 = random.randrange(1,7)\n",
    "    dice2 = random.randrange(1,7)\n",
    "    return dice1, dice2\n",
    "\n",
    "def display(dice_values):\n",
    "    dice1, dice2 = dice_values\n",
    "    print(f\"First Roll : {dice1:<4}, Second Roll :\\\n",
    "          {dice2:<4} and Sum : {dice1 + dice2:<4}\")\n",
    "\n",
    "values = roll_dice()\n",
    "display(values)\n",
    "\n",
    "if sum(values) in (7, 11):\n",
    "    game_status = \"you-win\"\n",
    "elif sum(values) in (2, 3, 12):\n",
    "    game_status = \"you-lose\"\n",
    "else:\n",
    "    game_status = \"continue\"\n",
    "    my_point = sum(values)\n",
    "    print(f\"my Point is {my_point}\")\n",
    "\n",
    "while game_status == 'continue':\n",
    "    values = roll_dice()\n",
    "    display(values)\n",
    "    if sum(values) == my_point:\n",
    "        game_status = 'continue'\n",
    "    elif sum(values) == 7:\n",
    "        game_status = 'you-lose'\n",
    "\n",
    "\n",
    "if game_status == 'you-win':\n",
    "    print('Player Won')\n",
    "else:\n",
    "    print('Player Lost')\n",
    "    \n",
    "    \n",
    "    \n"
   ]
  }
 ],
 "metadata": {
  "kernelspec": {
   "display_name": "Python 3",
   "language": "python",
   "name": "python3"
  },
  "language_info": {
   "codemirror_mode": {
    "name": "ipython",
    "version": 3
   },
   "file_extension": ".py",
   "mimetype": "text/x-python",
   "name": "python",
   "nbconvert_exporter": "python",
   "pygments_lexer": "ipython3",
   "version": "3.8.10"
  }
 },
 "nbformat": 4,
 "nbformat_minor": 5
}
